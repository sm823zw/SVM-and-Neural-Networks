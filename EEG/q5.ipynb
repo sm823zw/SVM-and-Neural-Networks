{
 "metadata": {
  "language_info": {
   "codemirror_mode": {
    "name": "ipython",
    "version": 3
   },
   "file_extension": ".py",
   "mimetype": "text/x-python",
   "name": "python",
   "nbconvert_exporter": "python",
   "pygments_lexer": "ipython3",
   "version": "3.8.0"
  },
  "orig_nbformat": 2,
  "kernelspec": {
   "name": "python380jvsc74a57bd08edf8cbb509fdf3d46e061f30af3d9278aa0b7efb734bc4d8f02fc9816eea4c1",
   "display_name": "Python 3.8.0 64-bit ('tf2.4': conda)"
  }
 },
 "nbformat": 4,
 "nbformat_minor": 2,
 "cells": [
  {
   "cell_type": "code",
   "execution_count": 1,
   "metadata": {},
   "outputs": [],
   "source": [
    "import numpy as np\n",
    "import tensorflow as tf\n",
    "import matplotlib.pyplot as plt\n",
    "import pandas as pd\n",
    "import seaborn as sns"
   ]
  },
  {
   "cell_type": "code",
   "execution_count": 2,
   "metadata": {},
   "outputs": [],
   "source": [
    "physical_devices = tf.config.list_physical_devices('GPU') \n",
    "tf.config.experimental.set_memory_growth(physical_devices[0], True)"
   ]
  },
  {
   "cell_type": "code",
   "execution_count": 3,
   "metadata": {},
   "outputs": [],
   "source": [
    "path = 'eeg_data.csv'\n",
    "D = 178"
   ]
  },
  {
   "cell_type": "code",
   "execution_count": 4,
   "metadata": {},
   "outputs": [],
   "source": [
    "data = pd.read_csv(path)"
   ]
  },
  {
   "cell_type": "code",
   "execution_count": 5,
   "metadata": {},
   "outputs": [
    {
     "output_type": "execute_result",
     "data": {
      "text/plain": [
       "        X1   X2   X3   X4   X5   X6   X7   X8   X9  X10  ...  X170  X171  \\\n",
       "0      135  190  229  223  192  125   55   -9  -33  -38  ...   -17   -15   \n",
       "1      386  382  356  331  320  315  307  272  244  232  ...   164   150   \n",
       "2      -32  -39  -47  -37  -32  -36  -57  -73  -85  -94  ...    57    64   \n",
       "3     -105 -101  -96  -92  -89  -95 -102 -100  -87  -79  ...   -82   -81   \n",
       "4       -9  -65  -98 -102  -78  -48  -16    0  -21  -59  ...     4     2   \n",
       "...    ...  ...  ...  ...  ...  ...  ...  ...  ...  ...  ...   ...   ...   \n",
       "11495  -22  -22  -23  -26  -36  -42  -45  -42  -45  -49  ...    15    16   \n",
       "11496  -47  -11   28   77  141  211  246  240  193  136  ...   -65   -33   \n",
       "11497   14    6  -13  -16   10   26   27   -9    4   14  ...   -65   -48   \n",
       "11498  -40  -25   -9  -12   -2   12    7   19   22   29  ...   121   135   \n",
       "11499   29   41   57   72   74   62   54   43   31   23  ...   -59   -25   \n",
       "\n",
       "       X172  X173  X174  X175  X176  X177  X178  y  \n",
       "0       -31   -77  -103  -127  -116   -83   -51  4  \n",
       "1       146   152   157   156   154   143   129  1  \n",
       "2        48    19   -12   -30   -35   -35   -36  5  \n",
       "3       -80   -77   -85   -77   -72   -69   -65  5  \n",
       "4       -12   -32   -41   -65   -83   -89   -73  5  \n",
       "...     ...   ...   ...   ...   ...   ...   ... ..  \n",
       "11495    12     5    -1   -18   -37   -47   -48  2  \n",
       "11496    -7    14    27    48    77   117   170  1  \n",
       "11497   -61   -62   -67   -30    -2    -1    -8  5  \n",
       "11498   148   143   116    86    68    59    55  3  \n",
       "11499    -4     2     5     4    -2     2    20  4  \n",
       "\n",
       "[11500 rows x 179 columns]"
      ],
      "text/html": "<div>\n<style scoped>\n    .dataframe tbody tr th:only-of-type {\n        vertical-align: middle;\n    }\n\n    .dataframe tbody tr th {\n        vertical-align: top;\n    }\n\n    .dataframe thead th {\n        text-align: right;\n    }\n</style>\n<table border=\"1\" class=\"dataframe\">\n  <thead>\n    <tr style=\"text-align: right;\">\n      <th></th>\n      <th>X1</th>\n      <th>X2</th>\n      <th>X3</th>\n      <th>X4</th>\n      <th>X5</th>\n      <th>X6</th>\n      <th>X7</th>\n      <th>X8</th>\n      <th>X9</th>\n      <th>X10</th>\n      <th>...</th>\n      <th>X170</th>\n      <th>X171</th>\n      <th>X172</th>\n      <th>X173</th>\n      <th>X174</th>\n      <th>X175</th>\n      <th>X176</th>\n      <th>X177</th>\n      <th>X178</th>\n      <th>y</th>\n    </tr>\n  </thead>\n  <tbody>\n    <tr>\n      <th>0</th>\n      <td>135</td>\n      <td>190</td>\n      <td>229</td>\n      <td>223</td>\n      <td>192</td>\n      <td>125</td>\n      <td>55</td>\n      <td>-9</td>\n      <td>-33</td>\n      <td>-38</td>\n      <td>...</td>\n      <td>-17</td>\n      <td>-15</td>\n      <td>-31</td>\n      <td>-77</td>\n      <td>-103</td>\n      <td>-127</td>\n      <td>-116</td>\n      <td>-83</td>\n      <td>-51</td>\n      <td>4</td>\n    </tr>\n    <tr>\n      <th>1</th>\n      <td>386</td>\n      <td>382</td>\n      <td>356</td>\n      <td>331</td>\n      <td>320</td>\n      <td>315</td>\n      <td>307</td>\n      <td>272</td>\n      <td>244</td>\n      <td>232</td>\n      <td>...</td>\n      <td>164</td>\n      <td>150</td>\n      <td>146</td>\n      <td>152</td>\n      <td>157</td>\n      <td>156</td>\n      <td>154</td>\n      <td>143</td>\n      <td>129</td>\n      <td>1</td>\n    </tr>\n    <tr>\n      <th>2</th>\n      <td>-32</td>\n      <td>-39</td>\n      <td>-47</td>\n      <td>-37</td>\n      <td>-32</td>\n      <td>-36</td>\n      <td>-57</td>\n      <td>-73</td>\n      <td>-85</td>\n      <td>-94</td>\n      <td>...</td>\n      <td>57</td>\n      <td>64</td>\n      <td>48</td>\n      <td>19</td>\n      <td>-12</td>\n      <td>-30</td>\n      <td>-35</td>\n      <td>-35</td>\n      <td>-36</td>\n      <td>5</td>\n    </tr>\n    <tr>\n      <th>3</th>\n      <td>-105</td>\n      <td>-101</td>\n      <td>-96</td>\n      <td>-92</td>\n      <td>-89</td>\n      <td>-95</td>\n      <td>-102</td>\n      <td>-100</td>\n      <td>-87</td>\n      <td>-79</td>\n      <td>...</td>\n      <td>-82</td>\n      <td>-81</td>\n      <td>-80</td>\n      <td>-77</td>\n      <td>-85</td>\n      <td>-77</td>\n      <td>-72</td>\n      <td>-69</td>\n      <td>-65</td>\n      <td>5</td>\n    </tr>\n    <tr>\n      <th>4</th>\n      <td>-9</td>\n      <td>-65</td>\n      <td>-98</td>\n      <td>-102</td>\n      <td>-78</td>\n      <td>-48</td>\n      <td>-16</td>\n      <td>0</td>\n      <td>-21</td>\n      <td>-59</td>\n      <td>...</td>\n      <td>4</td>\n      <td>2</td>\n      <td>-12</td>\n      <td>-32</td>\n      <td>-41</td>\n      <td>-65</td>\n      <td>-83</td>\n      <td>-89</td>\n      <td>-73</td>\n      <td>5</td>\n    </tr>\n    <tr>\n      <th>...</th>\n      <td>...</td>\n      <td>...</td>\n      <td>...</td>\n      <td>...</td>\n      <td>...</td>\n      <td>...</td>\n      <td>...</td>\n      <td>...</td>\n      <td>...</td>\n      <td>...</td>\n      <td>...</td>\n      <td>...</td>\n      <td>...</td>\n      <td>...</td>\n      <td>...</td>\n      <td>...</td>\n      <td>...</td>\n      <td>...</td>\n      <td>...</td>\n      <td>...</td>\n      <td>...</td>\n    </tr>\n    <tr>\n      <th>11495</th>\n      <td>-22</td>\n      <td>-22</td>\n      <td>-23</td>\n      <td>-26</td>\n      <td>-36</td>\n      <td>-42</td>\n      <td>-45</td>\n      <td>-42</td>\n      <td>-45</td>\n      <td>-49</td>\n      <td>...</td>\n      <td>15</td>\n      <td>16</td>\n      <td>12</td>\n      <td>5</td>\n      <td>-1</td>\n      <td>-18</td>\n      <td>-37</td>\n      <td>-47</td>\n      <td>-48</td>\n      <td>2</td>\n    </tr>\n    <tr>\n      <th>11496</th>\n      <td>-47</td>\n      <td>-11</td>\n      <td>28</td>\n      <td>77</td>\n      <td>141</td>\n      <td>211</td>\n      <td>246</td>\n      <td>240</td>\n      <td>193</td>\n      <td>136</td>\n      <td>...</td>\n      <td>-65</td>\n      <td>-33</td>\n      <td>-7</td>\n      <td>14</td>\n      <td>27</td>\n      <td>48</td>\n      <td>77</td>\n      <td>117</td>\n      <td>170</td>\n      <td>1</td>\n    </tr>\n    <tr>\n      <th>11497</th>\n      <td>14</td>\n      <td>6</td>\n      <td>-13</td>\n      <td>-16</td>\n      <td>10</td>\n      <td>26</td>\n      <td>27</td>\n      <td>-9</td>\n      <td>4</td>\n      <td>14</td>\n      <td>...</td>\n      <td>-65</td>\n      <td>-48</td>\n      <td>-61</td>\n      <td>-62</td>\n      <td>-67</td>\n      <td>-30</td>\n      <td>-2</td>\n      <td>-1</td>\n      <td>-8</td>\n      <td>5</td>\n    </tr>\n    <tr>\n      <th>11498</th>\n      <td>-40</td>\n      <td>-25</td>\n      <td>-9</td>\n      <td>-12</td>\n      <td>-2</td>\n      <td>12</td>\n      <td>7</td>\n      <td>19</td>\n      <td>22</td>\n      <td>29</td>\n      <td>...</td>\n      <td>121</td>\n      <td>135</td>\n      <td>148</td>\n      <td>143</td>\n      <td>116</td>\n      <td>86</td>\n      <td>68</td>\n      <td>59</td>\n      <td>55</td>\n      <td>3</td>\n    </tr>\n    <tr>\n      <th>11499</th>\n      <td>29</td>\n      <td>41</td>\n      <td>57</td>\n      <td>72</td>\n      <td>74</td>\n      <td>62</td>\n      <td>54</td>\n      <td>43</td>\n      <td>31</td>\n      <td>23</td>\n      <td>...</td>\n      <td>-59</td>\n      <td>-25</td>\n      <td>-4</td>\n      <td>2</td>\n      <td>5</td>\n      <td>4</td>\n      <td>-2</td>\n      <td>2</td>\n      <td>20</td>\n      <td>4</td>\n    </tr>\n  </tbody>\n</table>\n<p>11500 rows × 179 columns</p>\n</div>"
     },
     "metadata": {},
     "execution_count": 5
    }
   ],
   "source": [
    "data"
   ]
  },
  {
   "cell_type": "code",
   "execution_count": 6,
   "metadata": {},
   "outputs": [
    {
     "output_type": "stream",
     "name": "stdout",
     "text": [
      "(11500, 178) (11500, 1)\n"
     ]
    }
   ],
   "source": [
    "X = np.array(data.iloc[:,:D])\n",
    "y = np.array(data.iloc[:, D])\n",
    "yy = list(y)\n",
    "y = y.reshape(y.shape[0], 1)\n",
    "print(X.shape, y.shape)"
   ]
  },
  {
   "cell_type": "code",
   "execution_count": 7,
   "metadata": {},
   "outputs": [
    {
     "output_type": "stream",
     "name": "stdout",
     "text": [
      "2300\n2300\n2300\n2300\n2300\n"
     ]
    }
   ],
   "source": [
    "for i in range(1, 6):\n",
    "    print(yy.count(i))"
   ]
  },
  {
   "cell_type": "code",
   "execution_count": 8,
   "metadata": {},
   "outputs": [],
   "source": [
    "from sklearn.preprocessing import StandardScaler\n",
    "scaler = StandardScaler()\n",
    "X = scaler.fit_transform(X)"
   ]
  },
  {
   "cell_type": "code",
   "execution_count": 9,
   "metadata": {},
   "outputs": [],
   "source": [
    "from sklearn.preprocessing import OneHotEncoder\n",
    "ohe = OneHotEncoder()\n",
    "y = ohe.fit_transform(y).toarray()"
   ]
  },
  {
   "cell_type": "code",
   "execution_count": 10,
   "metadata": {},
   "outputs": [
    {
     "output_type": "execute_result",
     "data": {
      "text/plain": [
       "array([[0., 0., 0., 1., 0.],\n",
       "       [1., 0., 0., 0., 0.],\n",
       "       [0., 0., 0., 0., 1.],\n",
       "       ...,\n",
       "       [0., 0., 0., 0., 1.],\n",
       "       [0., 0., 1., 0., 0.],\n",
       "       [0., 0., 0., 1., 0.]])"
      ]
     },
     "metadata": {},
     "execution_count": 10
    }
   ],
   "source": [
    "y"
   ]
  },
  {
   "cell_type": "code",
   "execution_count": 11,
   "metadata": {},
   "outputs": [],
   "source": [
    "from sklearn.model_selection import train_test_split\n",
    "X_train, X_test, y_train, y_test = train_test_split(X, y, test_size = 0.1)"
   ]
  },
  {
   "cell_type": "code",
   "execution_count": 12,
   "metadata": {},
   "outputs": [
    {
     "output_type": "execute_result",
     "data": {
      "text/plain": [
       "(10350, 178)"
      ]
     },
     "metadata": {},
     "execution_count": 12
    }
   ],
   "source": [
    "X_train.shape"
   ]
  },
  {
   "cell_type": "code",
   "execution_count": 13,
   "metadata": {},
   "outputs": [
    {
     "output_type": "stream",
     "name": "stdout",
     "text": [
      "Model: \"sequential\"\n_________________________________________________________________\nLayer (type)                 Output Shape              Param #   \n=================================================================\ndense (Dense)                (None, 128)               22912     \n_________________________________________________________________\nre_lu (ReLU)                 (None, 128)               0         \n_________________________________________________________________\ndropout (Dropout)            (None, 128)               0         \n_________________________________________________________________\ndense_1 (Dense)              (None, 256)               33024     \n_________________________________________________________________\nre_lu_1 (ReLU)               (None, 256)               0         \n_________________________________________________________________\ndropout_1 (Dropout)          (None, 256)               0         \n_________________________________________________________________\ndense_2 (Dense)              (None, 32)                8224      \n_________________________________________________________________\nre_lu_2 (ReLU)               (None, 32)                0         \n_________________________________________________________________\ndropout_2 (Dropout)          (None, 32)                0         \n_________________________________________________________________\ndense_3 (Dense)              (None, 5)                 165       \n=================================================================\nTotal params: 64,325\nTrainable params: 64,325\nNon-trainable params: 0\n_________________________________________________________________\n"
     ]
    }
   ],
   "source": [
    "lam = tf.keras.regularizers.l2(l=0.01)\n",
    "init = tf.initializers.he_normal()\n",
    "model = tf.keras.Sequential([\n",
    "    tf.keras.layers.Dense(128, input_dim=178, kernel_initializer=init, kernel_regularizer=lam),\n",
    "    # tf.keras.layers.BatchNormalization(),\n",
    "    tf.keras.layers.ReLU(),\n",
    "    tf.keras.layers.Dropout(0.1),\n",
    "\n",
    "    tf.keras.layers.Dense(256, kernel_initializer=init, kernel_regularizer=lam),\n",
    "    # tf.keras.layers.BatchNormalization(),\n",
    "    tf.keras.layers.ReLU(),\n",
    "    tf.keras.layers.Dropout(0.1),\n",
    "\n",
    "    tf.keras.layers.Dense(32, kernel_initializer=init, kernel_regularizer=lam),\n",
    "    # tf.keras.layers.BatchNormalization(),\n",
    "    tf.keras.layers.ReLU(),\n",
    "    tf.keras.layers.Dropout(0.1),\n",
    "\n",
    "    # tf.keras.layers.Dense(32, kernel_initializer=init, kernel_regularizer=lam),\n",
    "    # # tf.keras.layers.BatchNormalization(),\n",
    "    # tf.keras.layers.ReLU(),\n",
    "    # tf.keras.layers.Dropout(0.1),\n",
    "\n",
    "    tf.keras.layers.Dense(5, activation='softmax')\n",
    "])\n",
    "model.summary()"
   ]
  },
  {
   "cell_type": "code",
   "execution_count": 14,
   "metadata": {},
   "outputs": [],
   "source": [
    "opt = tf.keras.optimizers.SGD(learning_rate=0.01)\n",
    "# reduce_lr = tf.keras.callbacks.ReduceLROnPlateau(monitor='val_loss', factor=0.1, patience=5, min_lr=0.001)\n",
    "# early_stop = tf.keras.callbacks.EarlyStopping(monitor='val_loss', patience=5)\n",
    "model.compile(loss='categorical_crossentropy', optimizer=opt, metrics=['accuracy'])"
   ]
  },
  {
   "cell_type": "code",
   "execution_count": 15,
   "metadata": {
    "tags": []
   },
   "outputs": [
    {
     "output_type": "stream",
     "name": "stdout",
     "text": [
      "Epoch 1/100\n",
      "292/292 [==============================] - 7s 15ms/step - loss: 9.6616 - accuracy: 0.2609 - val_loss: 8.7633 - val_accuracy: 0.3971\n",
      "Epoch 2/100\n",
      "292/292 [==============================] - 2s 7ms/step - loss: 8.5371 - accuracy: 0.4016 - val_loss: 7.8758 - val_accuracy: 0.4512\n",
      "Epoch 3/100\n",
      "292/292 [==============================] - 2s 6ms/step - loss: 7.6898 - accuracy: 0.4350 - val_loss: 7.1033 - val_accuracy: 0.4667\n",
      "Epoch 4/100\n",
      "292/292 [==============================] - 2s 6ms/step - loss: 6.9372 - accuracy: 0.4673 - val_loss: 6.4239 - val_accuracy: 0.5005\n",
      "Epoch 5/100\n",
      "292/292 [==============================] - 2s 6ms/step - loss: 6.2684 - accuracy: 0.4999 - val_loss: 5.8174 - val_accuracy: 0.5150\n",
      "Epoch 6/100\n",
      "292/292 [==============================] - 2s 6ms/step - loss: 5.6737 - accuracy: 0.5303 - val_loss: 5.2783 - val_accuracy: 0.5304\n",
      "Epoch 7/100\n",
      "292/292 [==============================] - 2s 6ms/step - loss: 5.1610 - accuracy: 0.5336 - val_loss: 4.7975 - val_accuracy: 0.5343\n",
      "Epoch 8/100\n",
      "292/292 [==============================] - 2s 6ms/step - loss: 4.6735 - accuracy: 0.5550 - val_loss: 4.3651 - val_accuracy: 0.5527\n",
      "Epoch 9/100\n",
      "292/292 [==============================] - 2s 6ms/step - loss: 4.2564 - accuracy: 0.5739 - val_loss: 3.9794 - val_accuracy: 0.5710\n",
      "Epoch 10/100\n",
      "292/292 [==============================] - 2s 6ms/step - loss: 3.8805 - accuracy: 0.5839 - val_loss: 3.6341 - val_accuracy: 0.5932\n",
      "Epoch 11/100\n",
      "292/292 [==============================] - 2s 6ms/step - loss: 3.5512 - accuracy: 0.6037 - val_loss: 3.3247 - val_accuracy: 0.5990\n",
      "Epoch 12/100\n",
      "292/292 [==============================] - 2s 6ms/step - loss: 3.2341 - accuracy: 0.6243 - val_loss: 3.0590 - val_accuracy: 0.6097\n",
      "Epoch 13/100\n",
      "292/292 [==============================] - 2s 6ms/step - loss: 2.9770 - accuracy: 0.6249 - val_loss: 2.8199 - val_accuracy: 0.6097\n",
      "Epoch 14/100\n",
      "292/292 [==============================] - 2s 6ms/step - loss: 2.7422 - accuracy: 0.6346 - val_loss: 2.6062 - val_accuracy: 0.6319\n",
      "Epoch 15/100\n",
      "292/292 [==============================] - 2s 6ms/step - loss: 2.5370 - accuracy: 0.6436 - val_loss: 2.4192 - val_accuracy: 0.6377\n",
      "Epoch 16/100\n",
      "292/292 [==============================] - 2s 5ms/step - loss: 2.3491 - accuracy: 0.6546 - val_loss: 2.2531 - val_accuracy: 0.6261\n",
      "Epoch 17/100\n",
      "292/292 [==============================] - 2s 5ms/step - loss: 2.1876 - accuracy: 0.6660 - val_loss: 2.1149 - val_accuracy: 0.6386\n",
      "Epoch 18/100\n",
      "292/292 [==============================] - 1s 5ms/step - loss: 2.0459 - accuracy: 0.6634 - val_loss: 1.9737 - val_accuracy: 0.6425\n",
      "Epoch 19/100\n",
      "292/292 [==============================] - 2s 5ms/step - loss: 1.9326 - accuracy: 0.6490 - val_loss: 1.8605 - val_accuracy: 0.6406\n",
      "Epoch 20/100\n",
      "292/292 [==============================] - 2s 5ms/step - loss: 1.8002 - accuracy: 0.6616 - val_loss: 1.7657 - val_accuracy: 0.6531\n",
      "Epoch 21/100\n",
      "292/292 [==============================] - 1s 5ms/step - loss: 1.7080 - accuracy: 0.6565 - val_loss: 1.6765 - val_accuracy: 0.6386\n",
      "Epoch 22/100\n",
      "292/292 [==============================] - 2s 5ms/step - loss: 1.5985 - accuracy: 0.6745 - val_loss: 1.5934 - val_accuracy: 0.6386\n",
      "Epoch 23/100\n",
      "292/292 [==============================] - 2s 5ms/step - loss: 1.5333 - accuracy: 0.6677 - val_loss: 1.5522 - val_accuracy: 0.6367\n",
      "Epoch 24/100\n",
      "292/292 [==============================] - 1s 5ms/step - loss: 1.4681 - accuracy: 0.6745 - val_loss: 1.4671 - val_accuracy: 0.6444\n",
      "Epoch 25/100\n",
      "292/292 [==============================] - 2s 5ms/step - loss: 1.4033 - accuracy: 0.6746 - val_loss: 1.4087 - val_accuracy: 0.6415\n",
      "Epoch 26/100\n",
      "292/292 [==============================] - 1s 5ms/step - loss: 1.3448 - accuracy: 0.6730 - val_loss: 1.3500 - val_accuracy: 0.6512\n",
      "Epoch 27/100\n",
      "292/292 [==============================] - 2s 6ms/step - loss: 1.2964 - accuracy: 0.6780 - val_loss: 1.3042 - val_accuracy: 0.6570\n",
      "Epoch 28/100\n",
      "292/292 [==============================] - 1s 5ms/step - loss: 1.2454 - accuracy: 0.6894 - val_loss: 1.2784 - val_accuracy: 0.6502\n",
      "Epoch 29/100\n",
      "292/292 [==============================] - 2s 5ms/step - loss: 1.2041 - accuracy: 0.6848 - val_loss: 1.2381 - val_accuracy: 0.6570\n",
      "Epoch 30/100\n",
      "292/292 [==============================] - 2s 6ms/step - loss: 1.1604 - accuracy: 0.6963 - val_loss: 1.2208 - val_accuracy: 0.6338\n",
      "Epoch 31/100\n",
      "292/292 [==============================] - 1s 5ms/step - loss: 1.1443 - accuracy: 0.6722 - val_loss: 1.2002 - val_accuracy: 0.6415\n",
      "Epoch 32/100\n",
      "292/292 [==============================] - 1s 5ms/step - loss: 1.1194 - accuracy: 0.6860 - val_loss: 1.3333 - val_accuracy: 0.6164\n",
      "Epoch 33/100\n",
      "292/292 [==============================] - 2s 5ms/step - loss: 1.1016 - accuracy: 0.6838 - val_loss: 1.1294 - val_accuracy: 0.6502\n",
      "Epoch 34/100\n",
      "292/292 [==============================] - 1s 5ms/step - loss: 1.0666 - accuracy: 0.6860 - val_loss: 1.1089 - val_accuracy: 0.6628\n",
      "Epoch 35/100\n",
      "292/292 [==============================] - 1s 5ms/step - loss: 1.0481 - accuracy: 0.6831 - val_loss: 1.0845 - val_accuracy: 0.6493\n",
      "Epoch 36/100\n",
      "292/292 [==============================] - 1s 5ms/step - loss: 1.0141 - accuracy: 0.6995 - val_loss: 1.0762 - val_accuracy: 0.6512\n",
      "Epoch 37/100\n",
      "292/292 [==============================] - 1s 5ms/step - loss: 1.0056 - accuracy: 0.6938 - val_loss: 1.0667 - val_accuracy: 0.6570\n",
      "Epoch 38/100\n",
      "292/292 [==============================] - 2s 5ms/step - loss: 0.9868 - accuracy: 0.6955 - val_loss: 1.0628 - val_accuracy: 0.6464\n",
      "Epoch 39/100\n",
      "292/292 [==============================] - 2s 5ms/step - loss: 0.9710 - accuracy: 0.6894 - val_loss: 1.0422 - val_accuracy: 0.6512\n",
      "Epoch 40/100\n",
      "292/292 [==============================] - 1s 5ms/step - loss: 0.9611 - accuracy: 0.7004 - val_loss: 1.0427 - val_accuracy: 0.6435\n",
      "Epoch 41/100\n",
      "292/292 [==============================] - 1s 5ms/step - loss: 0.9657 - accuracy: 0.6877 - val_loss: 1.0388 - val_accuracy: 0.6512\n",
      "Epoch 42/100\n",
      "292/292 [==============================] - 1s 5ms/step - loss: 0.9397 - accuracy: 0.6990 - val_loss: 1.0321 - val_accuracy: 0.6309\n",
      "Epoch 43/100\n",
      "292/292 [==============================] - 1s 5ms/step - loss: 0.9404 - accuracy: 0.7021 - val_loss: 0.9994 - val_accuracy: 0.6599\n",
      "Epoch 44/100\n",
      "292/292 [==============================] - 2s 5ms/step - loss: 0.9205 - accuracy: 0.6965 - val_loss: 1.0032 - val_accuracy: 0.6551\n",
      "Epoch 45/100\n",
      "292/292 [==============================] - 1s 5ms/step - loss: 0.9203 - accuracy: 0.6975 - val_loss: 0.9931 - val_accuracy: 0.6570\n",
      "Epoch 46/100\n",
      "292/292 [==============================] - 1s 5ms/step - loss: 0.9170 - accuracy: 0.6969 - val_loss: 0.9922 - val_accuracy: 0.6425\n",
      "Epoch 47/100\n",
      "292/292 [==============================] - 2s 6ms/step - loss: 0.9011 - accuracy: 0.7016 - val_loss: 0.9819 - val_accuracy: 0.6415\n",
      "Epoch 48/100\n",
      "292/292 [==============================] - 2s 6ms/step - loss: 0.8958 - accuracy: 0.7027 - val_loss: 0.9845 - val_accuracy: 0.6570\n",
      "Epoch 49/100\n",
      "292/292 [==============================] - 2s 6ms/step - loss: 0.8895 - accuracy: 0.7055 - val_loss: 0.9690 - val_accuracy: 0.6483\n",
      "Epoch 50/100\n",
      "292/292 [==============================] - 2s 6ms/step - loss: 0.8760 - accuracy: 0.7006 - val_loss: 0.9638 - val_accuracy: 0.6628\n",
      "Epoch 51/100\n",
      "292/292 [==============================] - 2s 6ms/step - loss: 0.8809 - accuracy: 0.7021 - val_loss: 0.9611 - val_accuracy: 0.6589\n",
      "Epoch 52/100\n",
      "292/292 [==============================] - 2s 6ms/step - loss: 0.8734 - accuracy: 0.7103 - val_loss: 1.0697 - val_accuracy: 0.6300\n",
      "Epoch 53/100\n",
      "292/292 [==============================] - 2s 7ms/step - loss: 0.8976 - accuracy: 0.6949 - val_loss: 0.9526 - val_accuracy: 0.6657\n",
      "Epoch 54/100\n",
      "292/292 [==============================] - 2s 6ms/step - loss: 0.8723 - accuracy: 0.7044 - val_loss: 0.9682 - val_accuracy: 0.6531\n",
      "Epoch 55/100\n",
      "292/292 [==============================] - 2s 6ms/step - loss: 0.8718 - accuracy: 0.7043 - val_loss: 0.9740 - val_accuracy: 0.6473\n",
      "Epoch 56/100\n",
      "292/292 [==============================] - 2s 6ms/step - loss: 0.8621 - accuracy: 0.7139 - val_loss: 0.9663 - val_accuracy: 0.6502\n",
      "Epoch 57/100\n",
      "292/292 [==============================] - 2s 5ms/step - loss: 0.8606 - accuracy: 0.7060 - val_loss: 0.9503 - val_accuracy: 0.6609\n",
      "Epoch 58/100\n",
      "292/292 [==============================] - 1s 5ms/step - loss: 0.8651 - accuracy: 0.7099 - val_loss: 0.9410 - val_accuracy: 0.6696\n",
      "Epoch 59/100\n",
      "292/292 [==============================] - 1s 5ms/step - loss: 0.8578 - accuracy: 0.7087 - val_loss: 0.9695 - val_accuracy: 0.6464\n",
      "Epoch 60/100\n",
      "292/292 [==============================] - 1s 5ms/step - loss: 0.8525 - accuracy: 0.7173 - val_loss: 0.9389 - val_accuracy: 0.6657\n",
      "Epoch 61/100\n",
      "292/292 [==============================] - 1s 5ms/step - loss: 0.8555 - accuracy: 0.7081 - val_loss: 0.9497 - val_accuracy: 0.6676\n",
      "Epoch 62/100\n",
      "292/292 [==============================] - 2s 5ms/step - loss: 0.8613 - accuracy: 0.7057 - val_loss: 1.0035 - val_accuracy: 0.6444\n",
      "Epoch 63/100\n",
      "292/292 [==============================] - 2s 5ms/step - loss: 0.8581 - accuracy: 0.7123 - val_loss: 0.9304 - val_accuracy: 0.6609\n",
      "Epoch 64/100\n",
      "292/292 [==============================] - 2s 6ms/step - loss: 0.8444 - accuracy: 0.7178 - val_loss: 0.9706 - val_accuracy: 0.6464\n",
      "Epoch 65/100\n",
      "292/292 [==============================] - 2s 6ms/step - loss: 0.8423 - accuracy: 0.7109 - val_loss: 0.9722 - val_accuracy: 0.6464\n",
      "Epoch 66/100\n",
      "292/292 [==============================] - 2s 5ms/step - loss: 0.8590 - accuracy: 0.6995 - val_loss: 0.9264 - val_accuracy: 0.6705\n",
      "Epoch 67/100\n",
      "292/292 [==============================] - 2s 5ms/step - loss: 0.8429 - accuracy: 0.7124 - val_loss: 0.9327 - val_accuracy: 0.6580\n",
      "Epoch 68/100\n",
      "292/292 [==============================] - 1s 5ms/step - loss: 0.8390 - accuracy: 0.7158 - val_loss: 0.9334 - val_accuracy: 0.6705\n",
      "Epoch 69/100\n",
      "292/292 [==============================] - 2s 5ms/step - loss: 0.8300 - accuracy: 0.7249 - val_loss: 1.0730 - val_accuracy: 0.6290\n",
      "Epoch 70/100\n",
      "292/292 [==============================] - 2s 5ms/step - loss: 0.8565 - accuracy: 0.7040 - val_loss: 0.9408 - val_accuracy: 0.6618\n",
      "Epoch 71/100\n",
      "292/292 [==============================] - 2s 5ms/step - loss: 0.8356 - accuracy: 0.7154 - val_loss: 0.9941 - val_accuracy: 0.6464\n",
      "Epoch 72/100\n",
      "292/292 [==============================] - 2s 6ms/step - loss: 0.8308 - accuracy: 0.7229 - val_loss: 0.9209 - val_accuracy: 0.6638\n",
      "Epoch 73/100\n",
      "292/292 [==============================] - 1s 5ms/step - loss: 0.8297 - accuracy: 0.7127 - val_loss: 0.9328 - val_accuracy: 0.6638\n",
      "Epoch 74/100\n",
      "292/292 [==============================] - 1s 5ms/step - loss: 0.8329 - accuracy: 0.7170 - val_loss: 0.9248 - val_accuracy: 0.6667\n",
      "Epoch 75/100\n",
      "292/292 [==============================] - 2s 5ms/step - loss: 0.8243 - accuracy: 0.7152 - val_loss: 1.0557 - val_accuracy: 0.6145\n",
      "Epoch 76/100\n",
      "292/292 [==============================] - 2s 5ms/step - loss: 0.8358 - accuracy: 0.7237 - val_loss: 0.9386 - val_accuracy: 0.6609\n",
      "Epoch 77/100\n",
      "292/292 [==============================] - 1s 5ms/step - loss: 0.8287 - accuracy: 0.7156 - val_loss: 0.9142 - val_accuracy: 0.6773\n",
      "Epoch 78/100\n",
      "292/292 [==============================] - 1s 5ms/step - loss: 0.8229 - accuracy: 0.7177 - val_loss: 0.9261 - val_accuracy: 0.6647\n",
      "Epoch 79/100\n",
      "292/292 [==============================] - 2s 5ms/step - loss: 0.8205 - accuracy: 0.7231 - val_loss: 0.9640 - val_accuracy: 0.6483\n",
      "Epoch 80/100\n",
      "292/292 [==============================] - 2s 6ms/step - loss: 0.8271 - accuracy: 0.7172 - val_loss: 0.9141 - val_accuracy: 0.6599\n",
      "Epoch 81/100\n",
      "292/292 [==============================] - 2s 6ms/step - loss: 0.8232 - accuracy: 0.7199 - val_loss: 0.9356 - val_accuracy: 0.6599\n",
      "Epoch 82/100\n",
      "292/292 [==============================] - 2s 7ms/step - loss: 0.8150 - accuracy: 0.7130 - val_loss: 0.9179 - val_accuracy: 0.6628\n",
      "Epoch 83/100\n",
      "292/292 [==============================] - 2s 7ms/step - loss: 0.8207 - accuracy: 0.7195 - val_loss: 0.9213 - val_accuracy: 0.6647\n",
      "Epoch 84/100\n",
      "292/292 [==============================] - 2s 5ms/step - loss: 0.8242 - accuracy: 0.7169 - val_loss: 0.9394 - val_accuracy: 0.6580\n",
      "Epoch 85/100\n",
      "292/292 [==============================] - 2s 6ms/step - loss: 0.8094 - accuracy: 0.7224 - val_loss: 0.9887 - val_accuracy: 0.6435\n",
      "Epoch 86/100\n",
      "292/292 [==============================] - 2s 6ms/step - loss: 0.8289 - accuracy: 0.7225 - val_loss: 0.9085 - val_accuracy: 0.6734\n",
      "Epoch 87/100\n",
      "292/292 [==============================] - 1s 5ms/step - loss: 0.8120 - accuracy: 0.7209 - val_loss: 0.9290 - val_accuracy: 0.6657\n",
      "Epoch 88/100\n",
      "292/292 [==============================] - 2s 5ms/step - loss: 0.8094 - accuracy: 0.7214 - val_loss: 0.9995 - val_accuracy: 0.6425\n",
      "Epoch 89/100\n",
      "292/292 [==============================] - 1s 5ms/step - loss: 0.8239 - accuracy: 0.7173 - val_loss: 0.9246 - val_accuracy: 0.6647\n",
      "Epoch 90/100\n",
      "292/292 [==============================] - 1s 5ms/step - loss: 0.8041 - accuracy: 0.7256 - val_loss: 0.9174 - val_accuracy: 0.6696\n",
      "Epoch 91/100\n",
      "292/292 [==============================] - 2s 6ms/step - loss: 0.8078 - accuracy: 0.7199 - val_loss: 0.9671 - val_accuracy: 0.6502\n",
      "Epoch 92/100\n",
      "292/292 [==============================] - 2s 5ms/step - loss: 0.8112 - accuracy: 0.7141 - val_loss: 0.9189 - val_accuracy: 0.6618\n",
      "Epoch 93/100\n",
      "292/292 [==============================] - 2s 6ms/step - loss: 0.8195 - accuracy: 0.7134 - val_loss: 0.9215 - val_accuracy: 0.6570\n",
      "Epoch 94/100\n",
      "292/292 [==============================] - 2s 6ms/step - loss: 0.8163 - accuracy: 0.7217 - val_loss: 0.9109 - val_accuracy: 0.6647\n",
      "Epoch 95/100\n",
      "292/292 [==============================] - 2s 6ms/step - loss: 0.8154 - accuracy: 0.7200 - val_loss: 0.9098 - val_accuracy: 0.6647\n",
      "Epoch 96/100\n",
      "292/292 [==============================] - 2s 7ms/step - loss: 0.8229 - accuracy: 0.7128 - val_loss: 0.9275 - val_accuracy: 0.6686\n",
      "Epoch 97/100\n",
      "292/292 [==============================] - 2s 7ms/step - loss: 0.8162 - accuracy: 0.7191 - val_loss: 0.9197 - val_accuracy: 0.6657\n",
      "Epoch 98/100\n",
      "292/292 [==============================] - 2s 7ms/step - loss: 0.8030 - accuracy: 0.7283 - val_loss: 0.9737 - val_accuracy: 0.6483\n",
      "Epoch 99/100\n",
      "292/292 [==============================] - 2s 6ms/step - loss: 0.8129 - accuracy: 0.7225 - val_loss: 0.9648 - val_accuracy: 0.6444\n",
      "Epoch 100/100\n",
      "292/292 [==============================] - 2s 5ms/step - loss: 0.8205 - accuracy: 0.7184 - val_loss: 0.9078 - val_accuracy: 0.6705\n"
     ]
    }
   ],
   "source": [
    "history = model.fit(X_train, y_train, epochs=100, batch_size=32, validation_split=0.1, shuffle=True)"
   ]
  },
  {
   "cell_type": "code",
   "execution_count": 16,
   "metadata": {},
   "outputs": [],
   "source": [
    "y_pred = model.predict(X_test)\n",
    "#Converting predictions to label\n",
    "pred = list()\n",
    "for i in range(len(y_pred)):\n",
    "    pred.append(np.argmax(y_pred[i]))\n",
    "#Converting one hot encoded test label to label\n",
    "test = list()\n",
    "for i in range(len(y_test)):\n",
    "    test.append(np.argmax(y_test[i]))"
   ]
  },
  {
   "cell_type": "code",
   "execution_count": 17,
   "metadata": {},
   "outputs": [
    {
     "output_type": "stream",
     "name": "stdout",
     "text": [
      "Accuracy is: 66.52173913043478\n"
     ]
    }
   ],
   "source": [
    "from sklearn.metrics import accuracy_score, confusion_matrix\n",
    "a = accuracy_score(pred,test)\n",
    "print('Accuracy is:', a*100)"
   ]
  },
  {
   "cell_type": "code",
   "execution_count": 18,
   "metadata": {},
   "outputs": [
    {
     "output_type": "execute_result",
     "data": {
      "text/plain": [
       "<AxesSubplot:>"
      ]
     },
     "metadata": {},
     "execution_count": 18
    },
    {
     "output_type": "display_data",
     "data": {
      "text/plain": "<Figure size 432x288 with 2 Axes>",
      "image/svg+xml": "<?xml version=\"1.0\" encoding=\"utf-8\" standalone=\"no\"?>\r\n<!DOCTYPE svg PUBLIC \"-//W3C//DTD SVG 1.1//EN\"\r\n  \"http://www.w3.org/Graphics/SVG/1.1/DTD/svg11.dtd\">\r\n<svg height=\"248.518125pt\" version=\"1.1\" viewBox=\"0 0 352.617625 248.518125\" width=\"352.617625pt\" xmlns=\"http://www.w3.org/2000/svg\" xmlns:xlink=\"http://www.w3.org/1999/xlink\">\r\n <metadata>\r\n  <rdf:RDF xmlns:cc=\"http://creativecommons.org/ns#\" xmlns:dc=\"http://purl.org/dc/elements/1.1/\" xmlns:rdf=\"http://www.w3.org/1999/02/22-rdf-syntax-ns#\">\r\n   <cc:Work>\r\n    <dc:type rdf:resource=\"http://purl.org/dc/dcmitype/StillImage\"/>\r\n    <dc:date>2021-05-19T21:25:57.712489</dc:date>\r\n    <dc:format>image/svg+xml</dc:format>\r\n    <dc:creator>\r\n     <cc:Agent>\r\n      <dc:title>Matplotlib v3.4.2, https://matplotlib.org/</dc:title>\r\n     </cc:Agent>\r\n    </dc:creator>\r\n   </cc:Work>\r\n  </rdf:RDF>\r\n </metadata>\r\n <defs>\r\n  <style type=\"text/css\">*{stroke-linecap:butt;stroke-linejoin:round;}</style>\r\n </defs>\r\n <g id=\"figure_1\">\r\n  <g id=\"patch_1\">\r\n   <path d=\"M -0 248.518125 \r\nL 352.617625 248.518125 \r\nL 352.617625 0 \r\nL -0 0 \r\nz\r\n\" style=\"fill:none;\"/>\r\n  </g>\r\n  <g id=\"axes_1\">\r\n   <g id=\"patch_2\">\r\n    <path d=\"M 23.878125 224.64 \r\nL 291.718125 224.64 \r\nL 291.718125 7.2 \r\nL 23.878125 7.2 \r\nz\r\n\" style=\"fill:#ffffff;\"/>\r\n   </g>\r\n   <g id=\"QuadMesh_1\">\r\n    <path clip-path=\"url(#pf067625723)\" d=\"M 23.878125 7.2 \r\nL 77.446125 7.2 \r\nL 77.446125 50.688 \r\nL 23.878125 50.688 \r\nL 23.878125 7.2 \r\n\" style=\"fill:#67000d;\"/>\r\n    <path clip-path=\"url(#pf067625723)\" d=\"M 77.446125 7.2 \r\nL 131.014125 7.2 \r\nL 131.014125 50.688 \r\nL 77.446125 50.688 \r\nL 77.446125 7.2 \r\n\" style=\"fill:#fff4ee;\"/>\r\n    <path clip-path=\"url(#pf067625723)\" d=\"M 131.014125 7.2 \r\nL 184.582125 7.2 \r\nL 184.582125 50.688 \r\nL 131.014125 50.688 \r\nL 131.014125 7.2 \r\n\" style=\"fill:#fff3ed;\"/>\r\n    <path clip-path=\"url(#pf067625723)\" d=\"M 184.582125 7.2 \r\nL 238.150125 7.2 \r\nL 238.150125 50.688 \r\nL 184.582125 50.688 \r\nL 184.582125 7.2 \r\n\" style=\"fill:#fff5f0;\"/>\r\n    <path clip-path=\"url(#pf067625723)\" d=\"M 238.150125 7.2 \r\nL 291.718125 7.2 \r\nL 291.718125 50.688 \r\nL 238.150125 50.688 \r\nL 238.150125 7.2 \r\n\" style=\"fill:#fff5f0;\"/>\r\n    <path clip-path=\"url(#pf067625723)\" d=\"M 23.878125 50.688 \r\nL 77.446125 50.688 \r\nL 77.446125 94.176 \r\nL 23.878125 94.176 \r\nL 23.878125 50.688 \r\n\" style=\"fill:#ffece4;\"/>\r\n    <path clip-path=\"url(#pf067625723)\" d=\"M 77.446125 50.688 \r\nL 131.014125 50.688 \r\nL 131.014125 94.176 \r\nL 77.446125 94.176 \r\nL 77.446125 50.688 \r\n\" style=\"fill:#fcc4ad;\"/>\r\n    <path clip-path=\"url(#pf067625723)\" d=\"M 131.014125 50.688 \r\nL 184.582125 50.688 \r\nL 184.582125 94.176 \r\nL 131.014125 94.176 \r\nL 131.014125 50.688 \r\n\" style=\"fill:#fee0d2;\"/>\r\n    <path clip-path=\"url(#pf067625723)\" d=\"M 184.582125 50.688 \r\nL 238.150125 50.688 \r\nL 238.150125 94.176 \r\nL 184.582125 94.176 \r\nL 184.582125 50.688 \r\n\" style=\"fill:#fff3ed;\"/>\r\n    <path clip-path=\"url(#pf067625723)\" d=\"M 238.150125 50.688 \r\nL 291.718125 50.688 \r\nL 291.718125 94.176 \r\nL 238.150125 94.176 \r\nL 238.150125 50.688 \r\n\" style=\"fill:#fff5f0;\"/>\r\n    <path clip-path=\"url(#pf067625723)\" d=\"M 23.878125 94.176 \r\nL 77.446125 94.176 \r\nL 77.446125 137.664 \r\nL 23.878125 137.664 \r\nL 23.878125 94.176 \r\n\" style=\"fill:#fff4ee;\"/>\r\n    <path clip-path=\"url(#pf067625723)\" d=\"M 77.446125 94.176 \r\nL 131.014125 94.176 \r\nL 131.014125 137.664 \r\nL 77.446125 137.664 \r\nL 77.446125 94.176 \r\n\" style=\"fill:#d72322;\"/>\r\n    <path clip-path=\"url(#pf067625723)\" d=\"M 131.014125 94.176 \r\nL 184.582125 94.176 \r\nL 184.582125 137.664 \r\nL 131.014125 137.664 \r\nL 131.014125 94.176 \r\n\" style=\"fill:#be151a;\"/>\r\n    <path clip-path=\"url(#pf067625723)\" d=\"M 184.582125 94.176 \r\nL 238.150125 94.176 \r\nL 238.150125 137.664 \r\nL 184.582125 137.664 \r\nL 184.582125 94.176 \r\n\" style=\"fill:#ffefe8;\"/>\r\n    <path clip-path=\"url(#pf067625723)\" d=\"M 238.150125 94.176 \r\nL 291.718125 94.176 \r\nL 291.718125 137.664 \r\nL 238.150125 137.664 \r\nL 238.150125 94.176 \r\n\" style=\"fill:#fdd1be;\"/>\r\n    <path clip-path=\"url(#pf067625723)\" d=\"M 23.878125 137.664 \r\nL 77.446125 137.664 \r\nL 77.446125 181.152 \r\nL 23.878125 181.152 \r\nL 23.878125 137.664 \r\n\" style=\"fill:#fff1ea;\"/>\r\n    <path clip-path=\"url(#pf067625723)\" d=\"M 77.446125 137.664 \r\nL 131.014125 137.664 \r\nL 131.014125 181.152 \r\nL 77.446125 181.152 \r\nL 77.446125 137.664 \r\n\" style=\"fill:#fff5f0;\"/>\r\n    <path clip-path=\"url(#pf067625723)\" d=\"M 131.014125 137.664 \r\nL 184.582125 137.664 \r\nL 184.582125 181.152 \r\nL 131.014125 181.152 \r\nL 131.014125 137.664 \r\n\" style=\"fill:#fff3ed;\"/>\r\n    <path clip-path=\"url(#pf067625723)\" d=\"M 184.582125 137.664 \r\nL 238.150125 137.664 \r\nL 238.150125 181.152 \r\nL 184.582125 181.152 \r\nL 184.582125 137.664 \r\n\" style=\"fill:#eb372a;\"/>\r\n    <path clip-path=\"url(#pf067625723)\" d=\"M 238.150125 137.664 \r\nL 291.718125 137.664 \r\nL 291.718125 181.152 \r\nL 238.150125 181.152 \r\nL 238.150125 137.664 \r\n\" style=\"fill:#fee1d4;\"/>\r\n    <path clip-path=\"url(#pf067625723)\" d=\"M 23.878125 181.152 \r\nL 77.446125 181.152 \r\nL 77.446125 224.64 \r\nL 23.878125 224.64 \r\nL 23.878125 181.152 \r\n\" style=\"fill:#fff5f0;\"/>\r\n    <path clip-path=\"url(#pf067625723)\" d=\"M 77.446125 181.152 \r\nL 131.014125 181.152 \r\nL 131.014125 224.64 \r\nL 77.446125 224.64 \r\nL 77.446125 181.152 \r\n\" style=\"fill:#ffece3;\"/>\r\n    <path clip-path=\"url(#pf067625723)\" d=\"M 131.014125 181.152 \r\nL 184.582125 181.152 \r\nL 184.582125 224.64 \r\nL 131.014125 224.64 \r\nL 131.014125 181.152 \r\n\" style=\"fill:#fee9df;\"/>\r\n    <path clip-path=\"url(#pf067625723)\" d=\"M 184.582125 181.152 \r\nL 238.150125 181.152 \r\nL 238.150125 224.64 \r\nL 184.582125 224.64 \r\nL 184.582125 181.152 \r\n\" style=\"fill:#fcaf93;\"/>\r\n    <path clip-path=\"url(#pf067625723)\" d=\"M 238.150125 181.152 \r\nL 291.718125 181.152 \r\nL 291.718125 224.64 \r\nL 238.150125 224.64 \r\nL 238.150125 181.152 \r\n\" style=\"fill:#c1161b;\"/>\r\n   </g>\r\n   <g id=\"matplotlib.axis_1\">\r\n    <g id=\"xtick_1\">\r\n     <g id=\"line2d_1\">\r\n      <defs>\r\n       <path d=\"M 0 0 \r\nL 0 3.5 \r\n\" id=\"mbbe2633e98\" style=\"stroke:#000000;stroke-width:0.8;\"/>\r\n      </defs>\r\n      <g>\r\n       <use style=\"stroke:#000000;stroke-width:0.8;\" x=\"50.662125\" xlink:href=\"#mbbe2633e98\" y=\"224.64\"/>\r\n      </g>\r\n     </g>\r\n     <g id=\"text_1\">\r\n      <!-- 1 -->\r\n      <g transform=\"translate(47.480875 239.238437)scale(0.1 -0.1)\">\r\n       <defs>\r\n        <path d=\"M 794 531 \r\nL 1825 531 \r\nL 1825 4091 \r\nL 703 3866 \r\nL 703 4441 \r\nL 1819 4666 \r\nL 2450 4666 \r\nL 2450 531 \r\nL 3481 531 \r\nL 3481 0 \r\nL 794 0 \r\nL 794 531 \r\nz\r\n\" id=\"DejaVuSans-31\" transform=\"scale(0.015625)\"/>\r\n       </defs>\r\n       <use xlink:href=\"#DejaVuSans-31\"/>\r\n      </g>\r\n     </g>\r\n    </g>\r\n    <g id=\"xtick_2\">\r\n     <g id=\"line2d_2\">\r\n      <g>\r\n       <use style=\"stroke:#000000;stroke-width:0.8;\" x=\"104.230125\" xlink:href=\"#mbbe2633e98\" y=\"224.64\"/>\r\n      </g>\r\n     </g>\r\n     <g id=\"text_2\">\r\n      <!-- 2 -->\r\n      <g transform=\"translate(101.048875 239.238437)scale(0.1 -0.1)\">\r\n       <defs>\r\n        <path d=\"M 1228 531 \r\nL 3431 531 \r\nL 3431 0 \r\nL 469 0 \r\nL 469 531 \r\nQ 828 903 1448 1529 \r\nQ 2069 2156 2228 2338 \r\nQ 2531 2678 2651 2914 \r\nQ 2772 3150 2772 3378 \r\nQ 2772 3750 2511 3984 \r\nQ 2250 4219 1831 4219 \r\nQ 1534 4219 1204 4116 \r\nQ 875 4013 500 3803 \r\nL 500 4441 \r\nQ 881 4594 1212 4672 \r\nQ 1544 4750 1819 4750 \r\nQ 2544 4750 2975 4387 \r\nQ 3406 4025 3406 3419 \r\nQ 3406 3131 3298 2873 \r\nQ 3191 2616 2906 2266 \r\nQ 2828 2175 2409 1742 \r\nQ 1991 1309 1228 531 \r\nz\r\n\" id=\"DejaVuSans-32\" transform=\"scale(0.015625)\"/>\r\n       </defs>\r\n       <use xlink:href=\"#DejaVuSans-32\"/>\r\n      </g>\r\n     </g>\r\n    </g>\r\n    <g id=\"xtick_3\">\r\n     <g id=\"line2d_3\">\r\n      <g>\r\n       <use style=\"stroke:#000000;stroke-width:0.8;\" x=\"157.798125\" xlink:href=\"#mbbe2633e98\" y=\"224.64\"/>\r\n      </g>\r\n     </g>\r\n     <g id=\"text_3\">\r\n      <!-- 3 -->\r\n      <g transform=\"translate(154.616875 239.238437)scale(0.1 -0.1)\">\r\n       <defs>\r\n        <path d=\"M 2597 2516 \r\nQ 3050 2419 3304 2112 \r\nQ 3559 1806 3559 1356 \r\nQ 3559 666 3084 287 \r\nQ 2609 -91 1734 -91 \r\nQ 1441 -91 1130 -33 \r\nQ 819 25 488 141 \r\nL 488 750 \r\nQ 750 597 1062 519 \r\nQ 1375 441 1716 441 \r\nQ 2309 441 2620 675 \r\nQ 2931 909 2931 1356 \r\nQ 2931 1769 2642 2001 \r\nQ 2353 2234 1838 2234 \r\nL 1294 2234 \r\nL 1294 2753 \r\nL 1863 2753 \r\nQ 2328 2753 2575 2939 \r\nQ 2822 3125 2822 3475 \r\nQ 2822 3834 2567 4026 \r\nQ 2313 4219 1838 4219 \r\nQ 1578 4219 1281 4162 \r\nQ 984 4106 628 3988 \r\nL 628 4550 \r\nQ 988 4650 1302 4700 \r\nQ 1616 4750 1894 4750 \r\nQ 2613 4750 3031 4423 \r\nQ 3450 4097 3450 3541 \r\nQ 3450 3153 3228 2886 \r\nQ 3006 2619 2597 2516 \r\nz\r\n\" id=\"DejaVuSans-33\" transform=\"scale(0.015625)\"/>\r\n       </defs>\r\n       <use xlink:href=\"#DejaVuSans-33\"/>\r\n      </g>\r\n     </g>\r\n    </g>\r\n    <g id=\"xtick_4\">\r\n     <g id=\"line2d_4\">\r\n      <g>\r\n       <use style=\"stroke:#000000;stroke-width:0.8;\" x=\"211.366125\" xlink:href=\"#mbbe2633e98\" y=\"224.64\"/>\r\n      </g>\r\n     </g>\r\n     <g id=\"text_4\">\r\n      <!-- 4 -->\r\n      <g transform=\"translate(208.184875 239.238437)scale(0.1 -0.1)\">\r\n       <defs>\r\n        <path d=\"M 2419 4116 \r\nL 825 1625 \r\nL 2419 1625 \r\nL 2419 4116 \r\nz\r\nM 2253 4666 \r\nL 3047 4666 \r\nL 3047 1625 \r\nL 3713 1625 \r\nL 3713 1100 \r\nL 3047 1100 \r\nL 3047 0 \r\nL 2419 0 \r\nL 2419 1100 \r\nL 313 1100 \r\nL 313 1709 \r\nL 2253 4666 \r\nz\r\n\" id=\"DejaVuSans-34\" transform=\"scale(0.015625)\"/>\r\n       </defs>\r\n       <use xlink:href=\"#DejaVuSans-34\"/>\r\n      </g>\r\n     </g>\r\n    </g>\r\n    <g id=\"xtick_5\">\r\n     <g id=\"line2d_5\">\r\n      <g>\r\n       <use style=\"stroke:#000000;stroke-width:0.8;\" x=\"264.934125\" xlink:href=\"#mbbe2633e98\" y=\"224.64\"/>\r\n      </g>\r\n     </g>\r\n     <g id=\"text_5\">\r\n      <!-- 5 -->\r\n      <g transform=\"translate(261.752875 239.238437)scale(0.1 -0.1)\">\r\n       <defs>\r\n        <path d=\"M 691 4666 \r\nL 3169 4666 \r\nL 3169 4134 \r\nL 1269 4134 \r\nL 1269 2991 \r\nQ 1406 3038 1543 3061 \r\nQ 1681 3084 1819 3084 \r\nQ 2600 3084 3056 2656 \r\nQ 3513 2228 3513 1497 \r\nQ 3513 744 3044 326 \r\nQ 2575 -91 1722 -91 \r\nQ 1428 -91 1123 -41 \r\nQ 819 9 494 109 \r\nL 494 744 \r\nQ 775 591 1075 516 \r\nQ 1375 441 1709 441 \r\nQ 2250 441 2565 725 \r\nQ 2881 1009 2881 1497 \r\nQ 2881 1984 2565 2268 \r\nQ 2250 2553 1709 2553 \r\nQ 1456 2553 1204 2497 \r\nQ 953 2441 691 2322 \r\nL 691 4666 \r\nz\r\n\" id=\"DejaVuSans-35\" transform=\"scale(0.015625)\"/>\r\n       </defs>\r\n       <use xlink:href=\"#DejaVuSans-35\"/>\r\n      </g>\r\n     </g>\r\n    </g>\r\n   </g>\r\n   <g id=\"matplotlib.axis_2\">\r\n    <g id=\"ytick_1\">\r\n     <g id=\"line2d_6\">\r\n      <defs>\r\n       <path d=\"M 0 0 \r\nL -3.5 0 \r\n\" id=\"m5f04c9cbdc\" style=\"stroke:#000000;stroke-width:0.8;\"/>\r\n      </defs>\r\n      <g>\r\n       <use style=\"stroke:#000000;stroke-width:0.8;\" x=\"23.878125\" xlink:href=\"#m5f04c9cbdc\" y=\"28.944\"/>\r\n      </g>\r\n     </g>\r\n     <g id=\"text_6\">\r\n      <!-- 1 -->\r\n      <g transform=\"translate(14.798438 31.507281)rotate(-90)scale(0.1 -0.1)\">\r\n       <use xlink:href=\"#DejaVuSans-31\"/>\r\n      </g>\r\n     </g>\r\n    </g>\r\n    <g id=\"ytick_2\">\r\n     <g id=\"line2d_7\">\r\n      <g>\r\n       <use style=\"stroke:#000000;stroke-width:0.8;\" x=\"23.878125\" xlink:href=\"#m5f04c9cbdc\" y=\"72.432\"/>\r\n      </g>\r\n     </g>\r\n     <g id=\"text_7\">\r\n      <!-- 2 -->\r\n      <g transform=\"translate(14.798438 74.995281)rotate(-90)scale(0.1 -0.1)\">\r\n       <use xlink:href=\"#DejaVuSans-32\"/>\r\n      </g>\r\n     </g>\r\n    </g>\r\n    <g id=\"ytick_3\">\r\n     <g id=\"line2d_8\">\r\n      <g>\r\n       <use style=\"stroke:#000000;stroke-width:0.8;\" x=\"23.878125\" xlink:href=\"#m5f04c9cbdc\" y=\"115.92\"/>\r\n      </g>\r\n     </g>\r\n     <g id=\"text_8\">\r\n      <!-- 3 -->\r\n      <g transform=\"translate(14.798438 118.483281)rotate(-90)scale(0.1 -0.1)\">\r\n       <use xlink:href=\"#DejaVuSans-33\"/>\r\n      </g>\r\n     </g>\r\n    </g>\r\n    <g id=\"ytick_4\">\r\n     <g id=\"line2d_9\">\r\n      <g>\r\n       <use style=\"stroke:#000000;stroke-width:0.8;\" x=\"23.878125\" xlink:href=\"#m5f04c9cbdc\" y=\"159.408\"/>\r\n      </g>\r\n     </g>\r\n     <g id=\"text_9\">\r\n      <!-- 4 -->\r\n      <g transform=\"translate(14.798438 161.971281)rotate(-90)scale(0.1 -0.1)\">\r\n       <use xlink:href=\"#DejaVuSans-34\"/>\r\n      </g>\r\n     </g>\r\n    </g>\r\n    <g id=\"ytick_5\">\r\n     <g id=\"line2d_10\">\r\n      <g>\r\n       <use style=\"stroke:#000000;stroke-width:0.8;\" x=\"23.878125\" xlink:href=\"#m5f04c9cbdc\" y=\"202.896\"/>\r\n      </g>\r\n     </g>\r\n     <g id=\"text_10\">\r\n      <!-- 5 -->\r\n      <g transform=\"translate(14.798438 205.459281)rotate(-90)scale(0.1 -0.1)\">\r\n       <use xlink:href=\"#DejaVuSans-35\"/>\r\n      </g>\r\n     </g>\r\n    </g>\r\n   </g>\r\n   <g id=\"text_11\">\r\n    <!-- 223 -->\r\n    <g style=\"fill:#ffffff;\" transform=\"translate(41.118375 31.703375)scale(0.1 -0.1)\">\r\n     <use xlink:href=\"#DejaVuSans-32\"/>\r\n     <use x=\"63.623047\" xlink:href=\"#DejaVuSans-32\"/>\r\n     <use x=\"127.246094\" xlink:href=\"#DejaVuSans-33\"/>\r\n    </g>\r\n   </g>\r\n   <g id=\"text_12\">\r\n    <!-- 2 -->\r\n    <g style=\"fill:#262626;\" transform=\"translate(101.048875 31.703375)scale(0.1 -0.1)\">\r\n     <use xlink:href=\"#DejaVuSans-32\"/>\r\n    </g>\r\n   </g>\r\n   <g id=\"text_13\">\r\n    <!-- 3 -->\r\n    <g style=\"fill:#262626;\" transform=\"translate(154.616875 31.703375)scale(0.1 -0.1)\">\r\n     <use xlink:href=\"#DejaVuSans-33\"/>\r\n    </g>\r\n   </g>\r\n   <g id=\"text_14\">\r\n    <!-- 0 -->\r\n    <g style=\"fill:#262626;\" transform=\"translate(208.184875 31.703375)scale(0.1 -0.1)\">\r\n     <defs>\r\n      <path d=\"M 2034 4250 \r\nQ 1547 4250 1301 3770 \r\nQ 1056 3291 1056 2328 \r\nQ 1056 1369 1301 889 \r\nQ 1547 409 2034 409 \r\nQ 2525 409 2770 889 \r\nQ 3016 1369 3016 2328 \r\nQ 3016 3291 2770 3770 \r\nQ 2525 4250 2034 4250 \r\nz\r\nM 2034 4750 \r\nQ 2819 4750 3233 4129 \r\nQ 3647 3509 3647 2328 \r\nQ 3647 1150 3233 529 \r\nQ 2819 -91 2034 -91 \r\nQ 1250 -91 836 529 \r\nQ 422 1150 422 2328 \r\nQ 422 3509 836 4129 \r\nQ 1250 4750 2034 4750 \r\nz\r\n\" id=\"DejaVuSans-30\" transform=\"scale(0.015625)\"/>\r\n     </defs>\r\n     <use xlink:href=\"#DejaVuSans-30\"/>\r\n    </g>\r\n   </g>\r\n   <g id=\"text_15\">\r\n    <!-- 0 -->\r\n    <g style=\"fill:#262626;\" transform=\"translate(261.752875 31.703375)scale(0.1 -0.1)\">\r\n     <use xlink:href=\"#DejaVuSans-30\"/>\r\n    </g>\r\n   </g>\r\n   <g id=\"text_16\">\r\n    <!-- 12 -->\r\n    <g style=\"fill:#262626;\" transform=\"translate(44.299625 75.191375)scale(0.1 -0.1)\">\r\n     <use xlink:href=\"#DejaVuSans-31\"/>\r\n     <use x=\"63.623047\" xlink:href=\"#DejaVuSans-32\"/>\r\n    </g>\r\n   </g>\r\n   <g id=\"text_17\">\r\n    <!-- 49 -->\r\n    <g style=\"fill:#262626;\" transform=\"translate(97.867625 75.191375)scale(0.1 -0.1)\">\r\n     <defs>\r\n      <path d=\"M 703 97 \r\nL 703 672 \r\nQ 941 559 1184 500 \r\nQ 1428 441 1663 441 \r\nQ 2288 441 2617 861 \r\nQ 2947 1281 2994 2138 \r\nQ 2813 1869 2534 1725 \r\nQ 2256 1581 1919 1581 \r\nQ 1219 1581 811 2004 \r\nQ 403 2428 403 3163 \r\nQ 403 3881 828 4315 \r\nQ 1253 4750 1959 4750 \r\nQ 2769 4750 3195 4129 \r\nQ 3622 3509 3622 2328 \r\nQ 3622 1225 3098 567 \r\nQ 2575 -91 1691 -91 \r\nQ 1453 -91 1209 -44 \r\nQ 966 3 703 97 \r\nz\r\nM 1959 2075 \r\nQ 2384 2075 2632 2365 \r\nQ 2881 2656 2881 3163 \r\nQ 2881 3666 2632 3958 \r\nQ 2384 4250 1959 4250 \r\nQ 1534 4250 1286 3958 \r\nQ 1038 3666 1038 3163 \r\nQ 1038 2656 1286 2365 \r\nQ 1534 2075 1959 2075 \r\nz\r\n\" id=\"DejaVuSans-39\" transform=\"scale(0.015625)\"/>\r\n     </defs>\r\n     <use xlink:href=\"#DejaVuSans-34\"/>\r\n     <use x=\"63.623047\" xlink:href=\"#DejaVuSans-39\"/>\r\n    </g>\r\n   </g>\r\n   <g id=\"text_18\">\r\n    <!-- 28 -->\r\n    <g style=\"fill:#262626;\" transform=\"translate(151.435625 75.191375)scale(0.1 -0.1)\">\r\n     <defs>\r\n      <path d=\"M 2034 2216 \r\nQ 1584 2216 1326 1975 \r\nQ 1069 1734 1069 1313 \r\nQ 1069 891 1326 650 \r\nQ 1584 409 2034 409 \r\nQ 2484 409 2743 651 \r\nQ 3003 894 3003 1313 \r\nQ 3003 1734 2745 1975 \r\nQ 2488 2216 2034 2216 \r\nz\r\nM 1403 2484 \r\nQ 997 2584 770 2862 \r\nQ 544 3141 544 3541 \r\nQ 544 4100 942 4425 \r\nQ 1341 4750 2034 4750 \r\nQ 2731 4750 3128 4425 \r\nQ 3525 4100 3525 3541 \r\nQ 3525 3141 3298 2862 \r\nQ 3072 2584 2669 2484 \r\nQ 3125 2378 3379 2068 \r\nQ 3634 1759 3634 1313 \r\nQ 3634 634 3220 271 \r\nQ 2806 -91 2034 -91 \r\nQ 1263 -91 848 271 \r\nQ 434 634 434 1313 \r\nQ 434 1759 690 2068 \r\nQ 947 2378 1403 2484 \r\nz\r\nM 1172 3481 \r\nQ 1172 3119 1398 2916 \r\nQ 1625 2713 2034 2713 \r\nQ 2441 2713 2670 2916 \r\nQ 2900 3119 2900 3481 \r\nQ 2900 3844 2670 4047 \r\nQ 2441 4250 2034 4250 \r\nQ 1625 4250 1398 4047 \r\nQ 1172 3844 1172 3481 \r\nz\r\n\" id=\"DejaVuSans-38\" transform=\"scale(0.015625)\"/>\r\n     </defs>\r\n     <use xlink:href=\"#DejaVuSans-32\"/>\r\n     <use x=\"63.623047\" xlink:href=\"#DejaVuSans-38\"/>\r\n    </g>\r\n   </g>\r\n   <g id=\"text_19\">\r\n    <!-- 3 -->\r\n    <g style=\"fill:#262626;\" transform=\"translate(208.184875 75.191375)scale(0.1 -0.1)\">\r\n     <use xlink:href=\"#DejaVuSans-33\"/>\r\n    </g>\r\n   </g>\r\n   <g id=\"text_20\">\r\n    <!-- 0 -->\r\n    <g style=\"fill:#262626;\" transform=\"translate(261.752875 75.191375)scale(0.1 -0.1)\">\r\n     <use xlink:href=\"#DejaVuSans-30\"/>\r\n    </g>\r\n   </g>\r\n   <g id=\"text_21\">\r\n    <!-- 2 -->\r\n    <g style=\"fill:#262626;\" transform=\"translate(47.480875 118.679375)scale(0.1 -0.1)\">\r\n     <use xlink:href=\"#DejaVuSans-32\"/>\r\n    </g>\r\n   </g>\r\n   <g id=\"text_22\">\r\n    <!-- 158 -->\r\n    <g style=\"fill:#ffffff;\" transform=\"translate(94.686375 118.679375)scale(0.1 -0.1)\">\r\n     <use xlink:href=\"#DejaVuSans-31\"/>\r\n     <use x=\"63.623047\" xlink:href=\"#DejaVuSans-35\"/>\r\n     <use x=\"127.246094\" xlink:href=\"#DejaVuSans-38\"/>\r\n    </g>\r\n   </g>\r\n   <g id=\"text_23\">\r\n    <!-- 176 -->\r\n    <g style=\"fill:#ffffff;\" transform=\"translate(148.254375 118.679375)scale(0.1 -0.1)\">\r\n     <defs>\r\n      <path d=\"M 525 4666 \r\nL 3525 4666 \r\nL 3525 4397 \r\nL 1831 0 \r\nL 1172 0 \r\nL 2766 4134 \r\nL 525 4134 \r\nL 525 4666 \r\nz\r\n\" id=\"DejaVuSans-37\" transform=\"scale(0.015625)\"/>\r\n      <path d=\"M 2113 2584 \r\nQ 1688 2584 1439 2293 \r\nQ 1191 2003 1191 1497 \r\nQ 1191 994 1439 701 \r\nQ 1688 409 2113 409 \r\nQ 2538 409 2786 701 \r\nQ 3034 994 3034 1497 \r\nQ 3034 2003 2786 2293 \r\nQ 2538 2584 2113 2584 \r\nz\r\nM 3366 4563 \r\nL 3366 3988 \r\nQ 3128 4100 2886 4159 \r\nQ 2644 4219 2406 4219 \r\nQ 1781 4219 1451 3797 \r\nQ 1122 3375 1075 2522 \r\nQ 1259 2794 1537 2939 \r\nQ 1816 3084 2150 3084 \r\nQ 2853 3084 3261 2657 \r\nQ 3669 2231 3669 1497 \r\nQ 3669 778 3244 343 \r\nQ 2819 -91 2113 -91 \r\nQ 1303 -91 875 529 \r\nQ 447 1150 447 2328 \r\nQ 447 3434 972 4092 \r\nQ 1497 4750 2381 4750 \r\nQ 2619 4750 2861 4703 \r\nQ 3103 4656 3366 4563 \r\nz\r\n\" id=\"DejaVuSans-36\" transform=\"scale(0.015625)\"/>\r\n     </defs>\r\n     <use xlink:href=\"#DejaVuSans-31\"/>\r\n     <use x=\"63.623047\" xlink:href=\"#DejaVuSans-37\"/>\r\n     <use x=\"127.246094\" xlink:href=\"#DejaVuSans-36\"/>\r\n    </g>\r\n   </g>\r\n   <g id=\"text_24\">\r\n    <!-- 8 -->\r\n    <g style=\"fill:#262626;\" transform=\"translate(208.184875 118.679375)scale(0.1 -0.1)\">\r\n     <use xlink:href=\"#DejaVuSans-38\"/>\r\n    </g>\r\n   </g>\r\n   <g id=\"text_25\">\r\n    <!-- 40 -->\r\n    <g style=\"fill:#262626;\" transform=\"translate(258.571625 118.679375)scale(0.1 -0.1)\">\r\n     <use xlink:href=\"#DejaVuSans-34\"/>\r\n     <use x=\"63.623047\" xlink:href=\"#DejaVuSans-30\"/>\r\n    </g>\r\n   </g>\r\n   <g id=\"text_26\">\r\n    <!-- 6 -->\r\n    <g style=\"fill:#262626;\" transform=\"translate(47.480875 162.167375)scale(0.1 -0.1)\">\r\n     <use xlink:href=\"#DejaVuSans-36\"/>\r\n    </g>\r\n   </g>\r\n   <g id=\"text_27\">\r\n    <!-- 0 -->\r\n    <g style=\"fill:#262626;\" transform=\"translate(101.048875 162.167375)scale(0.1 -0.1)\">\r\n     <use xlink:href=\"#DejaVuSans-30\"/>\r\n    </g>\r\n   </g>\r\n   <g id=\"text_28\">\r\n    <!-- 3 -->\r\n    <g style=\"fill:#262626;\" transform=\"translate(154.616875 162.167375)scale(0.1 -0.1)\">\r\n     <use xlink:href=\"#DejaVuSans-33\"/>\r\n    </g>\r\n   </g>\r\n   <g id=\"text_29\">\r\n    <!-- 142 -->\r\n    <g style=\"fill:#ffffff;\" transform=\"translate(201.822375 162.167375)scale(0.1 -0.1)\">\r\n     <use xlink:href=\"#DejaVuSans-31\"/>\r\n     <use x=\"63.623047\" xlink:href=\"#DejaVuSans-34\"/>\r\n     <use x=\"127.246094\" xlink:href=\"#DejaVuSans-32\"/>\r\n    </g>\r\n   </g>\r\n   <g id=\"text_30\">\r\n    <!-- 27 -->\r\n    <g style=\"fill:#262626;\" transform=\"translate(258.571625 162.167375)scale(0.1 -0.1)\">\r\n     <use xlink:href=\"#DejaVuSans-32\"/>\r\n     <use x=\"63.623047\" xlink:href=\"#DejaVuSans-37\"/>\r\n    </g>\r\n   </g>\r\n   <g id=\"text_31\">\r\n    <!-- 0 -->\r\n    <g style=\"fill:#262626;\" transform=\"translate(47.480875 205.655375)scale(0.1 -0.1)\">\r\n     <use xlink:href=\"#DejaVuSans-30\"/>\r\n    </g>\r\n   </g>\r\n   <g id=\"text_32\">\r\n    <!-- 13 -->\r\n    <g style=\"fill:#262626;\" transform=\"translate(97.867625 205.655375)scale(0.1 -0.1)\">\r\n     <use xlink:href=\"#DejaVuSans-31\"/>\r\n     <use x=\"63.623047\" xlink:href=\"#DejaVuSans-33\"/>\r\n    </g>\r\n   </g>\r\n   <g id=\"text_33\">\r\n    <!-- 16 -->\r\n    <g style=\"fill:#262626;\" transform=\"translate(151.435625 205.655375)scale(0.1 -0.1)\">\r\n     <use xlink:href=\"#DejaVuSans-31\"/>\r\n     <use x=\"63.623047\" xlink:href=\"#DejaVuSans-36\"/>\r\n    </g>\r\n   </g>\r\n   <g id=\"text_34\">\r\n    <!-- 64 -->\r\n    <g style=\"fill:#262626;\" transform=\"translate(205.003625 205.655375)scale(0.1 -0.1)\">\r\n     <use xlink:href=\"#DejaVuSans-36\"/>\r\n     <use x=\"63.623047\" xlink:href=\"#DejaVuSans-34\"/>\r\n    </g>\r\n   </g>\r\n   <g id=\"text_35\">\r\n    <!-- 175 -->\r\n    <g style=\"fill:#ffffff;\" transform=\"translate(255.390375 205.655375)scale(0.1 -0.1)\">\r\n     <use xlink:href=\"#DejaVuSans-31\"/>\r\n     <use x=\"63.623047\" xlink:href=\"#DejaVuSans-37\"/>\r\n     <use x=\"127.246094\" xlink:href=\"#DejaVuSans-35\"/>\r\n    </g>\r\n   </g>\r\n  </g>\r\n  <g id=\"axes_2\">\r\n   <g id=\"patch_3\">\r\n    <path d=\"M 308.458125 224.64 \r\nL 319.330125 224.64 \r\nL 319.330125 7.2 \r\nL 308.458125 7.2 \r\nz\r\n\" style=\"fill:#ffffff;\"/>\r\n   </g>\r\n   <g id=\"patch_4\">\r\n    <path clip-path=\"url(#pbe41e6cc76)\" d=\"M 308.458125 224.64 \r\nL 308.458125 223.790625 \r\nL 308.458125 8.049375 \r\nL 308.458125 7.2 \r\nL 319.330125 7.2 \r\nL 319.330125 8.049375 \r\nL 319.330125 223.790625 \r\nL 319.330125 224.64 \r\nL 319.330125 224.64 \r\nz\r\n\" style=\"fill:#ffffff;stroke:#ffffff;stroke-linejoin:miter;stroke-width:0.01;\"/>\r\n   </g>\r\n   <image height=\"217\" id=\"image931cf70ea5\" transform=\"scale(1 -1)translate(0 -217)\" width=\"11\" x=\"308\" xlink:href=\"data:image/png;base64,\r\niVBORw0KGgoAAAANSUhEUgAAAAsAAADZCAYAAAD2WsoCAAABKUlEQVR4nO2ZMQ7DMAwDXSD/f2uXbpHUtd18wwGSkc4EQVMUYaev+rxrbf6uVdvYda1KAibMC8nQwEhGHn7ASjLugQecGf5trBv+JtnQhhLRQgZhLsSMJpjz3GD9fPwBUZAeN/6YkRvaDnrWsa4bOMGJzf+48Qv2NgVtd5OFFbtOA3t3fvHac7obYvNrL83T3WhTjIeHv8KrXBR+LxuWG+yl6Wlm241eQN64t7Ftxt0kzyKz5oaXZxSk9GSQD5IecxLmDO+ACNzDDZYNIMPLM2KOJgfswYzCD5yjmveJKRhlgzETMPqvDckg4PCGwtwA4NSsY3kmMiCzBWbNr8loUgVe+JF1KBso/IgZFL8pw7Pu1sIvTlCT0cYNAEa9gZhv7/5MZHjWkXF/AUb9uuQMO6sYAAAAAElFTkSuQmCC\" y=\"-7\"/>\r\n   <g id=\"matplotlib.axis_3\"/>\r\n   <g id=\"matplotlib.axis_4\">\r\n    <g id=\"ytick_6\">\r\n     <g id=\"line2d_11\">\r\n      <defs>\r\n       <path d=\"M 0 0 \r\nL 3.5 0 \r\n\" id=\"m3221c76c37\" style=\"stroke:#000000;stroke-width:0.8;\"/>\r\n      </defs>\r\n      <g>\r\n       <use style=\"stroke:#000000;stroke-width:0.8;\" x=\"319.330125\" xlink:href=\"#m3221c76c37\" y=\"224.64\"/>\r\n      </g>\r\n     </g>\r\n     <g id=\"text_36\">\r\n      <!-- 0 -->\r\n      <g transform=\"translate(326.330125 228.439219)scale(0.1 -0.1)\">\r\n       <use xlink:href=\"#DejaVuSans-30\"/>\r\n      </g>\r\n     </g>\r\n    </g>\r\n    <g id=\"ytick_7\">\r\n     <g id=\"line2d_12\">\r\n      <g>\r\n       <use style=\"stroke:#000000;stroke-width:0.8;\" x=\"319.330125\" xlink:href=\"#m3221c76c37\" y=\"200.263318\"/>\r\n      </g>\r\n     </g>\r\n     <g id=\"text_37\">\r\n      <!-- 25 -->\r\n      <g transform=\"translate(326.330125 204.062537)scale(0.1 -0.1)\">\r\n       <use xlink:href=\"#DejaVuSans-32\"/>\r\n       <use x=\"63.623047\" xlink:href=\"#DejaVuSans-35\"/>\r\n      </g>\r\n     </g>\r\n    </g>\r\n    <g id=\"ytick_8\">\r\n     <g id=\"line2d_13\">\r\n      <g>\r\n       <use style=\"stroke:#000000;stroke-width:0.8;\" x=\"319.330125\" xlink:href=\"#m3221c76c37\" y=\"175.886637\"/>\r\n      </g>\r\n     </g>\r\n     <g id=\"text_38\">\r\n      <!-- 50 -->\r\n      <g transform=\"translate(326.330125 179.685856)scale(0.1 -0.1)\">\r\n       <use xlink:href=\"#DejaVuSans-35\"/>\r\n       <use x=\"63.623047\" xlink:href=\"#DejaVuSans-30\"/>\r\n      </g>\r\n     </g>\r\n    </g>\r\n    <g id=\"ytick_9\">\r\n     <g id=\"line2d_14\">\r\n      <g>\r\n       <use style=\"stroke:#000000;stroke-width:0.8;\" x=\"319.330125\" xlink:href=\"#m3221c76c37\" y=\"151.509955\"/>\r\n      </g>\r\n     </g>\r\n     <g id=\"text_39\">\r\n      <!-- 75 -->\r\n      <g transform=\"translate(326.330125 155.309174)scale(0.1 -0.1)\">\r\n       <use xlink:href=\"#DejaVuSans-37\"/>\r\n       <use x=\"63.623047\" xlink:href=\"#DejaVuSans-35\"/>\r\n      </g>\r\n     </g>\r\n    </g>\r\n    <g id=\"ytick_10\">\r\n     <g id=\"line2d_15\">\r\n      <g>\r\n       <use style=\"stroke:#000000;stroke-width:0.8;\" x=\"319.330125\" xlink:href=\"#m3221c76c37\" y=\"127.133274\"/>\r\n      </g>\r\n     </g>\r\n     <g id=\"text_40\">\r\n      <!-- 100 -->\r\n      <g transform=\"translate(326.330125 130.932492)scale(0.1 -0.1)\">\r\n       <use xlink:href=\"#DejaVuSans-31\"/>\r\n       <use x=\"63.623047\" xlink:href=\"#DejaVuSans-30\"/>\r\n       <use x=\"127.246094\" xlink:href=\"#DejaVuSans-30\"/>\r\n      </g>\r\n     </g>\r\n    </g>\r\n    <g id=\"ytick_11\">\r\n     <g id=\"line2d_16\">\r\n      <g>\r\n       <use style=\"stroke:#000000;stroke-width:0.8;\" x=\"319.330125\" xlink:href=\"#m3221c76c37\" y=\"102.756592\"/>\r\n      </g>\r\n     </g>\r\n     <g id=\"text_41\">\r\n      <!-- 125 -->\r\n      <g transform=\"translate(326.330125 106.555811)scale(0.1 -0.1)\">\r\n       <use xlink:href=\"#DejaVuSans-31\"/>\r\n       <use x=\"63.623047\" xlink:href=\"#DejaVuSans-32\"/>\r\n       <use x=\"127.246094\" xlink:href=\"#DejaVuSans-35\"/>\r\n      </g>\r\n     </g>\r\n    </g>\r\n    <g id=\"ytick_12\">\r\n     <g id=\"line2d_17\">\r\n      <g>\r\n       <use style=\"stroke:#000000;stroke-width:0.8;\" x=\"319.330125\" xlink:href=\"#m3221c76c37\" y=\"78.37991\"/>\r\n      </g>\r\n     </g>\r\n     <g id=\"text_42\">\r\n      <!-- 150 -->\r\n      <g transform=\"translate(326.330125 82.179129)scale(0.1 -0.1)\">\r\n       <use xlink:href=\"#DejaVuSans-31\"/>\r\n       <use x=\"63.623047\" xlink:href=\"#DejaVuSans-35\"/>\r\n       <use x=\"127.246094\" xlink:href=\"#DejaVuSans-30\"/>\r\n      </g>\r\n     </g>\r\n    </g>\r\n    <g id=\"ytick_13\">\r\n     <g id=\"line2d_18\">\r\n      <g>\r\n       <use style=\"stroke:#000000;stroke-width:0.8;\" x=\"319.330125\" xlink:href=\"#m3221c76c37\" y=\"54.003229\"/>\r\n      </g>\r\n     </g>\r\n     <g id=\"text_43\">\r\n      <!-- 175 -->\r\n      <g transform=\"translate(326.330125 57.802447)scale(0.1 -0.1)\">\r\n       <use xlink:href=\"#DejaVuSans-31\"/>\r\n       <use x=\"63.623047\" xlink:href=\"#DejaVuSans-37\"/>\r\n       <use x=\"127.246094\" xlink:href=\"#DejaVuSans-35\"/>\r\n      </g>\r\n     </g>\r\n    </g>\r\n    <g id=\"ytick_14\">\r\n     <g id=\"line2d_19\">\r\n      <g>\r\n       <use style=\"stroke:#000000;stroke-width:0.8;\" x=\"319.330125\" xlink:href=\"#m3221c76c37\" y=\"29.626547\"/>\r\n      </g>\r\n     </g>\r\n     <g id=\"text_44\">\r\n      <!-- 200 -->\r\n      <g transform=\"translate(326.330125 33.425766)scale(0.1 -0.1)\">\r\n       <use xlink:href=\"#DejaVuSans-32\"/>\r\n       <use x=\"63.623047\" xlink:href=\"#DejaVuSans-30\"/>\r\n       <use x=\"127.246094\" xlink:href=\"#DejaVuSans-30\"/>\r\n      </g>\r\n     </g>\r\n    </g>\r\n   </g>\r\n   <g id=\"LineCollection_1\"/>\r\n   <g id=\"patch_5\">\r\n    <path d=\"M 308.458125 224.64 \r\nL 308.458125 223.790625 \r\nL 308.458125 8.049375 \r\nL 308.458125 7.2 \r\nL 319.330125 7.2 \r\nL 319.330125 8.049375 \r\nL 319.330125 223.790625 \r\nL 319.330125 224.64 \r\nz\r\n\" style=\"fill:none;\"/>\r\n   </g>\r\n  </g>\r\n </g>\r\n <defs>\r\n  <clipPath id=\"pf067625723\">\r\n   <rect height=\"217.44\" width=\"267.84\" x=\"23.878125\" y=\"7.2\"/>\r\n  </clipPath>\r\n  <clipPath id=\"pbe41e6cc76\">\r\n   <rect height=\"217.44\" width=\"10.872\" x=\"308.458125\" y=\"7.2\"/>\r\n  </clipPath>\r\n </defs>\r\n</svg>\r\n",
      "image/png": "[encoded data removed]"
     },
     "metadata": {
      "needs_background": "light"
     }
    }
   ],
   "source": [
    "sns.heatmap(confusion_matrix(pred, test), annot=True, fmt='g', cmap=\"Reds\", xticklabels=[1, 2, 3, 4, 5], yticklabels=[1, 2, 3, 4, 5])"
   ]
  },
  {
   "cell_type": "code",
   "execution_count": null,
   "metadata": {},
   "outputs": [],
   "source": [
    "from sklearn.metrics import precision_recall_fscore_support\n",
    "sns.heatmap(precision_recall_fscore_support(pred, test)[:3], annot=True, fmt='g', cmap=\"Reds\", xticklabels=[1, 2, 3, 4, 5], yticklabels=['Precision', 'Recall', 'F1-score'])"
   ]
  },
  {
   "cell_type": "code",
   "execution_count": null,
   "metadata": {},
   "outputs": [],
   "source": [
    "plt.plot(history.history['accuracy'])\n",
    "plt.plot(history.history['val_accuracy'])\n",
    "plt.title('model accuracy')\n",
    "plt.ylabel('accuracy')\n",
    "plt.xlabel('epoch')\n",
    "plt.legend(['train', 'val'], loc='upper left')\n",
    "plt.show()"
   ]
  },
  {
   "cell_type": "code",
   "execution_count": null,
   "metadata": {},
   "outputs": [],
   "source": [
    "plt.plot(history.history['loss'])\n",
    "plt.plot(history.history['val_loss'])\n",
    "plt.title('model loss')\n",
    "plt.ylabel('loss')\n",
    "plt.xlabel('epoch')\n",
    "plt.legend(['train', 'val'], loc='upper left')\n",
    "plt.show()"
   ]
  }
 ]
}