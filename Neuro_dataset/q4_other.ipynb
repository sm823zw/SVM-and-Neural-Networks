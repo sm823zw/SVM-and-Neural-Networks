{
 "metadata": {
  "language_info": {
   "codemirror_mode": {
    "name": "ipython",
    "version": 3
   },
   "file_extension": ".py",
   "mimetype": "text/x-python",
   "name": "python",
   "nbconvert_exporter": "python",
   "pygments_lexer": "ipython3",
   "version": "3.8.0"
  },
  "orig_nbformat": 2,
  "kernelspec": {
   "name": "python380jvsc74a57bd08edf8cbb509fdf3d46e061f30af3d9278aa0b7efb734bc4d8f02fc9816eea4c1",
   "display_name": "Python 3.8.0 64-bit ('tf2.4': conda)"
  }
 },
 "nbformat": 4,
 "nbformat_minor": 2,
 "cells": [
  {
   "cell_type": "code",
   "execution_count": 296,
   "metadata": {},
   "outputs": [],
   "source": [
    "import os\n",
    "import numpy as np\n",
    "import seaborn as sns\n",
    "from scipy.io import loadmat\n",
    "import matplotlib.pyplot as plt"
   ]
  },
  {
   "cell_type": "code",
   "execution_count": 297,
   "metadata": {},
   "outputs": [],
   "source": [
    "path = '../Neuro_dataset/'\n",
    "path_alz = path + os.listdir(path)[0]\n",
    "path_nor = path + os.listdir(path)[1]"
   ]
  },
  {
   "cell_type": "code",
   "execution_count": 298,
   "metadata": {},
   "outputs": [],
   "source": [
    "files_alz = os.listdir(path_alz)\n",
    "files_nor = os.listdir(path_nor)\n",
    "d = loadmat(path_alz + '/' + files_alz[0])\n",
    "d['tc_rest_aal'] = d['tc_rest_aal'].reshape((1, 140, 116))\n",
    "d['tc_rest_power'] = d['tc_rest_power'].reshape((1, 140, 264))\n",
    "X_aal = d['tc_rest_aal']\n",
    "X_pow = d['tc_rest_power']\n",
    "\n",
    "for i in range(1, len(files_alz)):\n",
    "    d = loadmat(path_alz + '/' + files_alz[i])\n",
    "    d['tc_rest_aal'] = d['tc_rest_aal'].reshape((1, 140, 116))\n",
    "    d['tc_rest_power'] = d['tc_rest_power'].reshape((1, 140, 264))\n",
    "    X_aal = np.vstack([X_aal, d['tc_rest_aal']])\n",
    "    X_pow = np.vstack([X_pow, d['tc_rest_power']])\n",
    "\n",
    "for i in range(len(files_nor)):\n",
    "    d = loadmat(path_nor + '/' + files_nor[i])\n",
    "    d['tc_rest_aal'] = d['tc_rest_aal'].reshape((1, 140, 116))\n",
    "    d['tc_rest_power'] = d['tc_rest_power'].reshape((1, 140, 264))\n",
    "    X_aal = np.vstack([X_aal, d['tc_rest_aal']])\n",
    "    X_pow = np.vstack([X_pow, d['tc_rest_power']])"
   ]
  },
  {
   "cell_type": "code",
   "execution_count": 299,
   "metadata": {},
   "outputs": [
    {
     "output_type": "execute_result",
     "data": {
      "text/plain": [
       "(81, 140, 116)"
      ]
     },
     "metadata": {},
     "execution_count": 299
    }
   ],
   "source": [
    "X_aal.shape"
   ]
  },
  {
   "cell_type": "code",
   "execution_count": 300,
   "metadata": {},
   "outputs": [
    {
     "output_type": "execute_result",
     "data": {
      "text/plain": [
       "(81, 140, 264)"
      ]
     },
     "metadata": {},
     "execution_count": 300
    }
   ],
   "source": [
    "X_pow.shape"
   ]
  },
  {
   "cell_type": "code",
   "execution_count": 301,
   "metadata": {},
   "outputs": [
    {
     "output_type": "execute_result",
     "data": {
      "text/plain": [
       "(81, 1)"
      ]
     },
     "metadata": {},
     "execution_count": 301
    }
   ],
   "source": [
    "y = [1 for i in range(34)]\n",
    "y.extend([0 for i in range(47)])\n",
    "y = np.array(y).reshape((81, 1))\n",
    "y.shape"
   ]
  },
  {
   "cell_type": "code",
   "execution_count": 302,
   "metadata": {},
   "outputs": [
    {
     "output_type": "stream",
     "name": "stdout",
     "text": [
      "(81, 36960) (81, 16240)\n"
     ]
    }
   ],
   "source": [
    "X_pow = X_pow.reshape(X_pow.shape[0], X_pow.shape[1]*X_pow.shape[2])\n",
    "X_aal = X_aal.reshape(X_aal.shape[0], X_aal.shape[1]*X_aal.shape[2])\n",
    "print(X_pow.shape, X_aal.shape)"
   ]
  },
  {
   "cell_type": "code",
   "execution_count": 291,
   "metadata": {},
   "outputs": [],
   "source": [
    "from sklearn.decomposition import PCA\n",
    "pca = PCA(n_components=None)\n",
    "pca.fit(X_pow)\n",
    "X_pow = pca.fit_transform(X_pow)\n",
    "pca.fit(X_aal)\n",
    "X_aal = pca.fit_transform(X_aal)"
   ]
  },
  {
   "cell_type": "code",
   "execution_count": null,
   "metadata": {},
   "outputs": [],
   "source": []
  },
  {
   "cell_type": "code",
   "execution_count": 303,
   "metadata": {},
   "outputs": [
    {
     "output_type": "stream",
     "name": "stdout",
     "text": [
      "(64, 36960) (17, 36960)\n"
     ]
    }
   ],
   "source": [
    "from sklearn.model_selection import train_test_split\n",
    "X_train, X_test, y_train, y_test = train_test_split(X_pow, y, test_size = 0.2)\n",
    "print(X_train.shape, X_test.shape)"
   ]
  },
  {
   "cell_type": "code",
   "execution_count": 304,
   "metadata": {},
   "outputs": [],
   "source": [
    "y_train = y_train.reshape(y_train.shape[0],)\n",
    "y_test = y_test.reshape(y_test.shape[0], )"
   ]
  },
  {
   "cell_type": "code",
   "execution_count": 305,
   "metadata": {},
   "outputs": [
    {
     "output_type": "execute_result",
     "data": {
      "text/plain": [
       "(64, 36960)"
      ]
     },
     "metadata": {},
     "execution_count": 305
    }
   ],
   "source": [
    "X_train.shape"
   ]
  },
  {
   "cell_type": "code",
   "execution_count": 306,
   "metadata": {},
   "outputs": [
    {
     "output_type": "execute_result",
     "data": {
      "text/plain": [
       "(17, 36960)"
      ]
     },
     "metadata": {},
     "execution_count": 306
    }
   ],
   "source": [
    "X_test.shape"
   ]
  },
  {
   "cell_type": "code",
   "execution_count": 307,
   "metadata": {},
   "outputs": [],
   "source": [
    "from sklearn.svm import SVC"
   ]
  },
  {
   "cell_type": "code",
   "execution_count": 332,
   "metadata": {
    "tags": []
   },
   "outputs": [
    {
     "output_type": "stream",
     "name": "stdout",
     "text": [
      "Fitting 5 folds for each of 42 candidates, totalling 210 fits\n",
      "[CV 1/5] END C=0.1, degree=3, gamma=100, kernel=rbf;, score=0.615 total time=   0.0s\n",
      "[CV 2/5] END C=0.1, degree=3, gamma=100, kernel=rbf;, score=0.615 total time=   0.0s\n",
      "[CV 3/5] END C=0.1, degree=3, gamma=100, kernel=rbf;, score=0.615 total time=   0.0s\n",
      "[CV 4/5] END C=0.1, degree=3, gamma=100, kernel=rbf;, score=0.538 total time=   0.0s\n",
      "[CV 5/5] END C=0.1, degree=3, gamma=100, kernel=rbf;, score=0.583 total time=   0.0s\n",
      "[CV 1/5] END C=0.1, degree=3, gamma=10, kernel=rbf;, score=0.615 total time=   0.0s\n",
      "[CV 2/5] END C=0.1, degree=3, gamma=10, kernel=rbf;, score=0.615 total time=   0.0s\n",
      "[CV 3/5] END C=0.1, degree=3, gamma=10, kernel=rbf;, score=0.615 total time=   0.0s\n",
      "[CV 4/5] END C=0.1, degree=3, gamma=10, kernel=rbf;, score=0.538 total time=   0.0s\n",
      "[CV 5/5] END C=0.1, degree=3, gamma=10, kernel=rbf;, score=0.583 total time=   0.0s\n",
      "[CV 1/5] END C=0.1, degree=3, gamma=1, kernel=rbf;, score=0.615 total time=   0.0s\n",
      "[CV 2/5] END C=0.1, degree=3, gamma=1, kernel=rbf;, score=0.615 total time=   0.0s\n",
      "[CV 3/5] END C=0.1, degree=3, gamma=1, kernel=rbf;, score=0.615 total time=   0.0s\n",
      "[CV 4/5] END C=0.1, degree=3, gamma=1, kernel=rbf;, score=0.538 total time=   0.0s\n",
      "[CV 5/5] END C=0.1, degree=3, gamma=1, kernel=rbf;, score=0.583 total time=   0.0s\n",
      "[CV 1/5] END C=0.1, degree=3, gamma=0.1, kernel=rbf;, score=0.615 total time=   0.0s\n",
      "[CV 2/5] END C=0.1, degree=3, gamma=0.1, kernel=rbf;, score=0.615 total time=   0.0s\n",
      "[CV 3/5] END C=0.1, degree=3, gamma=0.1, kernel=rbf;, score=0.615 total time=   0.0s\n",
      "[CV 4/5] END C=0.1, degree=3, gamma=0.1, kernel=rbf;, score=0.538 total time=   0.0s\n",
      "[CV 5/5] END C=0.1, degree=3, gamma=0.1, kernel=rbf;, score=0.583 total time=   0.0s\n",
      "[CV 1/5] END C=0.1, degree=3, gamma=0.01, kernel=rbf;, score=0.615 total time=   0.0s\n",
      "[CV 2/5] END C=0.1, degree=3, gamma=0.01, kernel=rbf;, score=0.615 total time=   0.1s\n",
      "[CV 3/5] END C=0.1, degree=3, gamma=0.01, kernel=rbf;, score=0.615 total time=   0.1s\n",
      "[CV 4/5] END C=0.1, degree=3, gamma=0.01, kernel=rbf;, score=0.538 total time=   0.1s\n",
      "[CV 5/5] END C=0.1, degree=3, gamma=0.01, kernel=rbf;, score=0.583 total time=   0.1s\n",
      "[CV 1/5] END C=0.1, degree=3, gamma=0.001, kernel=rbf;, score=0.615 total time=   0.0s\n",
      "[CV 2/5] END C=0.1, degree=3, gamma=0.001, kernel=rbf;, score=0.615 total time=   0.0s\n",
      "[CV 3/5] END C=0.1, degree=3, gamma=0.001, kernel=rbf;, score=0.615 total time=   0.0s\n",
      "[CV 4/5] END C=0.1, degree=3, gamma=0.001, kernel=rbf;, score=0.538 total time=   0.0s\n",
      "[CV 5/5] END C=0.1, degree=3, gamma=0.001, kernel=rbf;, score=0.583 total time=   0.0s\n",
      "[CV 1/5] END C=0.1, degree=3, gamma=0.0001, kernel=rbf;, score=0.615 total time=   0.0s\n",
      "[CV 2/5] END C=0.1, degree=3, gamma=0.0001, kernel=rbf;, score=0.615 total time=   0.0s\n",
      "[CV 3/5] END C=0.1, degree=3, gamma=0.0001, kernel=rbf;, score=0.615 total time=   0.0s\n",
      "[CV 4/5] END C=0.1, degree=3, gamma=0.0001, kernel=rbf;, score=0.538 total time=   0.0s\n",
      "[CV 5/5] END C=0.1, degree=3, gamma=0.0001, kernel=rbf;, score=0.583 total time=   0.0s\n",
      "[CV 1/5] END C=1, degree=3, gamma=100, kernel=rbf;, score=0.615 total time=   0.0s\n",
      "[CV 2/5] END C=1, degree=3, gamma=100, kernel=rbf;, score=0.615 total time=   0.0s\n",
      "[CV 3/5] END C=1, degree=3, gamma=100, kernel=rbf;, score=0.615 total time=   0.0s\n",
      "[CV 4/5] END C=1, degree=3, gamma=100, kernel=rbf;, score=0.538 total time=   0.0s\n",
      "[CV 5/5] END C=1, degree=3, gamma=100, kernel=rbf;, score=0.583 total time=   0.0s\n",
      "[CV 1/5] END C=1, degree=3, gamma=10, kernel=rbf;, score=0.615 total time=   0.0s\n",
      "[CV 2/5] END C=1, degree=3, gamma=10, kernel=rbf;, score=0.615 total time=   0.0s\n",
      "[CV 3/5] END C=1, degree=3, gamma=10, kernel=rbf;, score=0.615 total time=   0.0s\n",
      "[CV 4/5] END C=1, degree=3, gamma=10, kernel=rbf;, score=0.538 total time=   0.0s\n",
      "[CV 5/5] END C=1, degree=3, gamma=10, kernel=rbf;, score=0.583 total time=   0.0s\n",
      "[CV 1/5] END C=1, degree=3, gamma=1, kernel=rbf;, score=0.615 total time=   0.0s\n",
      "[CV 2/5] END C=1, degree=3, gamma=1, kernel=rbf;, score=0.615 total time=   0.0s\n",
      "[CV 3/5] END C=1, degree=3, gamma=1, kernel=rbf;, score=0.615 total time=   0.0s\n",
      "[CV 4/5] END C=1, degree=3, gamma=1, kernel=rbf;, score=0.538 total time=   0.0s\n",
      "[CV 5/5] END C=1, degree=3, gamma=1, kernel=rbf;, score=0.583 total time=   0.0s\n",
      "[CV 1/5] END C=1, degree=3, gamma=0.1, kernel=rbf;, score=0.615 total time=   0.0s\n",
      "[CV 2/5] END C=1, degree=3, gamma=0.1, kernel=rbf;, score=0.615 total time=   0.0s\n",
      "[CV 3/5] END C=1, degree=3, gamma=0.1, kernel=rbf;, score=0.615 total time=   0.0s\n",
      "[CV 4/5] END C=1, degree=3, gamma=0.1, kernel=rbf;, score=0.538 total time=   0.0s\n",
      "[CV 5/5] END C=1, degree=3, gamma=0.1, kernel=rbf;, score=0.583 total time=   0.0s\n",
      "[CV 1/5] END C=1, degree=3, gamma=0.01, kernel=rbf;, score=0.615 total time=   0.1s\n",
      "[CV 2/5] END C=1, degree=3, gamma=0.01, kernel=rbf;, score=0.615 total time=   0.0s\n",
      "[CV 3/5] END C=1, degree=3, gamma=0.01, kernel=rbf;, score=0.615 total time=   0.0s\n",
      "[CV 4/5] END C=1, degree=3, gamma=0.01, kernel=rbf;, score=0.538 total time=   0.0s\n",
      "[CV 5/5] END C=1, degree=3, gamma=0.01, kernel=rbf;, score=0.583 total time=   0.0s\n",
      "[CV 1/5] END C=1, degree=3, gamma=0.001, kernel=rbf;, score=0.615 total time=   0.0s\n",
      "[CV 2/5] END C=1, degree=3, gamma=0.001, kernel=rbf;, score=0.615 total time=   0.0s\n",
      "[CV 3/5] END C=1, degree=3, gamma=0.001, kernel=rbf;, score=0.615 total time=   0.0s\n",
      "[CV 4/5] END C=1, degree=3, gamma=0.001, kernel=rbf;, score=0.538 total time=   0.0s\n",
      "[CV 5/5] END C=1, degree=3, gamma=0.001, kernel=rbf;, score=0.583 total time=   0.0s\n",
      "[CV 1/5] END C=1, degree=3, gamma=0.0001, kernel=rbf;, score=0.615 total time=   0.0s\n",
      "[CV 2/5] END C=1, degree=3, gamma=0.0001, kernel=rbf;, score=0.615 total time=   0.0s\n",
      "[CV 3/5] END C=1, degree=3, gamma=0.0001, kernel=rbf;, score=0.615 total time=   0.0s\n",
      "[CV 4/5] END C=1, degree=3, gamma=0.0001, kernel=rbf;, score=0.538 total time=   0.0s\n",
      "[CV 5/5] END C=1, degree=3, gamma=0.0001, kernel=rbf;, score=0.583 total time=   0.0s\n",
      "[CV 1/5] END C=10, degree=3, gamma=100, kernel=rbf;, score=0.615 total time=   0.0s\n",
      "[CV 2/5] END C=10, degree=3, gamma=100, kernel=rbf;, score=0.615 total time=   0.0s\n",
      "[CV 3/5] END C=10, degree=3, gamma=100, kernel=rbf;, score=0.615 total time=   0.0s\n",
      "[CV 4/5] END C=10, degree=3, gamma=100, kernel=rbf;, score=0.538 total time=   0.0s\n",
      "[CV 5/5] END C=10, degree=3, gamma=100, kernel=rbf;, score=0.583 total time=   0.0s\n",
      "[CV 1/5] END C=10, degree=3, gamma=10, kernel=rbf;, score=0.615 total time=   0.0s\n",
      "[CV 2/5] END C=10, degree=3, gamma=10, kernel=rbf;, score=0.615 total time=   0.0s\n",
      "[CV 3/5] END C=10, degree=3, gamma=10, kernel=rbf;, score=0.615 total time=   0.0s\n",
      "[CV 4/5] END C=10, degree=3, gamma=10, kernel=rbf;, score=0.538 total time=   0.0s\n",
      "[CV 5/5] END C=10, degree=3, gamma=10, kernel=rbf;, score=0.583 total time=   0.1s\n",
      "[CV 1/5] END C=10, degree=3, gamma=1, kernel=rbf;, score=0.615 total time=   0.1s\n",
      "[CV 2/5] END C=10, degree=3, gamma=1, kernel=rbf;, score=0.615 total time=   0.1s\n",
      "[CV 3/5] END C=10, degree=3, gamma=1, kernel=rbf;, score=0.615 total time=   0.0s\n",
      "[CV 4/5] END C=10, degree=3, gamma=1, kernel=rbf;, score=0.538 total time=   0.0s\n",
      "[CV 5/5] END C=10, degree=3, gamma=1, kernel=rbf;, score=0.583 total time=   0.0s\n",
      "[CV 1/5] END C=10, degree=3, gamma=0.1, kernel=rbf;, score=0.615 total time=   0.0s\n",
      "[CV 2/5] END C=10, degree=3, gamma=0.1, kernel=rbf;, score=0.615 total time=   0.0s\n",
      "[CV 3/5] END C=10, degree=3, gamma=0.1, kernel=rbf;, score=0.615 total time=   0.1s\n",
      "[CV 4/5] END C=10, degree=3, gamma=0.1, kernel=rbf;, score=0.538 total time=   0.0s\n",
      "[CV 5/5] END C=10, degree=3, gamma=0.1, kernel=rbf;, score=0.583 total time=   0.0s\n",
      "[CV 1/5] END C=10, degree=3, gamma=0.01, kernel=rbf;, score=0.615 total time=   0.0s\n",
      "[CV 2/5] END C=10, degree=3, gamma=0.01, kernel=rbf;, score=0.615 total time=   0.1s\n",
      "[CV 3/5] END C=10, degree=3, gamma=0.01, kernel=rbf;, score=0.615 total time=   0.1s\n",
      "[CV 4/5] END C=10, degree=3, gamma=0.01, kernel=rbf;, score=0.538 total time=   0.0s\n",
      "[CV 5/5] END C=10, degree=3, gamma=0.01, kernel=rbf;, score=0.583 total time=   0.0s\n",
      "[CV 1/5] END C=10, degree=3, gamma=0.001, kernel=rbf;, score=0.615 total time=   0.0s\n",
      "[CV 2/5] END C=10, degree=3, gamma=0.001, kernel=rbf;, score=0.615 total time=   0.0s\n",
      "[CV 3/5] END C=10, degree=3, gamma=0.001, kernel=rbf;, score=0.615 total time=   0.0s\n",
      "[CV 4/5] END C=10, degree=3, gamma=0.001, kernel=rbf;, score=0.538 total time=   0.0s\n",
      "[CV 5/5] END C=10, degree=3, gamma=0.001, kernel=rbf;, score=0.583 total time=   0.0s\n",
      "[CV 1/5] END C=10, degree=3, gamma=0.0001, kernel=rbf;, score=0.615 total time=   0.1s\n",
      "[CV 2/5] END C=10, degree=3, gamma=0.0001, kernel=rbf;, score=0.615 total time=   0.0s\n",
      "[CV 3/5] END C=10, degree=3, gamma=0.0001, kernel=rbf;, score=0.615 total time=   0.0s\n",
      "[CV 4/5] END C=10, degree=3, gamma=0.0001, kernel=rbf;, score=0.538 total time=   0.0s\n",
      "[CV 5/5] END C=10, degree=3, gamma=0.0001, kernel=rbf;, score=0.583 total time=   0.0s\n",
      "[CV 1/5] END C=100, degree=3, gamma=100, kernel=rbf;, score=0.615 total time=   0.0s\n",
      "[CV 2/5] END C=100, degree=3, gamma=100, kernel=rbf;, score=0.615 total time=   0.0s\n",
      "[CV 3/5] END C=100, degree=3, gamma=100, kernel=rbf;, score=0.615 total time=   0.0s\n",
      "[CV 4/5] END C=100, degree=3, gamma=100, kernel=rbf;, score=0.538 total time=   0.1s\n",
      "[CV 5/5] END C=100, degree=3, gamma=100, kernel=rbf;, score=0.583 total time=   0.0s\n",
      "[CV 1/5] END C=100, degree=3, gamma=10, kernel=rbf;, score=0.615 total time=   0.0s\n",
      "[CV 2/5] END C=100, degree=3, gamma=10, kernel=rbf;, score=0.615 total time=   0.0s\n",
      "[CV 3/5] END C=100, degree=3, gamma=10, kernel=rbf;, score=0.615 total time=   0.0s\n",
      "[CV 4/5] END C=100, degree=3, gamma=10, kernel=rbf;, score=0.538 total time=   0.0s\n",
      "[CV 5/5] END C=100, degree=3, gamma=10, kernel=rbf;, score=0.583 total time=   0.0s\n",
      "[CV 1/5] END C=100, degree=3, gamma=1, kernel=rbf;, score=0.615 total time=   0.0s\n",
      "[CV 2/5] END C=100, degree=3, gamma=1, kernel=rbf;, score=0.615 total time=   0.0s\n",
      "[CV 3/5] END C=100, degree=3, gamma=1, kernel=rbf;, score=0.615 total time=   0.0s\n",
      "[CV 4/5] END C=100, degree=3, gamma=1, kernel=rbf;, score=0.538 total time=   0.0s\n",
      "[CV 5/5] END C=100, degree=3, gamma=1, kernel=rbf;, score=0.583 total time=   0.1s\n",
      "[CV 1/5] END C=100, degree=3, gamma=0.1, kernel=rbf;, score=0.615 total time=   0.0s\n",
      "[CV 2/5] END C=100, degree=3, gamma=0.1, kernel=rbf;, score=0.615 total time=   0.0s\n",
      "[CV 3/5] END C=100, degree=3, gamma=0.1, kernel=rbf;, score=0.615 total time=   0.1s\n",
      "[CV 4/5] END C=100, degree=3, gamma=0.1, kernel=rbf;, score=0.538 total time=   0.1s\n",
      "[CV 5/5] END C=100, degree=3, gamma=0.1, kernel=rbf;, score=0.583 total time=   0.1s\n",
      "[CV 1/5] END C=100, degree=3, gamma=0.01, kernel=rbf;, score=0.615 total time=   0.1s\n",
      "[CV 2/5] END C=100, degree=3, gamma=0.01, kernel=rbf;, score=0.615 total time=   0.0s\n",
      "[CV 3/5] END C=100, degree=3, gamma=0.01, kernel=rbf;, score=0.615 total time=   0.1s\n",
      "[CV 4/5] END C=100, degree=3, gamma=0.01, kernel=rbf;, score=0.538 total time=   0.1s\n",
      "[CV 5/5] END C=100, degree=3, gamma=0.01, kernel=rbf;, score=0.583 total time=   0.0s\n",
      "[CV 1/5] END C=100, degree=3, gamma=0.001, kernel=rbf;, score=0.615 total time=   0.0s\n",
      "[CV 2/5] END C=100, degree=3, gamma=0.001, kernel=rbf;, score=0.615 total time=   0.0s\n",
      "[CV 3/5] END C=100, degree=3, gamma=0.001, kernel=rbf;, score=0.615 total time=   0.0s\n",
      "[CV 4/5] END C=100, degree=3, gamma=0.001, kernel=rbf;, score=0.538 total time=   0.0s\n",
      "[CV 5/5] END C=100, degree=3, gamma=0.001, kernel=rbf;, score=0.583 total time=   0.0s\n",
      "[CV 1/5] END C=100, degree=3, gamma=0.0001, kernel=rbf;, score=0.615 total time=   0.0s\n",
      "[CV 2/5] END C=100, degree=3, gamma=0.0001, kernel=rbf;, score=0.615 total time=   0.0s\n",
      "[CV 3/5] END C=100, degree=3, gamma=0.0001, kernel=rbf;, score=0.615 total time=   0.0s\n",
      "[CV 4/5] END C=100, degree=3, gamma=0.0001, kernel=rbf;, score=0.538 total time=   0.0s\n",
      "[CV 5/5] END C=100, degree=3, gamma=0.0001, kernel=rbf;, score=0.583 total time=   0.0s\n",
      "[CV 1/5] END C=1000, degree=3, gamma=100, kernel=rbf;, score=0.615 total time=   0.0s\n",
      "[CV 2/5] END C=1000, degree=3, gamma=100, kernel=rbf;, score=0.615 total time=   0.0s\n",
      "[CV 3/5] END C=1000, degree=3, gamma=100, kernel=rbf;, score=0.615 total time=   0.0s\n",
      "[CV 4/5] END C=1000, degree=3, gamma=100, kernel=rbf;, score=0.538 total time=   0.1s\n",
      "[CV 5/5] END C=1000, degree=3, gamma=100, kernel=rbf;, score=0.583 total time=   0.0s\n",
      "[CV 1/5] END C=1000, degree=3, gamma=10, kernel=rbf;, score=0.615 total time=   0.0s\n",
      "[CV 2/5] END C=1000, degree=3, gamma=10, kernel=rbf;, score=0.615 total time=   0.0s\n",
      "[CV 3/5] END C=1000, degree=3, gamma=10, kernel=rbf;, score=0.615 total time=   0.1s\n",
      "[CV 4/5] END C=1000, degree=3, gamma=10, kernel=rbf;, score=0.538 total time=   0.0s\n",
      "[CV 5/5] END C=1000, degree=3, gamma=10, kernel=rbf;, score=0.583 total time=   0.0s\n",
      "[CV 1/5] END C=1000, degree=3, gamma=1, kernel=rbf;, score=0.615 total time=   0.1s\n",
      "[CV 2/5] END C=1000, degree=3, gamma=1, kernel=rbf;, score=0.615 total time=   0.1s\n",
      "[CV 3/5] END C=1000, degree=3, gamma=1, kernel=rbf;, score=0.615 total time=   0.0s\n",
      "[CV 4/5] END C=1000, degree=3, gamma=1, kernel=rbf;, score=0.538 total time=   0.0s\n",
      "[CV 5/5] END C=1000, degree=3, gamma=1, kernel=rbf;, score=0.583 total time=   0.0s\n",
      "[CV 1/5] END C=1000, degree=3, gamma=0.1, kernel=rbf;, score=0.615 total time=   0.1s\n",
      "[CV 2/5] END C=1000, degree=3, gamma=0.1, kernel=rbf;, score=0.615 total time=   0.1s\n",
      "[CV 3/5] END C=1000, degree=3, gamma=0.1, kernel=rbf;, score=0.615 total time=   0.0s\n",
      "[CV 4/5] END C=1000, degree=3, gamma=0.1, kernel=rbf;, score=0.538 total time=   0.0s\n",
      "[CV 5/5] END C=1000, degree=3, gamma=0.1, kernel=rbf;, score=0.583 total time=   0.0s\n",
      "[CV 1/5] END C=1000, degree=3, gamma=0.01, kernel=rbf;, score=0.615 total time=   0.1s\n",
      "[CV 2/5] END C=1000, degree=3, gamma=0.01, kernel=rbf;, score=0.615 total time=   0.0s\n",
      "[CV 3/5] END C=1000, degree=3, gamma=0.01, kernel=rbf;, score=0.615 total time=   0.0s\n",
      "[CV 4/5] END C=1000, degree=3, gamma=0.01, kernel=rbf;, score=0.538 total time=   0.1s\n",
      "[CV 5/5] END C=1000, degree=3, gamma=0.01, kernel=rbf;, score=0.583 total time=   0.0s\n",
      "[CV 1/5] END C=1000, degree=3, gamma=0.001, kernel=rbf;, score=0.615 total time=   0.0s\n",
      "[CV 2/5] END C=1000, degree=3, gamma=0.001, kernel=rbf;, score=0.615 total time=   0.0s\n",
      "[CV 3/5] END C=1000, degree=3, gamma=0.001, kernel=rbf;, score=0.615 total time=   0.0s\n",
      "[CV 4/5] END C=1000, degree=3, gamma=0.001, kernel=rbf;, score=0.538 total time=   0.0s\n",
      "[CV 5/5] END C=1000, degree=3, gamma=0.001, kernel=rbf;, score=0.583 total time=   0.0s\n",
      "[CV 1/5] END C=1000, degree=3, gamma=0.0001, kernel=rbf;, score=0.615 total time=   0.1s\n",
      "[CV 2/5] END C=1000, degree=3, gamma=0.0001, kernel=rbf;, score=0.615 total time=   0.0s\n",
      "[CV 3/5] END C=1000, degree=3, gamma=0.0001, kernel=rbf;, score=0.615 total time=   0.0s\n",
      "[CV 4/5] END C=1000, degree=3, gamma=0.0001, kernel=rbf;, score=0.538 total time=   0.1s\n",
      "[CV 5/5] END C=1000, degree=3, gamma=0.0001, kernel=rbf;, score=0.583 total time=   0.0s\n",
      "[CV 1/5] END C=10000, degree=3, gamma=100, kernel=rbf;, score=0.615 total time=   0.0s\n",
      "[CV 2/5] END C=10000, degree=3, gamma=100, kernel=rbf;, score=0.615 total time=   0.0s\n",
      "[CV 3/5] END C=10000, degree=3, gamma=100, kernel=rbf;, score=0.615 total time=   0.1s\n",
      "[CV 4/5] END C=10000, degree=3, gamma=100, kernel=rbf;, score=0.538 total time=   0.1s\n",
      "[CV 5/5] END C=10000, degree=3, gamma=100, kernel=rbf;, score=0.583 total time=   0.1s\n",
      "[CV 1/5] END C=10000, degree=3, gamma=10, kernel=rbf;, score=0.615 total time=   0.1s\n",
      "[CV 2/5] END C=10000, degree=3, gamma=10, kernel=rbf;, score=0.615 total time=   0.0s\n",
      "[CV 3/5] END C=10000, degree=3, gamma=10, kernel=rbf;, score=0.615 total time=   0.0s\n",
      "[CV 4/5] END C=10000, degree=3, gamma=10, kernel=rbf;, score=0.538 total time=   0.0s\n",
      "[CV 5/5] END C=10000, degree=3, gamma=10, kernel=rbf;, score=0.583 total time=   0.1s\n",
      "[CV 1/5] END C=10000, degree=3, gamma=1, kernel=rbf;, score=0.615 total time=   0.0s\n",
      "[CV 2/5] END C=10000, degree=3, gamma=1, kernel=rbf;, score=0.615 total time=   0.0s\n",
      "[CV 3/5] END C=10000, degree=3, gamma=1, kernel=rbf;, score=0.615 total time=   0.1s\n",
      "[CV 4/5] END C=10000, degree=3, gamma=1, kernel=rbf;, score=0.538 total time=   0.0s\n",
      "[CV 5/5] END C=10000, degree=3, gamma=1, kernel=rbf;, score=0.583 total time=   0.0s\n",
      "[CV 1/5] END C=10000, degree=3, gamma=0.1, kernel=rbf;, score=0.615 total time=   0.0s\n",
      "[CV 2/5] END C=10000, degree=3, gamma=0.1, kernel=rbf;, score=0.615 total time=   0.1s\n",
      "[CV 3/5] END C=10000, degree=3, gamma=0.1, kernel=rbf;, score=0.615 total time=   0.0s\n",
      "[CV 4/5] END C=10000, degree=3, gamma=0.1, kernel=rbf;, score=0.538 total time=   0.1s\n",
      "[CV 5/5] END C=10000, degree=3, gamma=0.1, kernel=rbf;, score=0.583 total time=   0.0s\n",
      "[CV 1/5] END C=10000, degree=3, gamma=0.01, kernel=rbf;, score=0.615 total time=   0.0s\n",
      "[CV 2/5] END C=10000, degree=3, gamma=0.01, kernel=rbf;, score=0.615 total time=   0.0s\n",
      "[CV 3/5] END C=10000, degree=3, gamma=0.01, kernel=rbf;, score=0.615 total time=   0.0s\n",
      "[CV 4/5] END C=10000, degree=3, gamma=0.01, kernel=rbf;, score=0.538 total time=   0.1s\n",
      "[CV 5/5] END C=10000, degree=3, gamma=0.01, kernel=rbf;, score=0.583 total time=   0.0s\n",
      "[CV 1/5] END C=10000, degree=3, gamma=0.001, kernel=rbf;, score=0.615 total time=   0.0s\n",
      "[CV 2/5] END C=10000, degree=3, gamma=0.001, kernel=rbf;, score=0.615 total time=   0.0s\n",
      "[CV 3/5] END C=10000, degree=3, gamma=0.001, kernel=rbf;, score=0.615 total time=   0.0s\n",
      "[CV 4/5] END C=10000, degree=3, gamma=0.001, kernel=rbf;, score=0.538 total time=   0.0s\n",
      "[CV 5/5] END C=10000, degree=3, gamma=0.001, kernel=rbf;, score=0.583 total time=   0.1s\n",
      "[CV 1/5] END C=10000, degree=3, gamma=0.0001, kernel=rbf;, score=0.615 total time=   0.1s\n",
      "[CV 2/5] END C=10000, degree=3, gamma=0.0001, kernel=rbf;, score=0.615 total time=   0.0s\n",
      "[CV 3/5] END C=10000, degree=3, gamma=0.0001, kernel=rbf;, score=0.615 total time=   0.0s\n",
      "[CV 4/5] END C=10000, degree=3, gamma=0.0001, kernel=rbf;, score=0.538 total time=   0.0s\n",
      "[CV 5/5] END C=10000, degree=3, gamma=0.0001, kernel=rbf;, score=0.583 total time=   0.0s\n"
     ]
    },
    {
     "output_type": "execute_result",
     "data": {
      "text/plain": [
       "GridSearchCV(estimator=SVC(),\n",
       "             param_grid={'C': [0.1, 1, 10, 100, 1000, 10000], 'degree': [3],\n",
       "                         'gamma': [100, 10, 1, 0.1, 0.01, 0.001, 0.0001],\n",
       "                         'kernel': ['rbf']},\n",
       "             verbose=3)"
      ]
     },
     "metadata": {},
     "execution_count": 332
    }
   ],
   "source": [
    "from sklearn.model_selection import GridSearchCV\n",
    "C_range = [0.1, 1, 10, 100, 1000, 10000]\n",
    "gamma_range = [100, 10, 1, 0.1, 0.01, 0.001, 0.0001]\n",
    "degree_range = [3]\n",
    "params = {'C':C_range, 'gamma':gamma_range, 'degree':degree_range, 'kernel':['rbf']}\n",
    "grid = GridSearchCV(SVC(), params, verbose=3)\n",
    "grid.fit(X_train, y_train)"
   ]
  },
  {
   "cell_type": "code",
   "execution_count": 333,
   "metadata": {},
   "outputs": [
    {
     "output_type": "execute_result",
     "data": {
      "text/plain": [
       "array([[0.59358974, 0.59358974, 0.59358974, 0.59358974, 0.59358974,\n",
       "        0.59358974, 0.59358974],\n",
       "       [0.59358974, 0.59358974, 0.59358974, 0.59358974, 0.59358974,\n",
       "        0.59358974, 0.59358974],\n",
       "       [0.59358974, 0.59358974, 0.59358974, 0.59358974, 0.59358974,\n",
       "        0.59358974, 0.59358974],\n",
       "       [0.59358974, 0.59358974, 0.59358974, 0.59358974, 0.59358974,\n",
       "        0.59358974, 0.59358974],\n",
       "       [0.59358974, 0.59358974, 0.59358974, 0.59358974, 0.59358974,\n",
       "        0.59358974, 0.59358974],\n",
       "       [0.59358974, 0.59358974, 0.59358974, 0.59358974, 0.59358974,\n",
       "        0.59358974, 0.59358974]])"
      ]
     },
     "metadata": {},
     "execution_count": 333
    }
   ],
   "source": [
    "res = grid.cv_results_['mean_test_score']\n",
    "res = res.reshape(len(C_range), len(gamma_range))\n",
    "res"
   ]
  },
  {
   "cell_type": "code",
   "execution_count": 334,
   "metadata": {},
   "outputs": [
    {
     "output_type": "execute_result",
     "data": {
      "text/plain": [
       "<AxesSubplot:>"
      ]
     },
     "metadata": {},
     "execution_count": 334
    },
    {
     "output_type": "display_data",
     "data": {
      "text/plain": "<Figure size 648x360 with 2 Axes>",
      "image/svg+xml": "<?xml version=\"1.0\" encoding=\"utf-8\" standalone=\"no\"?>\r\n<!DOCTYPE svg PUBLIC \"-//W3C//DTD SVG 1.1//EN\"\r\n  \"http://www.w3.org/Graphics/SVG/1.1/DTD/svg11.dtd\">\r\n<svg height=\"302.878125pt\" version=\"1.1\" viewBox=\"0 0 500.80375 302.878125\" width=\"500.80375pt\" xmlns=\"http://www.w3.org/2000/svg\" xmlns:xlink=\"http://www.w3.org/1999/xlink\">\r\n <metadata>\r\n  <rdf:RDF xmlns:cc=\"http://creativecommons.org/ns#\" xmlns:dc=\"http://purl.org/dc/elements/1.1/\" xmlns:rdf=\"http://www.w3.org/1999/02/22-rdf-syntax-ns#\">\r\n   <cc:Work>\r\n    <dc:type rdf:resource=\"http://purl.org/dc/dcmitype/StillImage\"/>\r\n    <dc:date>2021-05-16T01:19:47.799543</dc:date>\r\n    <dc:format>image/svg+xml</dc:format>\r\n    <dc:creator>\r\n     <cc:Agent>\r\n      <dc:title>Matplotlib v3.4.2, https://matplotlib.org/</dc:title>\r\n     </cc:Agent>\r\n    </dc:creator>\r\n   </cc:Work>\r\n  </rdf:RDF>\r\n </metadata>\r\n <defs>\r\n  <style type=\"text/css\">*{stroke-linecap:butt;stroke-linejoin:round;}</style>\r\n </defs>\r\n <g id=\"figure_1\">\r\n  <g id=\"patch_1\">\r\n   <path d=\"M 0 302.878125 \r\nL 500.80375 302.878125 \r\nL 500.80375 0 \r\nL 0 0 \r\nz\r\n\" style=\"fill:none;\"/>\r\n  </g>\r\n  <g id=\"axes_1\">\r\n   <g id=\"patch_2\">\r\n    <path d=\"M 23.878125 279 \r\nL 425.638125 279 \r\nL 425.638125 7.2 \r\nL 23.878125 7.2 \r\nz\r\n\" style=\"fill:#ffffff;\"/>\r\n   </g>\r\n   <g id=\"QuadMesh_1\">\r\n    <path clip-path=\"url(#p0055cffb8a)\" d=\"M 23.878125 7.2 \r\nL 81.272411 7.2 \r\nL 81.272411 52.5 \r\nL 23.878125 52.5 \r\nL 23.878125 7.2 \r\n\" style=\"fill:#cb1b4f;\"/>\r\n    <path clip-path=\"url(#p0055cffb8a)\" d=\"M 81.272411 7.2 \r\nL 138.666696 7.2 \r\nL 138.666696 52.5 \r\nL 81.272411 52.5 \r\nL 81.272411 7.2 \r\n\" style=\"fill:#cb1b4f;\"/>\r\n    <path clip-path=\"url(#p0055cffb8a)\" d=\"M 138.666696 7.2 \r\nL 196.060982 7.2 \r\nL 196.060982 52.5 \r\nL 138.666696 52.5 \r\nL 138.666696 7.2 \r\n\" style=\"fill:#cb1b4f;\"/>\r\n    <path clip-path=\"url(#p0055cffb8a)\" d=\"M 196.060982 7.2 \r\nL 253.455268 7.2 \r\nL 253.455268 52.5 \r\nL 196.060982 52.5 \r\nL 196.060982 7.2 \r\n\" style=\"fill:#cb1b4f;\"/>\r\n    <path clip-path=\"url(#p0055cffb8a)\" d=\"M 253.455268 7.2 \r\nL 310.849554 7.2 \r\nL 310.849554 52.5 \r\nL 253.455268 52.5 \r\nL 253.455268 7.2 \r\n\" style=\"fill:#cb1b4f;\"/>\r\n    <path clip-path=\"url(#p0055cffb8a)\" d=\"M 310.849554 7.2 \r\nL 368.243839 7.2 \r\nL 368.243839 52.5 \r\nL 310.849554 52.5 \r\nL 310.849554 7.2 \r\n\" style=\"fill:#cb1b4f;\"/>\r\n    <path clip-path=\"url(#p0055cffb8a)\" d=\"M 368.243839 7.2 \r\nL 425.638125 7.2 \r\nL 425.638125 52.5 \r\nL 368.243839 52.5 \r\nL 368.243839 7.2 \r\n\" style=\"fill:#cb1b4f;\"/>\r\n    <path clip-path=\"url(#p0055cffb8a)\" d=\"M 23.878125 52.5 \r\nL 81.272411 52.5 \r\nL 81.272411 97.8 \r\nL 23.878125 97.8 \r\nL 23.878125 52.5 \r\n\" style=\"fill:#cb1b4f;\"/>\r\n    <path clip-path=\"url(#p0055cffb8a)\" d=\"M 81.272411 52.5 \r\nL 138.666696 52.5 \r\nL 138.666696 97.8 \r\nL 81.272411 97.8 \r\nL 81.272411 52.5 \r\n\" style=\"fill:#cb1b4f;\"/>\r\n    <path clip-path=\"url(#p0055cffb8a)\" d=\"M 138.666696 52.5 \r\nL 196.060982 52.5 \r\nL 196.060982 97.8 \r\nL 138.666696 97.8 \r\nL 138.666696 52.5 \r\n\" style=\"fill:#cb1b4f;\"/>\r\n    <path clip-path=\"url(#p0055cffb8a)\" d=\"M 196.060982 52.5 \r\nL 253.455268 52.5 \r\nL 253.455268 97.8 \r\nL 196.060982 97.8 \r\nL 196.060982 52.5 \r\n\" style=\"fill:#cb1b4f;\"/>\r\n    <path clip-path=\"url(#p0055cffb8a)\" d=\"M 253.455268 52.5 \r\nL 310.849554 52.5 \r\nL 310.849554 97.8 \r\nL 253.455268 97.8 \r\nL 253.455268 52.5 \r\n\" style=\"fill:#cb1b4f;\"/>\r\n    <path clip-path=\"url(#p0055cffb8a)\" d=\"M 310.849554 52.5 \r\nL 368.243839 52.5 \r\nL 368.243839 97.8 \r\nL 310.849554 97.8 \r\nL 310.849554 52.5 \r\n\" style=\"fill:#cb1b4f;\"/>\r\n    <path clip-path=\"url(#p0055cffb8a)\" d=\"M 368.243839 52.5 \r\nL 425.638125 52.5 \r\nL 425.638125 97.8 \r\nL 368.243839 97.8 \r\nL 368.243839 52.5 \r\n\" style=\"fill:#cb1b4f;\"/>\r\n    <path clip-path=\"url(#p0055cffb8a)\" d=\"M 23.878125 97.8 \r\nL 81.272411 97.8 \r\nL 81.272411 143.1 \r\nL 23.878125 143.1 \r\nL 23.878125 97.8 \r\n\" style=\"fill:#cb1b4f;\"/>\r\n    <path clip-path=\"url(#p0055cffb8a)\" d=\"M 81.272411 97.8 \r\nL 138.666696 97.8 \r\nL 138.666696 143.1 \r\nL 81.272411 143.1 \r\nL 81.272411 97.8 \r\n\" style=\"fill:#cb1b4f;\"/>\r\n    <path clip-path=\"url(#p0055cffb8a)\" d=\"M 138.666696 97.8 \r\nL 196.060982 97.8 \r\nL 196.060982 143.1 \r\nL 138.666696 143.1 \r\nL 138.666696 97.8 \r\n\" style=\"fill:#cb1b4f;\"/>\r\n    <path clip-path=\"url(#p0055cffb8a)\" d=\"M 196.060982 97.8 \r\nL 253.455268 97.8 \r\nL 253.455268 143.1 \r\nL 196.060982 143.1 \r\nL 196.060982 97.8 \r\n\" style=\"fill:#cb1b4f;\"/>\r\n    <path clip-path=\"url(#p0055cffb8a)\" d=\"M 253.455268 97.8 \r\nL 310.849554 97.8 \r\nL 310.849554 143.1 \r\nL 253.455268 143.1 \r\nL 253.455268 97.8 \r\n\" style=\"fill:#cb1b4f;\"/>\r\n    <path clip-path=\"url(#p0055cffb8a)\" d=\"M 310.849554 97.8 \r\nL 368.243839 97.8 \r\nL 368.243839 143.1 \r\nL 310.849554 143.1 \r\nL 310.849554 97.8 \r\n\" style=\"fill:#cb1b4f;\"/>\r\n    <path clip-path=\"url(#p0055cffb8a)\" d=\"M 368.243839 97.8 \r\nL 425.638125 97.8 \r\nL 425.638125 143.1 \r\nL 368.243839 143.1 \r\nL 368.243839 97.8 \r\n\" style=\"fill:#cb1b4f;\"/>\r\n    <path clip-path=\"url(#p0055cffb8a)\" d=\"M 23.878125 143.1 \r\nL 81.272411 143.1 \r\nL 81.272411 188.4 \r\nL 23.878125 188.4 \r\nL 23.878125 143.1 \r\n\" style=\"fill:#cb1b4f;\"/>\r\n    <path clip-path=\"url(#p0055cffb8a)\" d=\"M 81.272411 143.1 \r\nL 138.666696 143.1 \r\nL 138.666696 188.4 \r\nL 81.272411 188.4 \r\nL 81.272411 143.1 \r\n\" style=\"fill:#cb1b4f;\"/>\r\n    <path clip-path=\"url(#p0055cffb8a)\" d=\"M 138.666696 143.1 \r\nL 196.060982 143.1 \r\nL 196.060982 188.4 \r\nL 138.666696 188.4 \r\nL 138.666696 143.1 \r\n\" style=\"fill:#cb1b4f;\"/>\r\n    <path clip-path=\"url(#p0055cffb8a)\" d=\"M 196.060982 143.1 \r\nL 253.455268 143.1 \r\nL 253.455268 188.4 \r\nL 196.060982 188.4 \r\nL 196.060982 143.1 \r\n\" style=\"fill:#cb1b4f;\"/>\r\n    <path clip-path=\"url(#p0055cffb8a)\" d=\"M 253.455268 143.1 \r\nL 310.849554 143.1 \r\nL 310.849554 188.4 \r\nL 253.455268 188.4 \r\nL 253.455268 143.1 \r\n\" style=\"fill:#cb1b4f;\"/>\r\n    <path clip-path=\"url(#p0055cffb8a)\" d=\"M 310.849554 143.1 \r\nL 368.243839 143.1 \r\nL 368.243839 188.4 \r\nL 310.849554 188.4 \r\nL 310.849554 143.1 \r\n\" style=\"fill:#cb1b4f;\"/>\r\n    <path clip-path=\"url(#p0055cffb8a)\" d=\"M 368.243839 143.1 \r\nL 425.638125 143.1 \r\nL 425.638125 188.4 \r\nL 368.243839 188.4 \r\nL 368.243839 143.1 \r\n\" style=\"fill:#cb1b4f;\"/>\r\n    <path clip-path=\"url(#p0055cffb8a)\" d=\"M 23.878125 188.4 \r\nL 81.272411 188.4 \r\nL 81.272411 233.7 \r\nL 23.878125 233.7 \r\nL 23.878125 188.4 \r\n\" style=\"fill:#cb1b4f;\"/>\r\n    <path clip-path=\"url(#p0055cffb8a)\" d=\"M 81.272411 188.4 \r\nL 138.666696 188.4 \r\nL 138.666696 233.7 \r\nL 81.272411 233.7 \r\nL 81.272411 188.4 \r\n\" style=\"fill:#cb1b4f;\"/>\r\n    <path clip-path=\"url(#p0055cffb8a)\" d=\"M 138.666696 188.4 \r\nL 196.060982 188.4 \r\nL 196.060982 233.7 \r\nL 138.666696 233.7 \r\nL 138.666696 188.4 \r\n\" style=\"fill:#cb1b4f;\"/>\r\n    <path clip-path=\"url(#p0055cffb8a)\" d=\"M 196.060982 188.4 \r\nL 253.455268 188.4 \r\nL 253.455268 233.7 \r\nL 196.060982 233.7 \r\nL 196.060982 188.4 \r\n\" style=\"fill:#cb1b4f;\"/>\r\n    <path clip-path=\"url(#p0055cffb8a)\" d=\"M 253.455268 188.4 \r\nL 310.849554 188.4 \r\nL 310.849554 233.7 \r\nL 253.455268 233.7 \r\nL 253.455268 188.4 \r\n\" style=\"fill:#cb1b4f;\"/>\r\n    <path clip-path=\"url(#p0055cffb8a)\" d=\"M 310.849554 188.4 \r\nL 368.243839 188.4 \r\nL 368.243839 233.7 \r\nL 310.849554 233.7 \r\nL 310.849554 188.4 \r\n\" style=\"fill:#cb1b4f;\"/>\r\n    <path clip-path=\"url(#p0055cffb8a)\" d=\"M 368.243839 188.4 \r\nL 425.638125 188.4 \r\nL 425.638125 233.7 \r\nL 368.243839 233.7 \r\nL 368.243839 188.4 \r\n\" style=\"fill:#cb1b4f;\"/>\r\n    <path clip-path=\"url(#p0055cffb8a)\" d=\"M 23.878125 233.7 \r\nL 81.272411 233.7 \r\nL 81.272411 279 \r\nL 23.878125 279 \r\nL 23.878125 233.7 \r\n\" style=\"fill:#cb1b4f;\"/>\r\n    <path clip-path=\"url(#p0055cffb8a)\" d=\"M 81.272411 233.7 \r\nL 138.666696 233.7 \r\nL 138.666696 279 \r\nL 81.272411 279 \r\nL 81.272411 233.7 \r\n\" style=\"fill:#cb1b4f;\"/>\r\n    <path clip-path=\"url(#p0055cffb8a)\" d=\"M 138.666696 233.7 \r\nL 196.060982 233.7 \r\nL 196.060982 279 \r\nL 138.666696 279 \r\nL 138.666696 233.7 \r\n\" style=\"fill:#cb1b4f;\"/>\r\n    <path clip-path=\"url(#p0055cffb8a)\" d=\"M 196.060982 233.7 \r\nL 253.455268 233.7 \r\nL 253.455268 279 \r\nL 196.060982 279 \r\nL 196.060982 233.7 \r\n\" style=\"fill:#cb1b4f;\"/>\r\n    <path clip-path=\"url(#p0055cffb8a)\" d=\"M 253.455268 233.7 \r\nL 310.849554 233.7 \r\nL 310.849554 279 \r\nL 253.455268 279 \r\nL 253.455268 233.7 \r\n\" style=\"fill:#cb1b4f;\"/>\r\n    <path clip-path=\"url(#p0055cffb8a)\" d=\"M 310.849554 233.7 \r\nL 368.243839 233.7 \r\nL 368.243839 279 \r\nL 310.849554 279 \r\nL 310.849554 233.7 \r\n\" style=\"fill:#cb1b4f;\"/>\r\n    <path clip-path=\"url(#p0055cffb8a)\" d=\"M 368.243839 233.7 \r\nL 425.638125 233.7 \r\nL 425.638125 279 \r\nL 368.243839 279 \r\nL 368.243839 233.7 \r\n\" style=\"fill:#cb1b4f;\"/>\r\n   </g>\r\n   <g id=\"matplotlib.axis_1\">\r\n    <g id=\"xtick_1\">\r\n     <g id=\"line2d_1\">\r\n      <defs>\r\n       <path d=\"M 0 0 \r\nL 0 3.5 \r\n\" id=\"mb061d50f98\" style=\"stroke:#000000;stroke-width:0.8;\"/>\r\n      </defs>\r\n      <g>\r\n       <use style=\"stroke:#000000;stroke-width:0.8;\" x=\"52.575268\" xlink:href=\"#mb061d50f98\" y=\"279\"/>\r\n      </g>\r\n     </g>\r\n     <g id=\"text_1\">\r\n      <!-- 100 -->\r\n      <g transform=\"translate(43.031518 293.598437)scale(0.1 -0.1)\">\r\n       <defs>\r\n        <path d=\"M 794 531 \r\nL 1825 531 \r\nL 1825 4091 \r\nL 703 3866 \r\nL 703 4441 \r\nL 1819 4666 \r\nL 2450 4666 \r\nL 2450 531 \r\nL 3481 531 \r\nL 3481 0 \r\nL 794 0 \r\nL 794 531 \r\nz\r\n\" id=\"DejaVuSans-31\" transform=\"scale(0.015625)\"/>\r\n        <path d=\"M 2034 4250 \r\nQ 1547 4250 1301 3770 \r\nQ 1056 3291 1056 2328 \r\nQ 1056 1369 1301 889 \r\nQ 1547 409 2034 409 \r\nQ 2525 409 2770 889 \r\nQ 3016 1369 3016 2328 \r\nQ 3016 3291 2770 3770 \r\nQ 2525 4250 2034 4250 \r\nz\r\nM 2034 4750 \r\nQ 2819 4750 3233 4129 \r\nQ 3647 3509 3647 2328 \r\nQ 3647 1150 3233 529 \r\nQ 2819 -91 2034 -91 \r\nQ 1250 -91 836 529 \r\nQ 422 1150 422 2328 \r\nQ 422 3509 836 4129 \r\nQ 1250 4750 2034 4750 \r\nz\r\n\" id=\"DejaVuSans-30\" transform=\"scale(0.015625)\"/>\r\n       </defs>\r\n       <use xlink:href=\"#DejaVuSans-31\"/>\r\n       <use x=\"63.623047\" xlink:href=\"#DejaVuSans-30\"/>\r\n       <use x=\"127.246094\" xlink:href=\"#DejaVuSans-30\"/>\r\n      </g>\r\n     </g>\r\n    </g>\r\n    <g id=\"xtick_2\">\r\n     <g id=\"line2d_2\">\r\n      <g>\r\n       <use style=\"stroke:#000000;stroke-width:0.8;\" x=\"109.969554\" xlink:href=\"#mb061d50f98\" y=\"279\"/>\r\n      </g>\r\n     </g>\r\n     <g id=\"text_2\">\r\n      <!-- 10 -->\r\n      <g transform=\"translate(103.607054 293.598437)scale(0.1 -0.1)\">\r\n       <use xlink:href=\"#DejaVuSans-31\"/>\r\n       <use x=\"63.623047\" xlink:href=\"#DejaVuSans-30\"/>\r\n      </g>\r\n     </g>\r\n    </g>\r\n    <g id=\"xtick_3\">\r\n     <g id=\"line2d_3\">\r\n      <g>\r\n       <use style=\"stroke:#000000;stroke-width:0.8;\" x=\"167.363839\" xlink:href=\"#mb061d50f98\" y=\"279\"/>\r\n      </g>\r\n     </g>\r\n     <g id=\"text_3\">\r\n      <!-- 1 -->\r\n      <g transform=\"translate(164.182589 293.598437)scale(0.1 -0.1)\">\r\n       <use xlink:href=\"#DejaVuSans-31\"/>\r\n      </g>\r\n     </g>\r\n    </g>\r\n    <g id=\"xtick_4\">\r\n     <g id=\"line2d_4\">\r\n      <g>\r\n       <use style=\"stroke:#000000;stroke-width:0.8;\" x=\"224.758125\" xlink:href=\"#mb061d50f98\" y=\"279\"/>\r\n      </g>\r\n     </g>\r\n     <g id=\"text_4\">\r\n      <!-- 0.1 -->\r\n      <g transform=\"translate(216.806563 293.598437)scale(0.1 -0.1)\">\r\n       <defs>\r\n        <path d=\"M 684 794 \r\nL 1344 794 \r\nL 1344 0 \r\nL 684 0 \r\nL 684 794 \r\nz\r\n\" id=\"DejaVuSans-2e\" transform=\"scale(0.015625)\"/>\r\n       </defs>\r\n       <use xlink:href=\"#DejaVuSans-30\"/>\r\n       <use x=\"63.623047\" xlink:href=\"#DejaVuSans-2e\"/>\r\n       <use x=\"95.410156\" xlink:href=\"#DejaVuSans-31\"/>\r\n      </g>\r\n     </g>\r\n    </g>\r\n    <g id=\"xtick_5\">\r\n     <g id=\"line2d_5\">\r\n      <g>\r\n       <use style=\"stroke:#000000;stroke-width:0.8;\" x=\"282.152411\" xlink:href=\"#mb061d50f98\" y=\"279\"/>\r\n      </g>\r\n     </g>\r\n     <g id=\"text_5\">\r\n      <!-- 0.01 -->\r\n      <g transform=\"translate(271.019598 293.598437)scale(0.1 -0.1)\">\r\n       <use xlink:href=\"#DejaVuSans-30\"/>\r\n       <use x=\"63.623047\" xlink:href=\"#DejaVuSans-2e\"/>\r\n       <use x=\"95.410156\" xlink:href=\"#DejaVuSans-30\"/>\r\n       <use x=\"159.033203\" xlink:href=\"#DejaVuSans-31\"/>\r\n      </g>\r\n     </g>\r\n    </g>\r\n    <g id=\"xtick_6\">\r\n     <g id=\"line2d_6\">\r\n      <g>\r\n       <use style=\"stroke:#000000;stroke-width:0.8;\" x=\"339.546696\" xlink:href=\"#mb061d50f98\" y=\"279\"/>\r\n      </g>\r\n     </g>\r\n     <g id=\"text_6\">\r\n      <!-- 0.001 -->\r\n      <g transform=\"translate(325.232634 293.598437)scale(0.1 -0.1)\">\r\n       <use xlink:href=\"#DejaVuSans-30\"/>\r\n       <use x=\"63.623047\" xlink:href=\"#DejaVuSans-2e\"/>\r\n       <use x=\"95.410156\" xlink:href=\"#DejaVuSans-30\"/>\r\n       <use x=\"159.033203\" xlink:href=\"#DejaVuSans-30\"/>\r\n       <use x=\"222.65625\" xlink:href=\"#DejaVuSans-31\"/>\r\n      </g>\r\n     </g>\r\n    </g>\r\n    <g id=\"xtick_7\">\r\n     <g id=\"line2d_7\">\r\n      <g>\r\n       <use style=\"stroke:#000000;stroke-width:0.8;\" x=\"396.940982\" xlink:href=\"#mb061d50f98\" y=\"279\"/>\r\n      </g>\r\n     </g>\r\n     <g id=\"text_7\">\r\n      <!-- 0.0001 -->\r\n      <g transform=\"translate(379.44567 293.598437)scale(0.1 -0.1)\">\r\n       <use xlink:href=\"#DejaVuSans-30\"/>\r\n       <use x=\"63.623047\" xlink:href=\"#DejaVuSans-2e\"/>\r\n       <use x=\"95.410156\" xlink:href=\"#DejaVuSans-30\"/>\r\n       <use x=\"159.033203\" xlink:href=\"#DejaVuSans-30\"/>\r\n       <use x=\"222.65625\" xlink:href=\"#DejaVuSans-30\"/>\r\n       <use x=\"286.279297\" xlink:href=\"#DejaVuSans-31\"/>\r\n      </g>\r\n     </g>\r\n    </g>\r\n   </g>\r\n   <g id=\"matplotlib.axis_2\">\r\n    <g id=\"ytick_1\">\r\n     <g id=\"line2d_8\">\r\n      <defs>\r\n       <path d=\"M 0 0 \r\nL -3.5 0 \r\n\" id=\"mca189c2789\" style=\"stroke:#000000;stroke-width:0.8;\"/>\r\n      </defs>\r\n      <g>\r\n       <use style=\"stroke:#000000;stroke-width:0.8;\" x=\"23.878125\" xlink:href=\"#mca189c2789\" y=\"29.85\"/>\r\n      </g>\r\n     </g>\r\n     <g id=\"text_8\">\r\n      <!-- 0.1 -->\r\n      <g transform=\"translate(14.798438 41.953906)rotate(-90)scale(0.1 -0.1)\">\r\n       <use xlink:href=\"#DejaVuSans-30\"/>\r\n       <use x=\"63.623047\" xlink:href=\"#DejaVuSans-2e\"/>\r\n       <use x=\"95.410156\" xlink:href=\"#DejaVuSans-31\"/>\r\n      </g>\r\n     </g>\r\n    </g>\r\n    <g id=\"ytick_2\">\r\n     <g id=\"line2d_9\">\r\n      <g>\r\n       <use style=\"stroke:#000000;stroke-width:0.8;\" x=\"23.878125\" xlink:href=\"#mca189c2789\" y=\"75.15\"/>\r\n      </g>\r\n     </g>\r\n     <g id=\"text_9\">\r\n      <!-- 1 -->\r\n      <g transform=\"translate(14.798438 77.713281)rotate(-90)scale(0.1 -0.1)\">\r\n       <use xlink:href=\"#DejaVuSans-31\"/>\r\n      </g>\r\n     </g>\r\n    </g>\r\n    <g id=\"ytick_3\">\r\n     <g id=\"line2d_10\">\r\n      <g>\r\n       <use style=\"stroke:#000000;stroke-width:0.8;\" x=\"23.878125\" xlink:href=\"#mca189c2789\" y=\"120.45\"/>\r\n      </g>\r\n     </g>\r\n     <g id=\"text_10\">\r\n      <!-- 10 -->\r\n      <g transform=\"translate(14.798438 129.375781)rotate(-90)scale(0.1 -0.1)\">\r\n       <use xlink:href=\"#DejaVuSans-31\"/>\r\n       <use x=\"63.623047\" xlink:href=\"#DejaVuSans-30\"/>\r\n      </g>\r\n     </g>\r\n    </g>\r\n    <g id=\"ytick_4\">\r\n     <g id=\"line2d_11\">\r\n      <g>\r\n       <use style=\"stroke:#000000;stroke-width:0.8;\" x=\"23.878125\" xlink:href=\"#mca189c2789\" y=\"165.75\"/>\r\n      </g>\r\n     </g>\r\n     <g id=\"text_11\">\r\n      <!-- 100 -->\r\n      <g transform=\"translate(14.798438 181.038281)rotate(-90)scale(0.1 -0.1)\">\r\n       <use xlink:href=\"#DejaVuSans-31\"/>\r\n       <use x=\"63.623047\" xlink:href=\"#DejaVuSans-30\"/>\r\n       <use x=\"127.246094\" xlink:href=\"#DejaVuSans-30\"/>\r\n      </g>\r\n     </g>\r\n    </g>\r\n    <g id=\"ytick_5\">\r\n     <g id=\"line2d_12\">\r\n      <g>\r\n       <use style=\"stroke:#000000;stroke-width:0.8;\" x=\"23.878125\" xlink:href=\"#mca189c2789\" y=\"211.05\"/>\r\n      </g>\r\n     </g>\r\n     <g id=\"text_12\">\r\n      <!-- 1000 -->\r\n      <g transform=\"translate(14.798438 232.700781)rotate(-90)scale(0.1 -0.1)\">\r\n       <use xlink:href=\"#DejaVuSans-31\"/>\r\n       <use x=\"63.623047\" xlink:href=\"#DejaVuSans-30\"/>\r\n       <use x=\"127.246094\" xlink:href=\"#DejaVuSans-30\"/>\r\n       <use x=\"190.869141\" xlink:href=\"#DejaVuSans-30\"/>\r\n      </g>\r\n     </g>\r\n    </g>\r\n    <g id=\"ytick_6\">\r\n     <g id=\"line2d_13\">\r\n      <g>\r\n       <use style=\"stroke:#000000;stroke-width:0.8;\" x=\"23.878125\" xlink:href=\"#mca189c2789\" y=\"256.35\"/>\r\n      </g>\r\n     </g>\r\n     <g id=\"text_13\">\r\n      <!-- 10000 -->\r\n      <g transform=\"translate(14.798438 284.363281)rotate(-90)scale(0.1 -0.1)\">\r\n       <use xlink:href=\"#DejaVuSans-31\"/>\r\n       <use x=\"63.623047\" xlink:href=\"#DejaVuSans-30\"/>\r\n       <use x=\"127.246094\" xlink:href=\"#DejaVuSans-30\"/>\r\n       <use x=\"190.869141\" xlink:href=\"#DejaVuSans-30\"/>\r\n       <use x=\"254.492188\" xlink:href=\"#DejaVuSans-30\"/>\r\n      </g>\r\n     </g>\r\n    </g>\r\n   </g>\r\n   <g id=\"text_14\">\r\n    <!-- 0.594 -->\r\n    <g style=\"fill:#ffffff;\" transform=\"translate(38.261205 32.609375)scale(0.1 -0.1)\">\r\n     <defs>\r\n      <path d=\"M 691 4666 \r\nL 3169 4666 \r\nL 3169 4134 \r\nL 1269 4134 \r\nL 1269 2991 \r\nQ 1406 3038 1543 3061 \r\nQ 1681 3084 1819 3084 \r\nQ 2600 3084 3056 2656 \r\nQ 3513 2228 3513 1497 \r\nQ 3513 744 3044 326 \r\nQ 2575 -91 1722 -91 \r\nQ 1428 -91 1123 -41 \r\nQ 819 9 494 109 \r\nL 494 744 \r\nQ 775 591 1075 516 \r\nQ 1375 441 1709 441 \r\nQ 2250 441 2565 725 \r\nQ 2881 1009 2881 1497 \r\nQ 2881 1984 2565 2268 \r\nQ 2250 2553 1709 2553 \r\nQ 1456 2553 1204 2497 \r\nQ 953 2441 691 2322 \r\nL 691 4666 \r\nz\r\n\" id=\"DejaVuSans-35\" transform=\"scale(0.015625)\"/>\r\n      <path d=\"M 703 97 \r\nL 703 672 \r\nQ 941 559 1184 500 \r\nQ 1428 441 1663 441 \r\nQ 2288 441 2617 861 \r\nQ 2947 1281 2994 2138 \r\nQ 2813 1869 2534 1725 \r\nQ 2256 1581 1919 1581 \r\nQ 1219 1581 811 2004 \r\nQ 403 2428 403 3163 \r\nQ 403 3881 828 4315 \r\nQ 1253 4750 1959 4750 \r\nQ 2769 4750 3195 4129 \r\nQ 3622 3509 3622 2328 \r\nQ 3622 1225 3098 567 \r\nQ 2575 -91 1691 -91 \r\nQ 1453 -91 1209 -44 \r\nQ 966 3 703 97 \r\nz\r\nM 1959 2075 \r\nQ 2384 2075 2632 2365 \r\nQ 2881 2656 2881 3163 \r\nQ 2881 3666 2632 3958 \r\nQ 2384 4250 1959 4250 \r\nQ 1534 4250 1286 3958 \r\nQ 1038 3666 1038 3163 \r\nQ 1038 2656 1286 2365 \r\nQ 1534 2075 1959 2075 \r\nz\r\n\" id=\"DejaVuSans-39\" transform=\"scale(0.015625)\"/>\r\n      <path d=\"M 2419 4116 \r\nL 825 1625 \r\nL 2419 1625 \r\nL 2419 4116 \r\nz\r\nM 2253 4666 \r\nL 3047 4666 \r\nL 3047 1625 \r\nL 3713 1625 \r\nL 3713 1100 \r\nL 3047 1100 \r\nL 3047 0 \r\nL 2419 0 \r\nL 2419 1100 \r\nL 313 1100 \r\nL 313 1709 \r\nL 2253 4666 \r\nz\r\n\" id=\"DejaVuSans-34\" transform=\"scale(0.015625)\"/>\r\n     </defs>\r\n     <use xlink:href=\"#DejaVuSans-30\"/>\r\n     <use x=\"63.623047\" xlink:href=\"#DejaVuSans-2e\"/>\r\n     <use x=\"95.410156\" xlink:href=\"#DejaVuSans-35\"/>\r\n     <use x=\"159.033203\" xlink:href=\"#DejaVuSans-39\"/>\r\n     <use x=\"222.65625\" xlink:href=\"#DejaVuSans-34\"/>\r\n    </g>\r\n   </g>\r\n   <g id=\"text_15\">\r\n    <!-- 0.594 -->\r\n    <g style=\"fill:#ffffff;\" transform=\"translate(95.655491 32.609375)scale(0.1 -0.1)\">\r\n     <use xlink:href=\"#DejaVuSans-30\"/>\r\n     <use x=\"63.623047\" xlink:href=\"#DejaVuSans-2e\"/>\r\n     <use x=\"95.410156\" xlink:href=\"#DejaVuSans-35\"/>\r\n     <use x=\"159.033203\" xlink:href=\"#DejaVuSans-39\"/>\r\n     <use x=\"222.65625\" xlink:href=\"#DejaVuSans-34\"/>\r\n    </g>\r\n   </g>\r\n   <g id=\"text_16\">\r\n    <!-- 0.594 -->\r\n    <g style=\"fill:#ffffff;\" transform=\"translate(153.049777 32.609375)scale(0.1 -0.1)\">\r\n     <use xlink:href=\"#DejaVuSans-30\"/>\r\n     <use x=\"63.623047\" xlink:href=\"#DejaVuSans-2e\"/>\r\n     <use x=\"95.410156\" xlink:href=\"#DejaVuSans-35\"/>\r\n     <use x=\"159.033203\" xlink:href=\"#DejaVuSans-39\"/>\r\n     <use x=\"222.65625\" xlink:href=\"#DejaVuSans-34\"/>\r\n    </g>\r\n   </g>\r\n   <g id=\"text_17\">\r\n    <!-- 0.594 -->\r\n    <g style=\"fill:#ffffff;\" transform=\"translate(210.444063 32.609375)scale(0.1 -0.1)\">\r\n     <use xlink:href=\"#DejaVuSans-30\"/>\r\n     <use x=\"63.623047\" xlink:href=\"#DejaVuSans-2e\"/>\r\n     <use x=\"95.410156\" xlink:href=\"#DejaVuSans-35\"/>\r\n     <use x=\"159.033203\" xlink:href=\"#DejaVuSans-39\"/>\r\n     <use x=\"222.65625\" xlink:href=\"#DejaVuSans-34\"/>\r\n    </g>\r\n   </g>\r\n   <g id=\"text_18\">\r\n    <!-- 0.594 -->\r\n    <g style=\"fill:#ffffff;\" transform=\"translate(267.838348 32.609375)scale(0.1 -0.1)\">\r\n     <use xlink:href=\"#DejaVuSans-30\"/>\r\n     <use x=\"63.623047\" xlink:href=\"#DejaVuSans-2e\"/>\r\n     <use x=\"95.410156\" xlink:href=\"#DejaVuSans-35\"/>\r\n     <use x=\"159.033203\" xlink:href=\"#DejaVuSans-39\"/>\r\n     <use x=\"222.65625\" xlink:href=\"#DejaVuSans-34\"/>\r\n    </g>\r\n   </g>\r\n   <g id=\"text_19\">\r\n    <!-- 0.594 -->\r\n    <g style=\"fill:#ffffff;\" transform=\"translate(325.232634 32.609375)scale(0.1 -0.1)\">\r\n     <use xlink:href=\"#DejaVuSans-30\"/>\r\n     <use x=\"63.623047\" xlink:href=\"#DejaVuSans-2e\"/>\r\n     <use x=\"95.410156\" xlink:href=\"#DejaVuSans-35\"/>\r\n     <use x=\"159.033203\" xlink:href=\"#DejaVuSans-39\"/>\r\n     <use x=\"222.65625\" xlink:href=\"#DejaVuSans-34\"/>\r\n    </g>\r\n   </g>\r\n   <g id=\"text_20\">\r\n    <!-- 0.594 -->\r\n    <g style=\"fill:#ffffff;\" transform=\"translate(382.62692 32.609375)scale(0.1 -0.1)\">\r\n     <use xlink:href=\"#DejaVuSans-30\"/>\r\n     <use x=\"63.623047\" xlink:href=\"#DejaVuSans-2e\"/>\r\n     <use x=\"95.410156\" xlink:href=\"#DejaVuSans-35\"/>\r\n     <use x=\"159.033203\" xlink:href=\"#DejaVuSans-39\"/>\r\n     <use x=\"222.65625\" xlink:href=\"#DejaVuSans-34\"/>\r\n    </g>\r\n   </g>\r\n   <g id=\"text_21\">\r\n    <!-- 0.594 -->\r\n    <g style=\"fill:#ffffff;\" transform=\"translate(38.261205 77.909375)scale(0.1 -0.1)\">\r\n     <use xlink:href=\"#DejaVuSans-30\"/>\r\n     <use x=\"63.623047\" xlink:href=\"#DejaVuSans-2e\"/>\r\n     <use x=\"95.410156\" xlink:href=\"#DejaVuSans-35\"/>\r\n     <use x=\"159.033203\" xlink:href=\"#DejaVuSans-39\"/>\r\n     <use x=\"222.65625\" xlink:href=\"#DejaVuSans-34\"/>\r\n    </g>\r\n   </g>\r\n   <g id=\"text_22\">\r\n    <!-- 0.594 -->\r\n    <g style=\"fill:#ffffff;\" transform=\"translate(95.655491 77.909375)scale(0.1 -0.1)\">\r\n     <use xlink:href=\"#DejaVuSans-30\"/>\r\n     <use x=\"63.623047\" xlink:href=\"#DejaVuSans-2e\"/>\r\n     <use x=\"95.410156\" xlink:href=\"#DejaVuSans-35\"/>\r\n     <use x=\"159.033203\" xlink:href=\"#DejaVuSans-39\"/>\r\n     <use x=\"222.65625\" xlink:href=\"#DejaVuSans-34\"/>\r\n    </g>\r\n   </g>\r\n   <g id=\"text_23\">\r\n    <!-- 0.594 -->\r\n    <g style=\"fill:#ffffff;\" transform=\"translate(153.049777 77.909375)scale(0.1 -0.1)\">\r\n     <use xlink:href=\"#DejaVuSans-30\"/>\r\n     <use x=\"63.623047\" xlink:href=\"#DejaVuSans-2e\"/>\r\n     <use x=\"95.410156\" xlink:href=\"#DejaVuSans-35\"/>\r\n     <use x=\"159.033203\" xlink:href=\"#DejaVuSans-39\"/>\r\n     <use x=\"222.65625\" xlink:href=\"#DejaVuSans-34\"/>\r\n    </g>\r\n   </g>\r\n   <g id=\"text_24\">\r\n    <!-- 0.594 -->\r\n    <g style=\"fill:#ffffff;\" transform=\"translate(210.444063 77.909375)scale(0.1 -0.1)\">\r\n     <use xlink:href=\"#DejaVuSans-30\"/>\r\n     <use x=\"63.623047\" xlink:href=\"#DejaVuSans-2e\"/>\r\n     <use x=\"95.410156\" xlink:href=\"#DejaVuSans-35\"/>\r\n     <use x=\"159.033203\" xlink:href=\"#DejaVuSans-39\"/>\r\n     <use x=\"222.65625\" xlink:href=\"#DejaVuSans-34\"/>\r\n    </g>\r\n   </g>\r\n   <g id=\"text_25\">\r\n    <!-- 0.594 -->\r\n    <g style=\"fill:#ffffff;\" transform=\"translate(267.838348 77.909375)scale(0.1 -0.1)\">\r\n     <use xlink:href=\"#DejaVuSans-30\"/>\r\n     <use x=\"63.623047\" xlink:href=\"#DejaVuSans-2e\"/>\r\n     <use x=\"95.410156\" xlink:href=\"#DejaVuSans-35\"/>\r\n     <use x=\"159.033203\" xlink:href=\"#DejaVuSans-39\"/>\r\n     <use x=\"222.65625\" xlink:href=\"#DejaVuSans-34\"/>\r\n    </g>\r\n   </g>\r\n   <g id=\"text_26\">\r\n    <!-- 0.594 -->\r\n    <g style=\"fill:#ffffff;\" transform=\"translate(325.232634 77.909375)scale(0.1 -0.1)\">\r\n     <use xlink:href=\"#DejaVuSans-30\"/>\r\n     <use x=\"63.623047\" xlink:href=\"#DejaVuSans-2e\"/>\r\n     <use x=\"95.410156\" xlink:href=\"#DejaVuSans-35\"/>\r\n     <use x=\"159.033203\" xlink:href=\"#DejaVuSans-39\"/>\r\n     <use x=\"222.65625\" xlink:href=\"#DejaVuSans-34\"/>\r\n    </g>\r\n   </g>\r\n   <g id=\"text_27\">\r\n    <!-- 0.594 -->\r\n    <g style=\"fill:#ffffff;\" transform=\"translate(382.62692 77.909375)scale(0.1 -0.1)\">\r\n     <use xlink:href=\"#DejaVuSans-30\"/>\r\n     <use x=\"63.623047\" xlink:href=\"#DejaVuSans-2e\"/>\r\n     <use x=\"95.410156\" xlink:href=\"#DejaVuSans-35\"/>\r\n     <use x=\"159.033203\" xlink:href=\"#DejaVuSans-39\"/>\r\n     <use x=\"222.65625\" xlink:href=\"#DejaVuSans-34\"/>\r\n    </g>\r\n   </g>\r\n   <g id=\"text_28\">\r\n    <!-- 0.594 -->\r\n    <g style=\"fill:#ffffff;\" transform=\"translate(38.261205 123.209375)scale(0.1 -0.1)\">\r\n     <use xlink:href=\"#DejaVuSans-30\"/>\r\n     <use x=\"63.623047\" xlink:href=\"#DejaVuSans-2e\"/>\r\n     <use x=\"95.410156\" xlink:href=\"#DejaVuSans-35\"/>\r\n     <use x=\"159.033203\" xlink:href=\"#DejaVuSans-39\"/>\r\n     <use x=\"222.65625\" xlink:href=\"#DejaVuSans-34\"/>\r\n    </g>\r\n   </g>\r\n   <g id=\"text_29\">\r\n    <!-- 0.594 -->\r\n    <g style=\"fill:#ffffff;\" transform=\"translate(95.655491 123.209375)scale(0.1 -0.1)\">\r\n     <use xlink:href=\"#DejaVuSans-30\"/>\r\n     <use x=\"63.623047\" xlink:href=\"#DejaVuSans-2e\"/>\r\n     <use x=\"95.410156\" xlink:href=\"#DejaVuSans-35\"/>\r\n     <use x=\"159.033203\" xlink:href=\"#DejaVuSans-39\"/>\r\n     <use x=\"222.65625\" xlink:href=\"#DejaVuSans-34\"/>\r\n    </g>\r\n   </g>\r\n   <g id=\"text_30\">\r\n    <!-- 0.594 -->\r\n    <g style=\"fill:#ffffff;\" transform=\"translate(153.049777 123.209375)scale(0.1 -0.1)\">\r\n     <use xlink:href=\"#DejaVuSans-30\"/>\r\n     <use x=\"63.623047\" xlink:href=\"#DejaVuSans-2e\"/>\r\n     <use x=\"95.410156\" xlink:href=\"#DejaVuSans-35\"/>\r\n     <use x=\"159.033203\" xlink:href=\"#DejaVuSans-39\"/>\r\n     <use x=\"222.65625\" xlink:href=\"#DejaVuSans-34\"/>\r\n    </g>\r\n   </g>\r\n   <g id=\"text_31\">\r\n    <!-- 0.594 -->\r\n    <g style=\"fill:#ffffff;\" transform=\"translate(210.444063 123.209375)scale(0.1 -0.1)\">\r\n     <use xlink:href=\"#DejaVuSans-30\"/>\r\n     <use x=\"63.623047\" xlink:href=\"#DejaVuSans-2e\"/>\r\n     <use x=\"95.410156\" xlink:href=\"#DejaVuSans-35\"/>\r\n     <use x=\"159.033203\" xlink:href=\"#DejaVuSans-39\"/>\r\n     <use x=\"222.65625\" xlink:href=\"#DejaVuSans-34\"/>\r\n    </g>\r\n   </g>\r\n   <g id=\"text_32\">\r\n    <!-- 0.594 -->\r\n    <g style=\"fill:#ffffff;\" transform=\"translate(267.838348 123.209375)scale(0.1 -0.1)\">\r\n     <use xlink:href=\"#DejaVuSans-30\"/>\r\n     <use x=\"63.623047\" xlink:href=\"#DejaVuSans-2e\"/>\r\n     <use x=\"95.410156\" xlink:href=\"#DejaVuSans-35\"/>\r\n     <use x=\"159.033203\" xlink:href=\"#DejaVuSans-39\"/>\r\n     <use x=\"222.65625\" xlink:href=\"#DejaVuSans-34\"/>\r\n    </g>\r\n   </g>\r\n   <g id=\"text_33\">\r\n    <!-- 0.594 -->\r\n    <g style=\"fill:#ffffff;\" transform=\"translate(325.232634 123.209375)scale(0.1 -0.1)\">\r\n     <use xlink:href=\"#DejaVuSans-30\"/>\r\n     <use x=\"63.623047\" xlink:href=\"#DejaVuSans-2e\"/>\r\n     <use x=\"95.410156\" xlink:href=\"#DejaVuSans-35\"/>\r\n     <use x=\"159.033203\" xlink:href=\"#DejaVuSans-39\"/>\r\n     <use x=\"222.65625\" xlink:href=\"#DejaVuSans-34\"/>\r\n    </g>\r\n   </g>\r\n   <g id=\"text_34\">\r\n    <!-- 0.594 -->\r\n    <g style=\"fill:#ffffff;\" transform=\"translate(382.62692 123.209375)scale(0.1 -0.1)\">\r\n     <use xlink:href=\"#DejaVuSans-30\"/>\r\n     <use x=\"63.623047\" xlink:href=\"#DejaVuSans-2e\"/>\r\n     <use x=\"95.410156\" xlink:href=\"#DejaVuSans-35\"/>\r\n     <use x=\"159.033203\" xlink:href=\"#DejaVuSans-39\"/>\r\n     <use x=\"222.65625\" xlink:href=\"#DejaVuSans-34\"/>\r\n    </g>\r\n   </g>\r\n   <g id=\"text_35\">\r\n    <!-- 0.594 -->\r\n    <g style=\"fill:#ffffff;\" transform=\"translate(38.261205 168.509375)scale(0.1 -0.1)\">\r\n     <use xlink:href=\"#DejaVuSans-30\"/>\r\n     <use x=\"63.623047\" xlink:href=\"#DejaVuSans-2e\"/>\r\n     <use x=\"95.410156\" xlink:href=\"#DejaVuSans-35\"/>\r\n     <use x=\"159.033203\" xlink:href=\"#DejaVuSans-39\"/>\r\n     <use x=\"222.65625\" xlink:href=\"#DejaVuSans-34\"/>\r\n    </g>\r\n   </g>\r\n   <g id=\"text_36\">\r\n    <!-- 0.594 -->\r\n    <g style=\"fill:#ffffff;\" transform=\"translate(95.655491 168.509375)scale(0.1 -0.1)\">\r\n     <use xlink:href=\"#DejaVuSans-30\"/>\r\n     <use x=\"63.623047\" xlink:href=\"#DejaVuSans-2e\"/>\r\n     <use x=\"95.410156\" xlink:href=\"#DejaVuSans-35\"/>\r\n     <use x=\"159.033203\" xlink:href=\"#DejaVuSans-39\"/>\r\n     <use x=\"222.65625\" xlink:href=\"#DejaVuSans-34\"/>\r\n    </g>\r\n   </g>\r\n   <g id=\"text_37\">\r\n    <!-- 0.594 -->\r\n    <g style=\"fill:#ffffff;\" transform=\"translate(153.049777 168.509375)scale(0.1 -0.1)\">\r\n     <use xlink:href=\"#DejaVuSans-30\"/>\r\n     <use x=\"63.623047\" xlink:href=\"#DejaVuSans-2e\"/>\r\n     <use x=\"95.410156\" xlink:href=\"#DejaVuSans-35\"/>\r\n     <use x=\"159.033203\" xlink:href=\"#DejaVuSans-39\"/>\r\n     <use x=\"222.65625\" xlink:href=\"#DejaVuSans-34\"/>\r\n    </g>\r\n   </g>\r\n   <g id=\"text_38\">\r\n    <!-- 0.594 -->\r\n    <g style=\"fill:#ffffff;\" transform=\"translate(210.444063 168.509375)scale(0.1 -0.1)\">\r\n     <use xlink:href=\"#DejaVuSans-30\"/>\r\n     <use x=\"63.623047\" xlink:href=\"#DejaVuSans-2e\"/>\r\n     <use x=\"95.410156\" xlink:href=\"#DejaVuSans-35\"/>\r\n     <use x=\"159.033203\" xlink:href=\"#DejaVuSans-39\"/>\r\n     <use x=\"222.65625\" xlink:href=\"#DejaVuSans-34\"/>\r\n    </g>\r\n   </g>\r\n   <g id=\"text_39\">\r\n    <!-- 0.594 -->\r\n    <g style=\"fill:#ffffff;\" transform=\"translate(267.838348 168.509375)scale(0.1 -0.1)\">\r\n     <use xlink:href=\"#DejaVuSans-30\"/>\r\n     <use x=\"63.623047\" xlink:href=\"#DejaVuSans-2e\"/>\r\n     <use x=\"95.410156\" xlink:href=\"#DejaVuSans-35\"/>\r\n     <use x=\"159.033203\" xlink:href=\"#DejaVuSans-39\"/>\r\n     <use x=\"222.65625\" xlink:href=\"#DejaVuSans-34\"/>\r\n    </g>\r\n   </g>\r\n   <g id=\"text_40\">\r\n    <!-- 0.594 -->\r\n    <g style=\"fill:#ffffff;\" transform=\"translate(325.232634 168.509375)scale(0.1 -0.1)\">\r\n     <use xlink:href=\"#DejaVuSans-30\"/>\r\n     <use x=\"63.623047\" xlink:href=\"#DejaVuSans-2e\"/>\r\n     <use x=\"95.410156\" xlink:href=\"#DejaVuSans-35\"/>\r\n     <use x=\"159.033203\" xlink:href=\"#DejaVuSans-39\"/>\r\n     <use x=\"222.65625\" xlink:href=\"#DejaVuSans-34\"/>\r\n    </g>\r\n   </g>\r\n   <g id=\"text_41\">\r\n    <!-- 0.594 -->\r\n    <g style=\"fill:#ffffff;\" transform=\"translate(382.62692 168.509375)scale(0.1 -0.1)\">\r\n     <use xlink:href=\"#DejaVuSans-30\"/>\r\n     <use x=\"63.623047\" xlink:href=\"#DejaVuSans-2e\"/>\r\n     <use x=\"95.410156\" xlink:href=\"#DejaVuSans-35\"/>\r\n     <use x=\"159.033203\" xlink:href=\"#DejaVuSans-39\"/>\r\n     <use x=\"222.65625\" xlink:href=\"#DejaVuSans-34\"/>\r\n    </g>\r\n   </g>\r\n   <g id=\"text_42\">\r\n    <!-- 0.594 -->\r\n    <g style=\"fill:#ffffff;\" transform=\"translate(38.261205 213.809375)scale(0.1 -0.1)\">\r\n     <use xlink:href=\"#DejaVuSans-30\"/>\r\n     <use x=\"63.623047\" xlink:href=\"#DejaVuSans-2e\"/>\r\n     <use x=\"95.410156\" xlink:href=\"#DejaVuSans-35\"/>\r\n     <use x=\"159.033203\" xlink:href=\"#DejaVuSans-39\"/>\r\n     <use x=\"222.65625\" xlink:href=\"#DejaVuSans-34\"/>\r\n    </g>\r\n   </g>\r\n   <g id=\"text_43\">\r\n    <!-- 0.594 -->\r\n    <g style=\"fill:#ffffff;\" transform=\"translate(95.655491 213.809375)scale(0.1 -0.1)\">\r\n     <use xlink:href=\"#DejaVuSans-30\"/>\r\n     <use x=\"63.623047\" xlink:href=\"#DejaVuSans-2e\"/>\r\n     <use x=\"95.410156\" xlink:href=\"#DejaVuSans-35\"/>\r\n     <use x=\"159.033203\" xlink:href=\"#DejaVuSans-39\"/>\r\n     <use x=\"222.65625\" xlink:href=\"#DejaVuSans-34\"/>\r\n    </g>\r\n   </g>\r\n   <g id=\"text_44\">\r\n    <!-- 0.594 -->\r\n    <g style=\"fill:#ffffff;\" transform=\"translate(153.049777 213.809375)scale(0.1 -0.1)\">\r\n     <use xlink:href=\"#DejaVuSans-30\"/>\r\n     <use x=\"63.623047\" xlink:href=\"#DejaVuSans-2e\"/>\r\n     <use x=\"95.410156\" xlink:href=\"#DejaVuSans-35\"/>\r\n     <use x=\"159.033203\" xlink:href=\"#DejaVuSans-39\"/>\r\n     <use x=\"222.65625\" xlink:href=\"#DejaVuSans-34\"/>\r\n    </g>\r\n   </g>\r\n   <g id=\"text_45\">\r\n    <!-- 0.594 -->\r\n    <g style=\"fill:#ffffff;\" transform=\"translate(210.444063 213.809375)scale(0.1 -0.1)\">\r\n     <use xlink:href=\"#DejaVuSans-30\"/>\r\n     <use x=\"63.623047\" xlink:href=\"#DejaVuSans-2e\"/>\r\n     <use x=\"95.410156\" xlink:href=\"#DejaVuSans-35\"/>\r\n     <use x=\"159.033203\" xlink:href=\"#DejaVuSans-39\"/>\r\n     <use x=\"222.65625\" xlink:href=\"#DejaVuSans-34\"/>\r\n    </g>\r\n   </g>\r\n   <g id=\"text_46\">\r\n    <!-- 0.594 -->\r\n    <g style=\"fill:#ffffff;\" transform=\"translate(267.838348 213.809375)scale(0.1 -0.1)\">\r\n     <use xlink:href=\"#DejaVuSans-30\"/>\r\n     <use x=\"63.623047\" xlink:href=\"#DejaVuSans-2e\"/>\r\n     <use x=\"95.410156\" xlink:href=\"#DejaVuSans-35\"/>\r\n     <use x=\"159.033203\" xlink:href=\"#DejaVuSans-39\"/>\r\n     <use x=\"222.65625\" xlink:href=\"#DejaVuSans-34\"/>\r\n    </g>\r\n   </g>\r\n   <g id=\"text_47\">\r\n    <!-- 0.594 -->\r\n    <g style=\"fill:#ffffff;\" transform=\"translate(325.232634 213.809375)scale(0.1 -0.1)\">\r\n     <use xlink:href=\"#DejaVuSans-30\"/>\r\n     <use x=\"63.623047\" xlink:href=\"#DejaVuSans-2e\"/>\r\n     <use x=\"95.410156\" xlink:href=\"#DejaVuSans-35\"/>\r\n     <use x=\"159.033203\" xlink:href=\"#DejaVuSans-39\"/>\r\n     <use x=\"222.65625\" xlink:href=\"#DejaVuSans-34\"/>\r\n    </g>\r\n   </g>\r\n   <g id=\"text_48\">\r\n    <!-- 0.594 -->\r\n    <g style=\"fill:#ffffff;\" transform=\"translate(382.62692 213.809375)scale(0.1 -0.1)\">\r\n     <use xlink:href=\"#DejaVuSans-30\"/>\r\n     <use x=\"63.623047\" xlink:href=\"#DejaVuSans-2e\"/>\r\n     <use x=\"95.410156\" xlink:href=\"#DejaVuSans-35\"/>\r\n     <use x=\"159.033203\" xlink:href=\"#DejaVuSans-39\"/>\r\n     <use x=\"222.65625\" xlink:href=\"#DejaVuSans-34\"/>\r\n    </g>\r\n   </g>\r\n   <g id=\"text_49\">\r\n    <!-- 0.594 -->\r\n    <g style=\"fill:#ffffff;\" transform=\"translate(38.261205 259.109375)scale(0.1 -0.1)\">\r\n     <use xlink:href=\"#DejaVuSans-30\"/>\r\n     <use x=\"63.623047\" xlink:href=\"#DejaVuSans-2e\"/>\r\n     <use x=\"95.410156\" xlink:href=\"#DejaVuSans-35\"/>\r\n     <use x=\"159.033203\" xlink:href=\"#DejaVuSans-39\"/>\r\n     <use x=\"222.65625\" xlink:href=\"#DejaVuSans-34\"/>\r\n    </g>\r\n   </g>\r\n   <g id=\"text_50\">\r\n    <!-- 0.594 -->\r\n    <g style=\"fill:#ffffff;\" transform=\"translate(95.655491 259.109375)scale(0.1 -0.1)\">\r\n     <use xlink:href=\"#DejaVuSans-30\"/>\r\n     <use x=\"63.623047\" xlink:href=\"#DejaVuSans-2e\"/>\r\n     <use x=\"95.410156\" xlink:href=\"#DejaVuSans-35\"/>\r\n     <use x=\"159.033203\" xlink:href=\"#DejaVuSans-39\"/>\r\n     <use x=\"222.65625\" xlink:href=\"#DejaVuSans-34\"/>\r\n    </g>\r\n   </g>\r\n   <g id=\"text_51\">\r\n    <!-- 0.594 -->\r\n    <g style=\"fill:#ffffff;\" transform=\"translate(153.049777 259.109375)scale(0.1 -0.1)\">\r\n     <use xlink:href=\"#DejaVuSans-30\"/>\r\n     <use x=\"63.623047\" xlink:href=\"#DejaVuSans-2e\"/>\r\n     <use x=\"95.410156\" xlink:href=\"#DejaVuSans-35\"/>\r\n     <use x=\"159.033203\" xlink:href=\"#DejaVuSans-39\"/>\r\n     <use x=\"222.65625\" xlink:href=\"#DejaVuSans-34\"/>\r\n    </g>\r\n   </g>\r\n   <g id=\"text_52\">\r\n    <!-- 0.594 -->\r\n    <g style=\"fill:#ffffff;\" transform=\"translate(210.444063 259.109375)scale(0.1 -0.1)\">\r\n     <use xlink:href=\"#DejaVuSans-30\"/>\r\n     <use x=\"63.623047\" xlink:href=\"#DejaVuSans-2e\"/>\r\n     <use x=\"95.410156\" xlink:href=\"#DejaVuSans-35\"/>\r\n     <use x=\"159.033203\" xlink:href=\"#DejaVuSans-39\"/>\r\n     <use x=\"222.65625\" xlink:href=\"#DejaVuSans-34\"/>\r\n    </g>\r\n   </g>\r\n   <g id=\"text_53\">\r\n    <!-- 0.594 -->\r\n    <g style=\"fill:#ffffff;\" transform=\"translate(267.838348 259.109375)scale(0.1 -0.1)\">\r\n     <use xlink:href=\"#DejaVuSans-30\"/>\r\n     <use x=\"63.623047\" xlink:href=\"#DejaVuSans-2e\"/>\r\n     <use x=\"95.410156\" xlink:href=\"#DejaVuSans-35\"/>\r\n     <use x=\"159.033203\" xlink:href=\"#DejaVuSans-39\"/>\r\n     <use x=\"222.65625\" xlink:href=\"#DejaVuSans-34\"/>\r\n    </g>\r\n   </g>\r\n   <g id=\"text_54\">\r\n    <!-- 0.594 -->\r\n    <g style=\"fill:#ffffff;\" transform=\"translate(325.232634 259.109375)scale(0.1 -0.1)\">\r\n     <use xlink:href=\"#DejaVuSans-30\"/>\r\n     <use x=\"63.623047\" xlink:href=\"#DejaVuSans-2e\"/>\r\n     <use x=\"95.410156\" xlink:href=\"#DejaVuSans-35\"/>\r\n     <use x=\"159.033203\" xlink:href=\"#DejaVuSans-39\"/>\r\n     <use x=\"222.65625\" xlink:href=\"#DejaVuSans-34\"/>\r\n    </g>\r\n   </g>\r\n   <g id=\"text_55\">\r\n    <!-- 0.594 -->\r\n    <g style=\"fill:#ffffff;\" transform=\"translate(382.62692 259.109375)scale(0.1 -0.1)\">\r\n     <use xlink:href=\"#DejaVuSans-30\"/>\r\n     <use x=\"63.623047\" xlink:href=\"#DejaVuSans-2e\"/>\r\n     <use x=\"95.410156\" xlink:href=\"#DejaVuSans-35\"/>\r\n     <use x=\"159.033203\" xlink:href=\"#DejaVuSans-39\"/>\r\n     <use x=\"222.65625\" xlink:href=\"#DejaVuSans-34\"/>\r\n    </g>\r\n   </g>\r\n  </g>\r\n  <g id=\"axes_2\">\r\n   <g id=\"patch_3\">\r\n    <path d=\"M 450.748125 279 \r\nL 464.338125 279 \r\nL 464.338125 7.2 \r\nL 450.748125 7.2 \r\nz\r\n\" style=\"fill:#ffffff;\"/>\r\n   </g>\r\n   <g id=\"patch_4\">\r\n    <path clip-path=\"url(#p4909425edc)\" d=\"M 450.748125 279 \r\nL 450.748125 277.938281 \r\nL 450.748125 8.261719 \r\nL 450.748125 7.2 \r\nL 464.338125 7.2 \r\nL 464.338125 8.261719 \r\nL 464.338125 277.938281 \r\nL 464.338125 279 \r\nL 464.338125 279 \r\nz\r\n\" style=\"fill:#ffffff;stroke:#ffffff;stroke-linejoin:miter;stroke-width:0.01;\"/>\r\n   </g>\r\n   <image height=\"272\" id=\"image7923c28474\" transform=\"scale(1 -1)translate(0 -272)\" width=\"13\" x=\"451\" xlink:href=\"data:image/png;base64,\r\niVBORw0KGgoAAAANSUhEUgAAAA0AAAEQCAYAAABr1P6NAAABbElEQVR4nO2awQ2EMAwEHeCauP77hA8U4HmMVlb4r9Ye2yGQrPP3v6v5XKurqKprrb4MispyOrTwmBPKCYR3tBXlIrdAiA07EQR06refidxygkM4DwR0Su/yDYKL0I4lfQiz6wRz6j8jczKL23/EhiXhxQ9hW0LfhGZxo53EOg2kR0CwITTpAdHI8No/gOSckMgbdyIiyLXw6OQSUTQI2OXaPI1ELobXt/IWS7qHBaLjJiCIU3idFnLqG2F6Xp2QExGBlvBA0HMNBAKI4IckcfJyQh2xw3udwMIHc2JOfRHcjjJ6wAkVN71O6eERJ68jtJzKygm+CRk9ICIBDnUCfz7CnYo4zQzPOpFkOZEjCuQEReCiSHZxryKXXzzkS0Nugug7iUPogdjF/URs3UM5hSMnV/Gs8OgQanXy2kgrbjqIcHrznMwhnEfPXJbXKTmFg4BOhF74EKKL9l4b7Y74nFCdNr3XKZmeOLkE+QPwVi3flZvwkQAAAABJRU5ErkJggg==\" y=\"-6\"/>\r\n   <g id=\"matplotlib.axis_3\"/>\r\n   <g id=\"matplotlib.axis_4\">\r\n    <g id=\"ytick_7\">\r\n     <g id=\"line2d_14\">\r\n      <defs>\r\n       <path d=\"M 0 0 \r\nL 3.5 0 \r\n\" id=\"m888c0337b5\" style=\"stroke:#000000;stroke-width:0.8;\"/>\r\n      </defs>\r\n      <g>\r\n       <use style=\"stroke:#000000;stroke-width:0.8;\" x=\"464.338125\" xlink:href=\"#m888c0337b5\" y=\"265.791577\"/>\r\n      </g>\r\n     </g>\r\n     <g id=\"text_56\">\r\n      <!-- 0.54 -->\r\n      <g transform=\"translate(471.338125 269.590795)scale(0.1 -0.1)\">\r\n       <use xlink:href=\"#DejaVuSans-30\"/>\r\n       <use x=\"63.623047\" xlink:href=\"#DejaVuSans-2e\"/>\r\n       <use x=\"95.410156\" xlink:href=\"#DejaVuSans-35\"/>\r\n       <use x=\"159.033203\" xlink:href=\"#DejaVuSans-34\"/>\r\n      </g>\r\n     </g>\r\n    </g>\r\n    <g id=\"ytick_8\">\r\n     <g id=\"line2d_15\">\r\n      <g>\r\n       <use style=\"stroke:#000000;stroke-width:0.8;\" x=\"464.338125\" xlink:href=\"#m888c0337b5\" y=\"220.002376\"/>\r\n      </g>\r\n     </g>\r\n     <g id=\"text_57\">\r\n      <!-- 0.56 -->\r\n      <g transform=\"translate(471.338125 223.801595)scale(0.1 -0.1)\">\r\n       <defs>\r\n        <path d=\"M 2113 2584 \r\nQ 1688 2584 1439 2293 \r\nQ 1191 2003 1191 1497 \r\nQ 1191 994 1439 701 \r\nQ 1688 409 2113 409 \r\nQ 2538 409 2786 701 \r\nQ 3034 994 3034 1497 \r\nQ 3034 2003 2786 2293 \r\nQ 2538 2584 2113 2584 \r\nz\r\nM 3366 4563 \r\nL 3366 3988 \r\nQ 3128 4100 2886 4159 \r\nQ 2644 4219 2406 4219 \r\nQ 1781 4219 1451 3797 \r\nQ 1122 3375 1075 2522 \r\nQ 1259 2794 1537 2939 \r\nQ 1816 3084 2150 3084 \r\nQ 2853 3084 3261 2657 \r\nQ 3669 2231 3669 1497 \r\nQ 3669 778 3244 343 \r\nQ 2819 -91 2113 -91 \r\nQ 1303 -91 875 529 \r\nQ 447 1150 447 2328 \r\nQ 447 3434 972 4092 \r\nQ 1497 4750 2381 4750 \r\nQ 2619 4750 2861 4703 \r\nQ 3103 4656 3366 4563 \r\nz\r\n\" id=\"DejaVuSans-36\" transform=\"scale(0.015625)\"/>\r\n       </defs>\r\n       <use xlink:href=\"#DejaVuSans-30\"/>\r\n       <use x=\"63.623047\" xlink:href=\"#DejaVuSans-2e\"/>\r\n       <use x=\"95.410156\" xlink:href=\"#DejaVuSans-35\"/>\r\n       <use x=\"159.033203\" xlink:href=\"#DejaVuSans-36\"/>\r\n      </g>\r\n     </g>\r\n    </g>\r\n    <g id=\"ytick_9\">\r\n     <g id=\"line2d_16\">\r\n      <g>\r\n       <use style=\"stroke:#000000;stroke-width:0.8;\" x=\"464.338125\" xlink:href=\"#m888c0337b5\" y=\"174.213175\"/>\r\n      </g>\r\n     </g>\r\n     <g id=\"text_58\">\r\n      <!-- 0.58 -->\r\n      <g transform=\"translate(471.338125 178.012394)scale(0.1 -0.1)\">\r\n       <defs>\r\n        <path d=\"M 2034 2216 \r\nQ 1584 2216 1326 1975 \r\nQ 1069 1734 1069 1313 \r\nQ 1069 891 1326 650 \r\nQ 1584 409 2034 409 \r\nQ 2484 409 2743 651 \r\nQ 3003 894 3003 1313 \r\nQ 3003 1734 2745 1975 \r\nQ 2488 2216 2034 2216 \r\nz\r\nM 1403 2484 \r\nQ 997 2584 770 2862 \r\nQ 544 3141 544 3541 \r\nQ 544 4100 942 4425 \r\nQ 1341 4750 2034 4750 \r\nQ 2731 4750 3128 4425 \r\nQ 3525 4100 3525 3541 \r\nQ 3525 3141 3298 2862 \r\nQ 3072 2584 2669 2484 \r\nQ 3125 2378 3379 2068 \r\nQ 3634 1759 3634 1313 \r\nQ 3634 634 3220 271 \r\nQ 2806 -91 2034 -91 \r\nQ 1263 -91 848 271 \r\nQ 434 634 434 1313 \r\nQ 434 1759 690 2068 \r\nQ 947 2378 1403 2484 \r\nz\r\nM 1172 3481 \r\nQ 1172 3119 1398 2916 \r\nQ 1625 2713 2034 2713 \r\nQ 2441 2713 2670 2916 \r\nQ 2900 3119 2900 3481 \r\nQ 2900 3844 2670 4047 \r\nQ 2441 4250 2034 4250 \r\nQ 1625 4250 1398 4047 \r\nQ 1172 3844 1172 3481 \r\nz\r\n\" id=\"DejaVuSans-38\" transform=\"scale(0.015625)\"/>\r\n       </defs>\r\n       <use xlink:href=\"#DejaVuSans-30\"/>\r\n       <use x=\"63.623047\" xlink:href=\"#DejaVuSans-2e\"/>\r\n       <use x=\"95.410156\" xlink:href=\"#DejaVuSans-35\"/>\r\n       <use x=\"159.033203\" xlink:href=\"#DejaVuSans-38\"/>\r\n      </g>\r\n     </g>\r\n    </g>\r\n    <g id=\"ytick_10\">\r\n     <g id=\"line2d_17\">\r\n      <g>\r\n       <use style=\"stroke:#000000;stroke-width:0.8;\" x=\"464.338125\" xlink:href=\"#m888c0337b5\" y=\"128.423974\"/>\r\n      </g>\r\n     </g>\r\n     <g id=\"text_59\">\r\n      <!-- 0.60 -->\r\n      <g transform=\"translate(471.338125 132.223193)scale(0.1 -0.1)\">\r\n       <use xlink:href=\"#DejaVuSans-30\"/>\r\n       <use x=\"63.623047\" xlink:href=\"#DejaVuSans-2e\"/>\r\n       <use x=\"95.410156\" xlink:href=\"#DejaVuSans-36\"/>\r\n       <use x=\"159.033203\" xlink:href=\"#DejaVuSans-30\"/>\r\n      </g>\r\n     </g>\r\n    </g>\r\n    <g id=\"ytick_11\">\r\n     <g id=\"line2d_18\">\r\n      <g>\r\n       <use style=\"stroke:#000000;stroke-width:0.8;\" x=\"464.338125\" xlink:href=\"#m888c0337b5\" y=\"82.634773\"/>\r\n      </g>\r\n     </g>\r\n     <g id=\"text_60\">\r\n      <!-- 0.62 -->\r\n      <g transform=\"translate(471.338125 86.433992)scale(0.1 -0.1)\">\r\n       <defs>\r\n        <path d=\"M 1228 531 \r\nL 3431 531 \r\nL 3431 0 \r\nL 469 0 \r\nL 469 531 \r\nQ 828 903 1448 1529 \r\nQ 2069 2156 2228 2338 \r\nQ 2531 2678 2651 2914 \r\nQ 2772 3150 2772 3378 \r\nQ 2772 3750 2511 3984 \r\nQ 2250 4219 1831 4219 \r\nQ 1534 4219 1204 4116 \r\nQ 875 4013 500 3803 \r\nL 500 4441 \r\nQ 881 4594 1212 4672 \r\nQ 1544 4750 1819 4750 \r\nQ 2544 4750 2975 4387 \r\nQ 3406 4025 3406 3419 \r\nQ 3406 3131 3298 2873 \r\nQ 3191 2616 2906 2266 \r\nQ 2828 2175 2409 1742 \r\nQ 1991 1309 1228 531 \r\nz\r\n\" id=\"DejaVuSans-32\" transform=\"scale(0.015625)\"/>\r\n       </defs>\r\n       <use xlink:href=\"#DejaVuSans-30\"/>\r\n       <use x=\"63.623047\" xlink:href=\"#DejaVuSans-2e\"/>\r\n       <use x=\"95.410156\" xlink:href=\"#DejaVuSans-36\"/>\r\n       <use x=\"159.033203\" xlink:href=\"#DejaVuSans-32\"/>\r\n      </g>\r\n     </g>\r\n    </g>\r\n    <g id=\"ytick_12\">\r\n     <g id=\"line2d_19\">\r\n      <g>\r\n       <use style=\"stroke:#000000;stroke-width:0.8;\" x=\"464.338125\" xlink:href=\"#m888c0337b5\" y=\"36.845572\"/>\r\n      </g>\r\n     </g>\r\n     <g id=\"text_61\">\r\n      <!-- 0.64 -->\r\n      <g transform=\"translate(471.338125 40.644791)scale(0.1 -0.1)\">\r\n       <use xlink:href=\"#DejaVuSans-30\"/>\r\n       <use x=\"63.623047\" xlink:href=\"#DejaVuSans-2e\"/>\r\n       <use x=\"95.410156\" xlink:href=\"#DejaVuSans-36\"/>\r\n       <use x=\"159.033203\" xlink:href=\"#DejaVuSans-34\"/>\r\n      </g>\r\n     </g>\r\n    </g>\r\n   </g>\r\n   <g id=\"LineCollection_1\"/>\r\n   <g id=\"patch_5\">\r\n    <path d=\"M 450.748125 279 \r\nL 450.748125 277.938281 \r\nL 450.748125 8.261719 \r\nL 450.748125 7.2 \r\nL 464.338125 7.2 \r\nL 464.338125 8.261719 \r\nL 464.338125 277.938281 \r\nL 464.338125 279 \r\nz\r\n\" style=\"fill:none;\"/>\r\n   </g>\r\n  </g>\r\n </g>\r\n <defs>\r\n  <clipPath id=\"p0055cffb8a\">\r\n   <rect height=\"271.8\" width=\"401.76\" x=\"23.878125\" y=\"7.2\"/>\r\n  </clipPath>\r\n  <clipPath id=\"p4909425edc\">\r\n   <rect height=\"271.8\" width=\"13.59\" x=\"450.748125\" y=\"7.2\"/>\r\n  </clipPath>\r\n </defs>\r\n</svg>\r\n",
      "image/png": "[encoded data removed]"
     },
     "metadata": {
      "needs_background": "light"
     }
    }
   ],
   "source": [
    "plt.figure(figsize=(9, 5))\n",
    "sns.heatmap(res, annot=True, fmt='.3g', xticklabels=gamma_range, yticklabels=C_range)"
   ]
  },
  {
   "cell_type": "code",
   "execution_count": 335,
   "metadata": {},
   "outputs": [
    {
     "output_type": "execute_result",
     "data": {
      "text/plain": [
       "SVC(C=0.1, gamma=100)"
      ]
     },
     "metadata": {},
     "execution_count": 335
    }
   ],
   "source": [
    "grid.best_estimator_"
   ]
  },
  {
   "cell_type": "code",
   "execution_count": 336,
   "metadata": {},
   "outputs": [
    {
     "output_type": "execute_result",
     "data": {
      "text/plain": [
       "SVC(C=0.1, gamma=100)"
      ]
     },
     "metadata": {},
     "execution_count": 336
    }
   ],
   "source": [
    "grid.best_estimator_.fit(X_train, y_train)"
   ]
  },
  {
   "cell_type": "code",
   "execution_count": 337,
   "metadata": {},
   "outputs": [
    {
     "output_type": "execute_result",
     "data": {
      "text/plain": [
       "0.59375"
      ]
     },
     "metadata": {},
     "execution_count": 337
    }
   ],
   "source": [
    "grid.best_estimator_.score(X_train, y_train)"
   ]
  },
  {
   "cell_type": "code",
   "execution_count": 338,
   "metadata": {},
   "outputs": [
    {
     "output_type": "execute_result",
     "data": {
      "text/plain": [
       "0.5294117647058824"
      ]
     },
     "metadata": {},
     "execution_count": 338
    }
   ],
   "source": [
    "grid.best_estimator_.score(X_test, y_test)"
   ]
  },
  {
   "cell_type": "code",
   "execution_count": 339,
   "metadata": {},
   "outputs": [
    {
     "output_type": "execute_result",
     "data": {
      "text/plain": [
       "array([38, 26])"
      ]
     },
     "metadata": {},
     "execution_count": 339
    }
   ],
   "source": [
    "grid.best_estimator_.n_support_"
   ]
  },
  {
   "cell_type": "code",
   "execution_count": null,
   "metadata": {},
   "outputs": [],
   "source": []
  },
  {
   "cell_type": "code",
   "execution_count": null,
   "metadata": {},
   "outputs": [],
   "source": []
  }
 ]
}