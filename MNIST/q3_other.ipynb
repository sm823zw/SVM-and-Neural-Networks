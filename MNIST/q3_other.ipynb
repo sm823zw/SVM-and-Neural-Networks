{
 "metadata": {
  "language_info": {
   "codemirror_mode": {
    "name": "ipython",
    "version": 3
   },
   "file_extension": ".py",
   "mimetype": "text/x-python",
   "name": "python",
   "nbconvert_exporter": "python",
   "pygments_lexer": "ipython3",
   "version": "3.8.0"
  },
  "orig_nbformat": 2,
  "kernelspec": {
   "name": "python380jvsc74a57bd08edf8cbb509fdf3d46e061f30af3d9278aa0b7efb734bc4d8f02fc9816eea4c1",
   "display_name": "Python 3.8.0 64-bit ('tf2.4': conda)"
  }
 },
 "nbformat": 4,
 "nbformat_minor": 2,
 "cells": [
  {
   "cell_type": "code",
   "execution_count": 1,
   "metadata": {},
   "outputs": [],
   "source": [
    "import numpy as np\n",
    "import seaborn as sns\n",
    "from scipy.io import loadmat\n",
    "import matplotlib.pyplot as plt"
   ]
  },
  {
   "cell_type": "code",
   "execution_count": 2,
   "metadata": {},
   "outputs": [],
   "source": [
    "path_train_data = \"R:/IISc/Sem 2/PRNN/Assignments/assignment-3-files/MNIST/mnist-rot_training_data.mat\"\n",
    "path_train_label = \"R:/IISc/Sem 2/PRNN/Assignments/assignment-3-files/MNIST/mnist-rot_training_label.mat\"\n",
    "path_test_data = \"R:/IISc/Sem 2/PRNN/Assignments/assignment-3-files/MNIST/mnist-rot_test_data.mat\"\n",
    "path_test_label = \"R:/IISc/Sem 2/PRNN/Assignments/assignment-3-files/MNIST/mnist-rot_test_label.mat\""
   ]
  },
  {
   "cell_type": "code",
   "execution_count": 3,
   "metadata": {},
   "outputs": [],
   "source": [
    "train_data_mat = loadmat(path_train_data)\n",
    "train_data = train_data_mat['train_data']\n",
    "\n",
    "train_label_mat = loadmat(path_train_label)\n",
    "train_label = train_label_mat['train_label']\n",
    "\n",
    "test_data_mat = loadmat(path_test_data)\n",
    "test_data = test_data_mat['test_data']\n",
    "\n",
    "test_label_mat = loadmat(path_test_label)\n",
    "test_label = test_label_mat['test_label']"
   ]
  },
  {
   "cell_type": "code",
   "execution_count": 4,
   "metadata": {},
   "outputs": [],
   "source": [
    "train_data = train_data.reshape(train_data.shape[0], 784)\n",
    "test_data = test_data.reshape(test_data.shape[0], 784)\n",
    "# train_label = train_label.T\n",
    "# test_label = test_label.T"
   ]
  },
  {
   "cell_type": "code",
   "execution_count": 5,
   "metadata": {},
   "outputs": [],
   "source": [
    "y_train = train_label.reshape(train_label.shape[1],)\n",
    "y_test = test_label.reshape(test_label.shape[1], )"
   ]
  },
  {
   "cell_type": "code",
   "execution_count": 6,
   "metadata": {},
   "outputs": [],
   "source": [
    "from sklearn.preprocessing import StandardScaler\n",
    "scaler = StandardScaler()\n",
    "X_train = scaler.fit_transform(train_data)\n",
    "X_test = scaler.transform(test_data)\n",
    "# X_train = X_train.reshape((X_train.shape[0], 28, 28, 1))\n",
    "# X_test = X_test.reshape((X_test.shape[0], 28, 28, 1))"
   ]
  },
  {
   "cell_type": "code",
   "execution_count": 7,
   "metadata": {},
   "outputs": [],
   "source": [
    "from sklearn.svm import SVC"
   ]
  },
  {
   "cell_type": "code",
   "execution_count": 8,
   "metadata": {},
   "outputs": [
    {
     "output_type": "stream",
     "name": "stdout",
     "text": [
      "Fitting 5 folds for each of 12 candidates, totalling 60 fits\n"
     ]
    }
   ],
   "source": [
    "from sklearn.model_selection import GridSearchCV\n",
    "C_range = [1, 10, 100, 1000]\n",
    "gamma_range = [1, 0.1, 0.01]\n",
    "degree_range =[6]\n",
    "# gamma_range = [1]\n",
    "# degree_range = [1]\n",
    "param_grid = {'C': C_range, 'gamma': gamma_range, 'degree':degree_range, 'kernel': ['rbf']} \n",
    "grid = GridSearchCV(SVC(), param_grid, refit = True, verbose = 3)\n",
    "grid.fit(X_train, y_train)"
   ]
  },
  {
   "cell_type": "code",
   "execution_count": 8,
   "metadata": {},
   "outputs": [],
   "source": [
    "clf = SVC(C=1, kernel='rbf')"
   ]
  },
  {
   "cell_type": "code",
   "execution_count": 9,
   "metadata": {},
   "outputs": [
    {
     "output_type": "execute_result",
     "data": {
      "text/plain": [
       "SVC(C=1)"
      ]
     },
     "metadata": {},
     "execution_count": 9
    }
   ],
   "source": [
    "clf.fit(X_train, y_train)"
   ]
  },
  {
   "cell_type": "code",
   "execution_count": 11,
   "metadata": {},
   "outputs": [
    {
     "output_type": "execute_result",
     "data": {
      "text/plain": [
       "0.98548"
      ]
     },
     "metadata": {},
     "execution_count": 11
    }
   ],
   "source": [
    "clf.score(X_train, y_train)"
   ]
  },
  {
   "cell_type": "code",
   "execution_count": 12,
   "metadata": {},
   "outputs": [
    {
     "output_type": "execute_result",
     "data": {
      "text/plain": [
       "0.9652"
      ]
     },
     "metadata": {},
     "execution_count": 12
    }
   ],
   "source": [
    "list(clf.predict(X_test) == y_test).count(True)/X_test.shape[0]"
   ]
  },
  {
   "cell_type": "code",
   "execution_count": null,
   "metadata": {},
   "outputs": [],
   "source": []
  }
 ]
}