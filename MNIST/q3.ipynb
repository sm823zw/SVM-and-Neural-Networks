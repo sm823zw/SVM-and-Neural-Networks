{
 "cells": [
  {
   "cell_type": "code",
   "execution_count": 1,
   "metadata": {},
   "outputs": [],
   "source": [
    "import numpy as np\n",
    "import seaborn as sns\n",
    "import tensorflow as tf\n",
    "from scipy.io import loadmat\n",
    "import matplotlib.pyplot as plt"
   ]
  },
  {
   "cell_type": "code",
   "execution_count": 2,
   "metadata": {},
   "outputs": [],
   "source": [
    "physical_devices = tf.config.list_physical_devices('GPU') \n",
    "tf.config.experimental.set_memory_growth(physical_devices[0], True)"
   ]
  },
  {
   "cell_type": "code",
   "execution_count": 3,
   "metadata": {},
   "outputs": [],
   "source": [
    "path_train_data = \"R:/IISc/Sem 2/PRNN/Assignments/assignment-3-files/MNIST/mnist-rot_training_data.mat\"\n",
    "path_train_label = \"R:/IISc/Sem 2/PRNN/Assignments/assignment-3-files/MNIST/mnist-rot_training_label.mat\"\n",
    "path_test_data = \"R:/IISc/Sem 2/PRNN/Assignments/assignment-3-files/MNIST/mnist-rot_test_data.mat\"\n",
    "path_test_label = \"R:/IISc/Sem 2/PRNN/Assignments/assignment-3-files/MNIST/mnist-rot_test_label.mat\""
   ]
  },
  {
   "cell_type": "code",
   "execution_count": 4,
   "metadata": {},
   "outputs": [],
   "source": [
    "train_data_mat = loadmat(path_train_data)\n",
    "train_data = train_data_mat['train_data']\n",
    "\n",
    "train_label_mat = loadmat(path_train_label)\n",
    "train_label = train_label_mat['train_label']\n",
    "\n",
    "test_data_mat = loadmat(path_test_data)\n",
    "test_data = test_data_mat['test_data']\n",
    "\n",
    "test_label_mat = loadmat(path_test_label)\n",
    "test_label = test_label_mat['test_label']"
   ]
  },
  {
   "cell_type": "code",
   "execution_count": 5,
   "metadata": {},
   "outputs": [
    {
     "data": {
      "text/plain": [
       "<matplotlib.image.AxesImage at 0x2ae054bee80>"
      ]
     },
     "execution_count": 5,
     "metadata": {},
     "output_type": "execute_result"
    },
    {
     "data": {
      "image/png": "[encoded data removed]",
      "text/plain": [
       "<Figure size 432x288 with 1 Axes>"
      ]
     },
     "metadata": {
      "needs_background": "light"
     },
     "output_type": "display_data"
    }
   ],
   "source": [
    "plt.imshow(train_data[0], cmap='gray')"
   ]
  },
  {
   "cell_type": "code",
   "execution_count": 6,
   "metadata": {},
   "outputs": [],
   "source": [
    "train_data = train_data.reshape(train_data.shape[0], 784)\n",
    "test_data = test_data.reshape(test_data.shape[0], 784)\n",
    "train_label = train_label.T\n",
    "test_label = test_label.T"
   ]
  },
  {
   "cell_type": "code",
   "execution_count": 7,
   "metadata": {},
   "outputs": [
    {
     "data": {
      "text/plain": [
       "(12000, 1)"
      ]
     },
     "execution_count": 7,
     "metadata": {},
     "output_type": "execute_result"
    }
   ],
   "source": [
    "train_label.shape"
   ]
  },
  {
   "cell_type": "code",
   "execution_count": 8,
   "metadata": {},
   "outputs": [
    {
     "data": {
      "text/plain": [
       "(12000, 784)"
      ]
     },
     "execution_count": 8,
     "metadata": {},
     "output_type": "execute_result"
    }
   ],
   "source": [
    "train_data.shape"
   ]
  },
  {
   "cell_type": "code",
   "execution_count": 9,
   "metadata": {},
   "outputs": [],
   "source": [
    "# from sklearn.model_selection import train_test_split\n",
    "# train_data, _, train_label, _ = train_test_split(train_data, train_label, test_size=0.6)"
   ]
  },
  {
   "cell_type": "code",
   "execution_count": 10,
   "metadata": {},
   "outputs": [],
   "source": [
    "from sklearn.preprocessing import StandardScaler\n",
    "scaler = StandardScaler()\n",
    "X_train = scaler.fit_transform(train_data)\n",
    "X_test = scaler.transform(test_data)\n",
    "# X_train = X_train.reshape((X_train.shape[0], 28, 28, 1))\n",
    "# X_test = X_test.reshape((X_test.shape[0], 28, 28, 1))"
   ]
  },
  {
   "cell_type": "code",
   "execution_count": 11,
   "metadata": {},
   "outputs": [
    {
     "data": {
      "text/plain": [
       "(12000, 784)"
      ]
     },
     "execution_count": 11,
     "metadata": {},
     "output_type": "execute_result"
    }
   ],
   "source": [
    "X_train.shape"
   ]
  },
  {
   "cell_type": "code",
   "execution_count": 12,
   "metadata": {},
   "outputs": [],
   "source": [
    "from sklearn.preprocessing import OneHotEncoder\n",
    "ohe = OneHotEncoder()\n",
    "y_train = ohe.fit_transform(train_label).toarray()\n",
    "y_test = ohe.fit_transform(test_label).toarray()"
   ]
  },
  {
   "cell_type": "code",
   "execution_count": 22,
   "metadata": {},
   "outputs": [
    {
     "name": "stdout",
     "output_type": "stream",
     "text": [
      "Model: \"sequential_1\"\n",
      "_________________________________________________________________\n",
      "Layer (type)                 Output Shape              Param #   \n",
      "=================================================================\n",
      "dense_3 (Dense)              (None, 64)                50240     \n",
      "_________________________________________________________________\n",
      "leaky_re_lu_2 (LeakyReLU)    (None, 64)                0         \n",
      "_________________________________________________________________\n",
      "dropout_2 (Dropout)          (None, 64)                0         \n",
      "_________________________________________________________________\n",
      "dense_4 (Dense)              (None, 128)               8320      \n",
      "_________________________________________________________________\n",
      "leaky_re_lu_3 (LeakyReLU)    (None, 128)               0         \n",
      "_________________________________________________________________\n",
      "dropout_3 (Dropout)          (None, 128)               0         \n",
      "_________________________________________________________________\n",
      "dense_5 (Dense)              (None, 10)                1290      \n",
      "=================================================================\n",
      "Total params: 59,850\n",
      "Trainable params: 59,850\n",
      "Non-trainable params: 0\n",
      "_________________________________________________________________\n"
     ]
    }
   ],
   "source": [
    "lam = tf.keras.regularizers.l2(l=0.01)\n",
    "init = tf.initializers.he_normal()\n",
    "model = tf.keras.Sequential([\n",
    "    tf.keras.layers.Dense(64, input_dim=784, kernel_initializer=init, kernel_regularizer=lam),\n",
    "    tf.keras.layers.LeakyReLU(0.1),\n",
    "    # tf.keras.layers.BatchNormalization(),\n",
    "    tf.keras.layers.Dropout(0.1),\n",
    "\n",
    "    tf.keras.layers.Dense(128, kernel_initializer=init, kernel_regularizer=lam),\n",
    "    tf.keras.layers.LeakyReLU(0.1),\n",
    "    # tf.keras.layers.BatchNormalization(),\n",
    "    tf.keras.layers.Dropout(0.1),\n",
    "\n",
    "    # tf.keras.layers.Dense(64, kernel_initializer=init, kernel_regularizer=lam),\n",
    "    # tf.keras.layers.ReLU(),\n",
    "    # tf.keras.layers.Dropout(0.2),\n",
    "\n",
    "    # tf.keras.layers.Dense(32, kernel_initializer=init, kernel_regularizer=lam),\n",
    "    # tf.keras.layers.ReLU(),\n",
    "    # tf.keras.layers.Dropout(0.1),\n",
    "\n",
    "    tf.keras.layers.Dense(10, activation='softmax')\n",
    "])\n",
    "model.summary()"
   ]
  },
  {
   "cell_type": "code",
   "execution_count": 23,
   "metadata": {},
   "outputs": [],
   "source": [
    "# lam = tf.keras.regularizers.l1(l=0.001)\n",
    "# # lam_2 = tf.keras.regularizers.l2(l=0.01)\n",
    "# init = tf.initializers.he_normal()\n",
    "# model = tf.keras.models.Sequential([\n",
    "#     tf.keras.layers.Conv2D(8, (3, 3), padding='same', kernel_initializer=init, input_shape=(28, 28, 1), kernel_regularizer=lam),\n",
    "#     # tf.keras.layers.BatchNormalization(),\n",
    "#     # tf.keras.layers.ReLU(),\n",
    "#     tf.keras.layers.LeakyReLU(0.1),\n",
    "\n",
    "#     tf.keras.layers.Conv2D(16, (3, 3), padding='same', kernel_initializer=init, kernel_regularizer=lam),\n",
    "#     # tf.keras.layers.BatchNormalization(),\n",
    "#     # tf.keras.layers.ReLU(),\n",
    "#     tf.keras.layers.LeakyReLU(0.1),\n",
    "\n",
    "#     tf.keras.layers.MaxPool2D((2, 2)),\n",
    "\n",
    "#     tf.keras.layers.Conv2D(32, (3, 3), padding='same', kernel_initializer=init, kernel_regularizer=lam),\n",
    "#     # tf.keras.layers.BatchNormalization(),\n",
    "#     # tf.keras.layers.ReLU(),\n",
    "#     tf.keras.layers.LeakyReLU(0.1),\n",
    "\n",
    "#     tf.keras.layers.Conv2D(64, (3, 3), padding='same', kernel_initializer=init, kernel_regularizer=lam),\n",
    "#     # tf.keras.layers.BatchNormalization(),\n",
    "#     # tf.keras.layers.ReLU(),\n",
    "#     tf.keras.layers.LeakyReLU(0.1),\n",
    "\n",
    "#     tf.keras.layers.MaxPool2D((2, 2)),\n",
    "\n",
    "#     tf.keras.layers.Conv2D(96, (3, 3), padding='same', kernel_initializer=init, kernel_regularizer=lam),\n",
    "#     # tf.keras.layers.BatchNormalization(),\n",
    "#     # tf.keras.layers.ReLU(),\n",
    "#     tf.keras.layers.LeakyReLU(0.1),\n",
    "\n",
    "#     tf.keras.layers.Conv2D(128, (3, 3), padding='same', kernel_initializer=init, kernel_regularizer=lam),\n",
    "#     # tf.keras.layers.BatchNormalization(),\n",
    "#     # tf.keras.layers.ReLU(),\n",
    "#     tf.keras.layers.LeakyReLU(0.1),\n",
    "\n",
    "#     tf.keras.layers.MaxPool2D((2, 2)),\n",
    "\n",
    "#     tf.keras.layers.Flatten(),\n",
    "#     tf.keras.layers.Dropout(0.2),\n",
    "\n",
    "#     tf.keras.layers.Dense(64, kernel_initializer=init, kernel_regularizer=lam),\n",
    "#     # tf.keras.layers.ReLU(),\n",
    "#     tf.keras.layers.LeakyReLU(0.1),\n",
    "#     tf.keras.layers.Dropout(0.2),\n",
    "    \n",
    "#     tf.keras.layers.Dense(10, activation='softmax', kernel_initializer=init, kernel_regularizer=lam)\n",
    "# ])\n",
    "# model.summary()"
   ]
  },
  {
   "cell_type": "code",
   "execution_count": 24,
   "metadata": {},
   "outputs": [],
   "source": [
    "opt = tf.keras.optimizers.Adam(learning_rate=0.01)\n",
    "reduce_lr = tf.keras.callbacks.ReduceLROnPlateau(patience=5)\n",
    "model.compile(loss='categorical_crossentropy', optimizer='adam', metrics=['accuracy'])"
   ]
  },
  {
   "cell_type": "code",
   "execution_count": 25,
   "metadata": {},
   "outputs": [],
   "source": [
    "from sklearn.model_selection import train_test_split\n",
    "X_train, X_valid, y_train, y_valid = train_test_split(X_train, y_train, test_size=0.1)"
   ]
  },
  {
   "cell_type": "code",
   "execution_count": 26,
   "metadata": {},
   "outputs": [
    {
     "name": "stdout",
     "output_type": "stream",
     "text": [
      "Epoch 1/100\n",
      "304/304 [==============================] - 2s 4ms/step - loss: 5.0259 - accuracy: 0.3499 - val_loss: 2.9175 - val_accuracy: 0.5806\n",
      "Epoch 2/100\n",
      "304/304 [==============================] - 1s 3ms/step - loss: 2.5735 - accuracy: 0.5913 - val_loss: 1.9236 - val_accuracy: 0.6343\n",
      "Epoch 3/100\n",
      "304/304 [==============================] - 1s 3ms/step - loss: 1.7654 - accuracy: 0.6584 - val_loss: 1.5100 - val_accuracy: 0.6907\n",
      "Epoch 4/100\n",
      "304/304 [==============================] - 1s 3ms/step - loss: 1.4471 - accuracy: 0.6910 - val_loss: 1.3504 - val_accuracy: 0.7056\n",
      "Epoch 5/100\n",
      "304/304 [==============================] - 1s 3ms/step - loss: 1.2505 - accuracy: 0.7263 - val_loss: 1.3123 - val_accuracy: 0.6898\n",
      "Epoch 6/100\n",
      "304/304 [==============================] - 1s 3ms/step - loss: 1.1778 - accuracy: 0.7406 - val_loss: 1.2631 - val_accuracy: 0.7222\n",
      "Epoch 7/100\n",
      "304/304 [==============================] - 1s 3ms/step - loss: 1.1342 - accuracy: 0.7586 - val_loss: 1.2132 - val_accuracy: 0.7361\n",
      "Epoch 8/100\n",
      "304/304 [==============================] - 1s 3ms/step - loss: 1.0949 - accuracy: 0.7612 - val_loss: 1.1762 - val_accuracy: 0.7435\n",
      "Epoch 9/100\n",
      "304/304 [==============================] - 1s 3ms/step - loss: 1.0603 - accuracy: 0.7760 - val_loss: 1.1464 - val_accuracy: 0.7583\n",
      "Epoch 10/100\n",
      "304/304 [==============================] - 1s 3ms/step - loss: 1.0242 - accuracy: 0.7888 - val_loss: 1.1584 - val_accuracy: 0.7574\n",
      "Epoch 11/100\n",
      "304/304 [==============================] - 1s 3ms/step - loss: 1.0253 - accuracy: 0.7884 - val_loss: 1.1256 - val_accuracy: 0.7537\n",
      "Epoch 12/100\n",
      "304/304 [==============================] - 1s 3ms/step - loss: 0.9903 - accuracy: 0.7988 - val_loss: 1.1258 - val_accuracy: 0.7454\n",
      "Epoch 13/100\n",
      "304/304 [==============================] - 1s 3ms/step - loss: 0.9842 - accuracy: 0.7978 - val_loss: 1.1178 - val_accuracy: 0.7676\n",
      "Epoch 14/100\n",
      "304/304 [==============================] - 1s 3ms/step - loss: 0.9626 - accuracy: 0.8042 - val_loss: 1.1222 - val_accuracy: 0.7509\n",
      "Epoch 15/100\n",
      "304/304 [==============================] - 1s 3ms/step - loss: 0.9400 - accuracy: 0.8157 - val_loss: 1.1016 - val_accuracy: 0.7667\n",
      "Epoch 16/100\n",
      "304/304 [==============================] - 1s 4ms/step - loss: 0.9337 - accuracy: 0.8119 - val_loss: 1.1047 - val_accuracy: 0.7796\n",
      "Epoch 17/100\n",
      "304/304 [==============================] - 1s 4ms/step - loss: 0.9398 - accuracy: 0.8201 - val_loss: 1.0946 - val_accuracy: 0.7787\n",
      "Epoch 18/100\n",
      "304/304 [==============================] - 1s 4ms/step - loss: 0.9238 - accuracy: 0.8250 - val_loss: 1.0982 - val_accuracy: 0.7685\n",
      "Epoch 19/100\n",
      "304/304 [==============================] - 1s 3ms/step - loss: 0.9092 - accuracy: 0.8255 - val_loss: 1.1175 - val_accuracy: 0.7694\n",
      "Epoch 20/100\n",
      "304/304 [==============================] - 1s 4ms/step - loss: 0.9143 - accuracy: 0.8214 - val_loss: 1.0622 - val_accuracy: 0.7796\n",
      "Epoch 21/100\n",
      "304/304 [==============================] - 1s 3ms/step - loss: 0.8996 - accuracy: 0.8267 - val_loss: 1.0933 - val_accuracy: 0.7694\n",
      "Epoch 22/100\n",
      "304/304 [==============================] - 1s 3ms/step - loss: 0.8836 - accuracy: 0.8274 - val_loss: 1.0703 - val_accuracy: 0.7759\n",
      "Epoch 23/100\n",
      "304/304 [==============================] - 1s 4ms/step - loss: 0.9074 - accuracy: 0.8223 - val_loss: 1.0767 - val_accuracy: 0.7704\n",
      "Epoch 24/100\n",
      "304/304 [==============================] - 1s 3ms/step - loss: 0.8873 - accuracy: 0.8274 - val_loss: 1.0629 - val_accuracy: 0.7833\n",
      "Epoch 25/100\n",
      "304/304 [==============================] - 1s 3ms/step - loss: 0.8689 - accuracy: 0.8317 - val_loss: 1.1051 - val_accuracy: 0.7722\n",
      "Epoch 26/100\n",
      "304/304 [==============================] - 1s 3ms/step - loss: 0.8658 - accuracy: 0.8353 - val_loss: 1.0712 - val_accuracy: 0.7870\n",
      "Epoch 27/100\n",
      "304/304 [==============================] - 1s 3ms/step - loss: 0.8503 - accuracy: 0.8365 - val_loss: 1.0970 - val_accuracy: 0.7694\n",
      "Epoch 28/100\n",
      "304/304 [==============================] - 1s 3ms/step - loss: 0.8674 - accuracy: 0.8308 - val_loss: 1.1347 - val_accuracy: 0.7694\n",
      "Epoch 29/100\n",
      "304/304 [==============================] - 1s 3ms/step - loss: 0.8519 - accuracy: 0.8423 - val_loss: 1.0473 - val_accuracy: 0.7963\n",
      "Epoch 30/100\n",
      "304/304 [==============================] - 1s 3ms/step - loss: 0.8406 - accuracy: 0.8424 - val_loss: 1.0537 - val_accuracy: 0.7769\n",
      "Epoch 31/100\n",
      "304/304 [==============================] - 1s 3ms/step - loss: 0.8467 - accuracy: 0.8395 - val_loss: 1.0358 - val_accuracy: 0.7926\n",
      "Epoch 32/100\n",
      "304/304 [==============================] - 1s 3ms/step - loss: 0.8404 - accuracy: 0.8431 - val_loss: 1.0564 - val_accuracy: 0.7972\n",
      "Epoch 33/100\n",
      "304/304 [==============================] - 1s 3ms/step - loss: 0.8507 - accuracy: 0.8432 - val_loss: 1.0547 - val_accuracy: 0.7852\n",
      "Epoch 34/100\n",
      "304/304 [==============================] - 1s 3ms/step - loss: 0.8445 - accuracy: 0.8409 - val_loss: 1.0719 - val_accuracy: 0.7861\n",
      "Epoch 35/100\n",
      "304/304 [==============================] - 1s 3ms/step - loss: 0.8442 - accuracy: 0.8428 - val_loss: 1.0795 - val_accuracy: 0.7778\n",
      "Epoch 36/100\n",
      "304/304 [==============================] - 1s 3ms/step - loss: 0.8324 - accuracy: 0.8522 - val_loss: 1.0927 - val_accuracy: 0.7787\n",
      "Epoch 37/100\n",
      "304/304 [==============================] - 1s 3ms/step - loss: 0.8256 - accuracy: 0.8455 - val_loss: 1.0489 - val_accuracy: 0.7731\n",
      "Epoch 38/100\n",
      "304/304 [==============================] - 1s 3ms/step - loss: 0.8321 - accuracy: 0.8453 - val_loss: 1.0291 - val_accuracy: 0.8046\n",
      "Epoch 39/100\n",
      "304/304 [==============================] - 1s 3ms/step - loss: 0.7968 - accuracy: 0.8530 - val_loss: 1.0696 - val_accuracy: 0.7843\n",
      "Epoch 40/100\n",
      "304/304 [==============================] - 1s 3ms/step - loss: 0.8053 - accuracy: 0.8518 - val_loss: 1.0268 - val_accuracy: 0.7926\n",
      "Epoch 41/100\n",
      "304/304 [==============================] - 1s 3ms/step - loss: 0.8098 - accuracy: 0.8526 - val_loss: 1.0373 - val_accuracy: 0.7898\n",
      "Epoch 42/100\n",
      "304/304 [==============================] - 1s 3ms/step - loss: 0.8102 - accuracy: 0.8483 - val_loss: 1.0233 - val_accuracy: 0.7926\n",
      "Epoch 43/100\n",
      "304/304 [==============================] - 1s 3ms/step - loss: 0.8334 - accuracy: 0.8465 - val_loss: 1.0271 - val_accuracy: 0.8019\n",
      "Epoch 44/100\n",
      "304/304 [==============================] - 1s 3ms/step - loss: 0.8166 - accuracy: 0.8557 - val_loss: 1.0190 - val_accuracy: 0.8009\n",
      "Epoch 45/100\n",
      "304/304 [==============================] - 1s 4ms/step - loss: 0.7933 - accuracy: 0.8592 - val_loss: 1.0441 - val_accuracy: 0.8046\n",
      "Epoch 46/100\n",
      "304/304 [==============================] - 1s 3ms/step - loss: 0.7931 - accuracy: 0.8600 - val_loss: 1.0613 - val_accuracy: 0.7954\n",
      "Epoch 47/100\n",
      "304/304 [==============================] - 1s 3ms/step - loss: 0.7904 - accuracy: 0.8605 - val_loss: 1.0519 - val_accuracy: 0.7880\n",
      "Epoch 48/100\n",
      "304/304 [==============================] - 1s 3ms/step - loss: 0.8145 - accuracy: 0.8562 - val_loss: 1.0250 - val_accuracy: 0.7796\n",
      "Epoch 49/100\n",
      "304/304 [==============================] - 1s 3ms/step - loss: 0.8062 - accuracy: 0.8561 - val_loss: 1.0743 - val_accuracy: 0.7870\n",
      "Epoch 50/100\n",
      "304/304 [==============================] - 1s 3ms/step - loss: 0.8107 - accuracy: 0.8504 - val_loss: 1.0181 - val_accuracy: 0.8000\n",
      "Epoch 51/100\n",
      "304/304 [==============================] - 1s 3ms/step - loss: 0.7739 - accuracy: 0.8641 - val_loss: 1.0454 - val_accuracy: 0.8093\n",
      "Epoch 52/100\n",
      "304/304 [==============================] - 1s 3ms/step - loss: 0.7701 - accuracy: 0.8686 - val_loss: 0.9985 - val_accuracy: 0.8019\n",
      "Epoch 53/100\n",
      "304/304 [==============================] - 1s 3ms/step - loss: 0.7770 - accuracy: 0.8662 - val_loss: 1.0569 - val_accuracy: 0.7954\n",
      "Epoch 54/100\n",
      "304/304 [==============================] - 1s 3ms/step - loss: 0.7937 - accuracy: 0.8559 - val_loss: 1.0829 - val_accuracy: 0.8019\n",
      "Epoch 55/100\n",
      "304/304 [==============================] - 1s 3ms/step - loss: 0.8238 - accuracy: 0.8596 - val_loss: 1.0302 - val_accuracy: 0.8028\n",
      "Epoch 56/100\n",
      "304/304 [==============================] - 1s 3ms/step - loss: 0.7820 - accuracy: 0.8622 - val_loss: 1.0369 - val_accuracy: 0.8065\n",
      "Epoch 57/100\n",
      "304/304 [==============================] - 1s 3ms/step - loss: 0.7757 - accuracy: 0.8621 - val_loss: 1.0251 - val_accuracy: 0.8056\n",
      "Epoch 58/100\n",
      "304/304 [==============================] - 1s 3ms/step - loss: 0.7781 - accuracy: 0.8658 - val_loss: 1.0074 - val_accuracy: 0.8065\n",
      "Epoch 59/100\n",
      "304/304 [==============================] - 1s 3ms/step - loss: 0.7823 - accuracy: 0.8662 - val_loss: 1.0059 - val_accuracy: 0.8046\n",
      "Epoch 60/100\n",
      "304/304 [==============================] - 1s 3ms/step - loss: 0.7841 - accuracy: 0.8579 - val_loss: 1.0275 - val_accuracy: 0.8019\n",
      "Epoch 61/100\n",
      "304/304 [==============================] - 1s 4ms/step - loss: 0.7681 - accuracy: 0.8722 - val_loss: 1.0244 - val_accuracy: 0.7972\n",
      "Epoch 62/100\n",
      "304/304 [==============================] - 1s 3ms/step - loss: 0.7562 - accuracy: 0.8748 - val_loss: 0.9970 - val_accuracy: 0.8111\n",
      "Epoch 63/100\n",
      "304/304 [==============================] - 1s 3ms/step - loss: 0.7635 - accuracy: 0.8718 - val_loss: 1.1484 - val_accuracy: 0.7907\n",
      "Epoch 64/100\n",
      "304/304 [==============================] - 1s 3ms/step - loss: 0.7567 - accuracy: 0.8767 - val_loss: 1.0594 - val_accuracy: 0.8028\n",
      "Epoch 65/100\n",
      "304/304 [==============================] - 1s 3ms/step - loss: 0.7644 - accuracy: 0.8769 - val_loss: 1.0491 - val_accuracy: 0.8074\n",
      "Epoch 66/100\n",
      "304/304 [==============================] - 1s 3ms/step - loss: 0.7675 - accuracy: 0.8708 - val_loss: 1.0532 - val_accuracy: 0.8028\n",
      "Epoch 67/100\n",
      "304/304 [==============================] - 1s 4ms/step - loss: 0.7723 - accuracy: 0.8662 - val_loss: 0.9956 - val_accuracy: 0.8176\n",
      "Epoch 68/100\n",
      "304/304 [==============================] - 1s 3ms/step - loss: 0.7594 - accuracy: 0.8734 - val_loss: 0.9946 - val_accuracy: 0.8231\n",
      "Epoch 69/100\n",
      "304/304 [==============================] - 1s 3ms/step - loss: 0.7508 - accuracy: 0.8696 - val_loss: 0.9867 - val_accuracy: 0.8213\n",
      "Epoch 70/100\n",
      "304/304 [==============================] - 1s 3ms/step - loss: 0.7586 - accuracy: 0.8701 - val_loss: 1.0454 - val_accuracy: 0.7963\n",
      "Epoch 71/100\n",
      "304/304 [==============================] - 1s 3ms/step - loss: 0.7746 - accuracy: 0.8659 - val_loss: 1.0374 - val_accuracy: 0.8065\n",
      "Epoch 72/100\n",
      "304/304 [==============================] - 1s 3ms/step - loss: 0.7624 - accuracy: 0.8718 - val_loss: 1.0401 - val_accuracy: 0.8148\n",
      "Epoch 73/100\n",
      "304/304 [==============================] - 1s 3ms/step - loss: 0.7586 - accuracy: 0.8773 - val_loss: 1.0359 - val_accuracy: 0.8009\n",
      "Epoch 74/100\n",
      "304/304 [==============================] - 1s 3ms/step - loss: 0.7488 - accuracy: 0.8751 - val_loss: 1.0603 - val_accuracy: 0.7796\n",
      "Epoch 75/100\n",
      "304/304 [==============================] - 1s 3ms/step - loss: 0.7552 - accuracy: 0.8735 - val_loss: 0.9935 - val_accuracy: 0.8139\n",
      "Epoch 76/100\n",
      "304/304 [==============================] - 1s 3ms/step - loss: 0.7570 - accuracy: 0.8684 - val_loss: 1.0225 - val_accuracy: 0.8083\n",
      "Epoch 77/100\n",
      "304/304 [==============================] - 1s 3ms/step - loss: 0.7750 - accuracy: 0.8685 - val_loss: 0.9995 - val_accuracy: 0.8130\n",
      "Epoch 78/100\n",
      "304/304 [==============================] - 1s 3ms/step - loss: 0.7314 - accuracy: 0.8830 - val_loss: 1.0078 - val_accuracy: 0.8148\n",
      "Epoch 79/100\n",
      "304/304 [==============================] - 1s 3ms/step - loss: 0.7408 - accuracy: 0.8848 - val_loss: 1.0040 - val_accuracy: 0.8194\n",
      "Epoch 80/100\n",
      "304/304 [==============================] - 1s 3ms/step - loss: 0.7745 - accuracy: 0.8660 - val_loss: 1.0122 - val_accuracy: 0.8259\n",
      "Epoch 81/100\n",
      "304/304 [==============================] - 1s 3ms/step - loss: 0.7728 - accuracy: 0.8675 - val_loss: 1.0596 - val_accuracy: 0.7907\n",
      "Epoch 82/100\n",
      "304/304 [==============================] - 1s 3ms/step - loss: 0.7310 - accuracy: 0.8777 - val_loss: 1.0608 - val_accuracy: 0.7917\n",
      "Epoch 83/100\n",
      "304/304 [==============================] - 1s 3ms/step - loss: 0.7802 - accuracy: 0.8624 - val_loss: 1.0824 - val_accuracy: 0.7926\n",
      "Epoch 84/100\n",
      "304/304 [==============================] - 1s 3ms/step - loss: 0.7502 - accuracy: 0.8762 - val_loss: 1.0166 - val_accuracy: 0.8194\n",
      "Epoch 85/100\n",
      "304/304 [==============================] - 1s 3ms/step - loss: 0.7311 - accuracy: 0.8822 - val_loss: 1.0732 - val_accuracy: 0.7824\n",
      "Epoch 86/100\n",
      "304/304 [==============================] - 1s 4ms/step - loss: 0.7546 - accuracy: 0.8726 - val_loss: 1.0402 - val_accuracy: 0.7981\n",
      "Epoch 87/100\n",
      "304/304 [==============================] - 1s 3ms/step - loss: 0.7321 - accuracy: 0.8825 - val_loss: 1.0630 - val_accuracy: 0.7935\n",
      "Epoch 88/100\n",
      "304/304 [==============================] - 1s 3ms/step - loss: 0.7598 - accuracy: 0.8684 - val_loss: 1.1040 - val_accuracy: 0.7898\n",
      "Epoch 89/100\n",
      "304/304 [==============================] - 1s 3ms/step - loss: 0.7532 - accuracy: 0.8755 - val_loss: 1.0241 - val_accuracy: 0.8056\n",
      "Epoch 90/100\n",
      "304/304 [==============================] - 1s 3ms/step - loss: 0.7694 - accuracy: 0.8770 - val_loss: 1.0141 - val_accuracy: 0.8009\n",
      "Epoch 91/100\n",
      "304/304 [==============================] - 1s 3ms/step - loss: 0.7444 - accuracy: 0.8768 - val_loss: 1.0401 - val_accuracy: 0.7991\n",
      "Epoch 92/100\n",
      "304/304 [==============================] - 1s 3ms/step - loss: 0.7360 - accuracy: 0.8759 - val_loss: 1.0242 - val_accuracy: 0.7963\n",
      "Epoch 93/100\n",
      "304/304 [==============================] - 1s 4ms/step - loss: 0.7394 - accuracy: 0.8772 - val_loss: 0.9736 - val_accuracy: 0.8306\n",
      "Epoch 94/100\n",
      "304/304 [==============================] - 1s 3ms/step - loss: 0.7350 - accuracy: 0.8777 - val_loss: 0.9926 - val_accuracy: 0.8167\n",
      "Epoch 95/100\n",
      "304/304 [==============================] - 1s 3ms/step - loss: 0.7417 - accuracy: 0.8808 - val_loss: 1.0254 - val_accuracy: 0.8185\n",
      "Epoch 96/100\n",
      "304/304 [==============================] - 1s 3ms/step - loss: 0.7468 - accuracy: 0.8778 - val_loss: 1.0998 - val_accuracy: 0.8037\n",
      "Epoch 97/100\n",
      "304/304 [==============================] - 1s 3ms/step - loss: 0.7595 - accuracy: 0.8762 - val_loss: 1.0271 - val_accuracy: 0.8019\n",
      "Epoch 98/100\n",
      "304/304 [==============================] - 1s 3ms/step - loss: 0.7468 - accuracy: 0.8712 - val_loss: 0.9895 - val_accuracy: 0.8102\n",
      "Epoch 99/100\n",
      "304/304 [==============================] - 1s 3ms/step - loss: 0.7480 - accuracy: 0.8722 - val_loss: 1.0833 - val_accuracy: 0.7861\n",
      "Epoch 100/100\n",
      "304/304 [==============================] - 1s 3ms/step - loss: 0.7427 - accuracy: 0.8791 - val_loss: 0.9870 - val_accuracy: 0.8222\n"
     ]
    }
   ],
   "source": [
    "history = model.fit(X_train, y_train, epochs=100, batch_size=32, validation_data=(X_valid, y_valid), shuffle=True, callbacks=[])"
   ]
  },
  {
   "cell_type": "code",
   "execution_count": 27,
   "metadata": {},
   "outputs": [],
   "source": [
    "y_pred = model.predict(X_test)\n",
    "#Converting predictions to label\n",
    "pred = list()\n",
    "for i in range(len(y_pred)):\n",
    "    pred.append(np.argmax(y_pred[i]))\n",
    "#Converting one hot encoded test label to label\n",
    "test = list()\n",
    "for i in range(len(y_test)):\n",
    "    test.append(np.argmax(y_test[i]))"
   ]
  },
  {
   "cell_type": "code",
   "execution_count": 28,
   "metadata": {},
   "outputs": [
    {
     "name": "stdout",
     "output_type": "stream",
     "text": [
      "Accuracy is: 80.64\n"
     ]
    }
   ],
   "source": [
    "from sklearn.metrics import accuracy_score, confusion_matrix\n",
    "a = accuracy_score(pred,test)\n",
    "print('Accuracy is:', a*100)"
   ]
  },
  {
   "cell_type": "code",
   "execution_count": 29,
   "metadata": {},
   "outputs": [
    {
     "data": {
      "text/plain": [
       "<AxesSubplot:>"
      ]
     },
     "execution_count": 29,
     "metadata": {},
     "output_type": "execute_result"
    },
    {
     "data": {
      "image/png": "[encoded data removed]",
      "text/plain": [
       "<Figure size 432x288 with 2 Axes>"
      ]
     },
     "metadata": {
      "needs_background": "light"
     },
     "output_type": "display_data"
    }
   ],
   "source": [
    "sns.heatmap(confusion_matrix(pred, test), annot=True, fmt='g', cmap='Blues')"
   ]
  },
  {
   "cell_type": "code",
   "execution_count": 30,
   "metadata": {},
   "outputs": [
    {
     "data": {
      "image/png": "[encoded data removed]",
      "text/plain": [
       "<Figure size 432x288 with 1 Axes>"
      ]
     },
     "metadata": {
      "needs_background": "light"
     },
     "output_type": "display_data"
    }
   ],
   "source": [
    "plt.plot(history.history['accuracy'])\n",
    "plt.plot(history.history['val_accuracy'])\n",
    "plt.title('model accuracy')\n",
    "plt.ylabel('accuracy')\n",
    "plt.xlabel('epoch')\n",
    "# plt.xticks([i for i in range(25)])\n",
    "plt.legend(['train', 'val'], loc='upper left')\n",
    "plt.show()"
   ]
  },
  {
   "cell_type": "code",
   "execution_count": 31,
   "metadata": {},
   "outputs": [
    {
     "data": {
      "image/png": "[encoded data removed]",
      "text/plain": [
       "<Figure size 432x288 with 1 Axes>"
      ]
     },
     "metadata": {
      "needs_background": "light"
     },
     "output_type": "display_data"
    }
   ],
   "source": [
    "plt.plot(history.history['loss'])\n",
    "plt.plot(history.history['val_loss'])\n",
    "plt.title('model loss')\n",
    "plt.ylabel('loss')\n",
    "plt.xlabel('epoch')\n",
    "# plt.xticks([i for i in range(25)])\n",
    "plt.legend(['train', 'val'], loc='upper left')\n",
    "plt.show()"
   ]
  },
  {
   "cell_type": "code",
   "execution_count": null,
   "metadata": {},
   "outputs": [],
   "source": []
  },
  {
   "cell_type": "code",
   "execution_count": null,
   "metadata": {},
   "outputs": [],
   "source": []
  }
 ],
 "metadata": {
  "kernelspec": {
   "display_name": "Python 3",
   "language": "python",
   "name": "python3"
  },
  "language_info": {
   "codemirror_mode": {
    "name": "ipython",
    "version": 3
   },
   "file_extension": ".py",
   "mimetype": "text/x-python",
   "name": "python",
   "nbconvert_exporter": "python",
   "pygments_lexer": "ipython3",
   "version": "3.8.0"
  }
 },
 "nbformat": 4,
 "nbformat_minor": 4
}
